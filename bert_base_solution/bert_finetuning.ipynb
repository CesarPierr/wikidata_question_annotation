{
 "cells": [
  {
   "cell_type": "markdown",
   "metadata": {
    "id": "8VR5HjXwNuvX"
   },
   "source": [
    "## <center> École Polytechnique de Montréal <br> Département Génie Informatique et Génie Logiciel <br>  INF8460 – Traitement automatique de la langue naturelle <br> </center>\n",
    "## <center> TP4  - Annotation de questions avec Wikidata <br>  Automne 2023 </center>"
   ]
  },
  {
   "cell_type": "markdown",
   "metadata": {
    "id": "XucTbTqIN3H2"
   },
   "source": [
    "## 1. DESCRIPTION\n",
    "\n",
    "Dans le cadre de ce projet, vous effectuerez une annotation de questions en langue naturelle en utilisant différents modèles avec pour objectif ultime de proposer une méthode qui dépasse les performances des équipes concurrentes.\n",
    "\n",
    "Par exemple, étant donnée la question:\n",
    "What is the country for head of state of Justin Trudeau ?\n",
    "Votre modèle devra retourner :\n",
    "what is the <\\<wd:Q6256\\>> for <\\<wdt:P35\\>> of <\\<wd:Q3099714\\>> ?\n",
    "\n",
    "Les éléments ayant pour préfixe wd sont des URIs de Wikidata. Par exemple wd:Q6256 correspond à l'URI https://www.wikidata.org/wiki/Q6256\n",
    "\n",
    "Wikidata est une base de données collaborative et structurée qui fait partie du projet Wikimedia, tout comme Wikipédia. Contrairement à Wikipédia, qui se concentre sur la création et la gestion de contenu encyclopédique, Wikidata se spécialise dans la collecte et la gestion de données structurées.\n",
    "\n",
    "**Ressources Wikidata :**\n",
    "\n",
    "Les ressources sont des entités du monde réel avec un identifiant unique précédé du préfixe \"wd\".\n",
    "\n",
    "Voici quelques exemples d'éléments :\n",
    "\n",
    "1. **La Tour Eiffel (Identifiant : Q243)** - Il s'agit d'un élément représentant la célèbre tour située à Paris.\n",
    "\n",
    "2. **Albert Einstein (Identifiant : Q937)** - C'est un élément qui représente le physicien renommé.\n",
    "\n",
    "3. **Mona Lisa (La Joconde) (Identifiant : Q12418)** - Un élément correspondant à l'œuvre d'art iconique de Leonardo da Vinci.\n",
    "\n",
    "**Propriétés Wikidata :**\n",
    "\n",
    "Les propriétés sont des caractéristiques ou des informations spécifiques associées aux éléments. Chaque propriété a un identifiant unique avec l'un des préfixes suivant: \"wdt\", \"ps\" ou \"pq\" et est utilisée pour décrire, quantifier ou qualifier les éléments. Voici des exemples de propriétés avec les éléments correspondants :\n",
    "\n",
    "1. **Hauteur (Propriété : P2049)** - Une propriété utilisée pour indiquer la hauteur d'une structure. Par exemple, la hauteur de la Tour Eiffel est stockée dans cette propriété.\n",
    "\n",
    "2. **Date de naissance (Propriété : P569)** - Une propriété pour enregistrer la date de naissance des individus. Par exemple, la date de naissance d'Albert Einstein est stockée grâce à cette propriété.\n",
    "\n",
    "3. **Créateur (Propriété : P170)** - Cette propriété est utilisée pour spécifier qui a créé une œuvre d'art. Dans le cas de la Mona Lisa, on associe cette propriété à l'élément correspondant pour indiquer que Leonardo da Vinci en est le créateur.\n",
    "\n",
    "\n",
    "Le jeu de données utilisé comprend des questions rédigées en langage naturel, ainsi que ces mêmes questions annotées avec des identifiants provenant de la base de connaissances Wikidata.\n",
    "\n",
    "Pour illustrer ce jeu de données, voici un exemple :\n",
    "\n",
    "| question_id |        question_raw        |                 question_original                 |              question_tagged               |\n",
    "| :---------: | :------------------------: | :---------------------------------------------: | :---------------------------------------: |\n",
    "|     1       | What is the country for head of state of Justin Trudeau | What is the {country} for {head of state} of {Justin Trudeau} | what is the <\\<wd:Q6256\\>> for <\\<wdt:P35\\>> of <\\<wd:Q3099714\\>> |\n",
    "\n",
    "\n",
    "Vous pouvez trouver la correspondance des éléments dans les liens suivants:\n",
    "- __{country}__ : https://www.wikidata.org/wiki/Q6256\n",
    "- __{head of state}__ : https://www.wikidata.org/wiki/Property:P35\n",
    "- __{Justin Trudeau}__ : https://www.wikidata.org/wiki/Q3099714  "
   ]
  },
  {
   "cell_type": "code",
   "execution_count": null,
   "metadata": {
    "colab": {
     "base_uri": "https://localhost:8080/"
    },
    "executionInfo": {
     "elapsed": 16428,
     "status": "ok",
     "timestamp": 1700595361136,
     "user": {
      "displayName": "pierre cesar",
      "userId": "06990152005228481993"
     },
     "user_tz": 300
    },
    "id": "itYJraqlOdtC",
    "outputId": "25593958-925b-42d0-cf5f-c3939fe11b43"
   },
   "outputs": [
    {
     "name": "stdout",
     "output_type": "stream",
     "text": [
      "CUDA Available?  True\n"
     ]
    }
   ],
   "source": [
    "import torch\n",
    "import numpy as np\n",
    "import pandas as pd\n",
    "import nltk\n",
    "import spacy\n",
    "import re\n",
    "import matplotlib.pyplot as plt\n",
    "from collections import Counter\n",
    "# Check if CUDA is available and test it\n",
    "cuda_available = torch.cuda.is_available()\n",
    "print(\"CUDA Available? \", cuda_available)"
   ]
  },
  {
   "cell_type": "code",
   "execution_count": null,
   "metadata": {
    "colab": {
     "base_uri": "https://localhost:8080/"
    },
    "executionInfo": {
     "elapsed": 1053,
     "status": "ok",
     "timestamp": 1700595362163,
     "user": {
      "displayName": "pierre cesar",
      "userId": "06990152005228481993"
     },
     "user_tz": 300
    },
    "id": "3buUBw2eOdtD",
    "outputId": "14e422c2-13d2-4e01-9f6c-13bdd2cb3cd2"
   },
   "outputs": [
    {
     "name": "stderr",
     "output_type": "stream",
     "text": [
      "[nltk_data] Downloading package punkt to /root/nltk_data...\n",
      "[nltk_data]   Unzipping tokenizers/punkt.zip.\n"
     ]
    },
    {
     "data": {
      "text/plain": [
       "True"
      ]
     },
     "execution_count": 2,
     "metadata": {},
     "output_type": "execute_result"
    }
   ],
   "source": [
    "\n",
    "# Download the required NLTK resources\n",
    "nltk.download('punkt')\n"
   ]
  },
  {
   "cell_type": "markdown",
   "metadata": {
    "id": "MN3Q1FqLQJhX"
   },
   "source": [
    "## 6. DESCRIPTION DES DONNÉES ET MÉTRIQUES D’ÉVALUATION\n",
    "\n",
    "Le corpus est un corpus de questions annotées avec leur identifiant Wikidata. Trois documents sont fournis :\n",
    "- Les 19603 questions annotées d’entrainement dans un fichier train.csv.\n",
    "- Les 2183 questions annotées de validation dans un fichier validation.csv.\n",
    "- Les 5446 questions de test pour lesquelles vous devez identifier les URIs wikidata.\n",
    "\n",
    "La sortie de votre modèle sera comparée à notre ensemble de référence. Vous serez évalués en utilisant la métrique « F1-Score Macro » sur les identifiants prédits par vos modèles dans la compétition Kaggle.\n",
    "\n",
    "Voici un exemple :\n",
    "\n",
    "Jeu de test pour la compétition:\n",
    "\n",
    "|   question_id   |           question_raw          |\n",
    "|    :----:       | :-----------------------------: |\n",
    "|      1          | what is the country for head... |\n",
    "|      2          | what is child of of husband...  |\n",
    "\n",
    "\n",
    "\n",
    "Soumission:\n",
    "\n",
    "Vous avez dans le fichier __id_to_label.csv__ la correspondance entre le ID qui correspond à un des éléments à annoter, le id de la question du jeu de test et le label (ou la mention) auquel vous devez associer une URI.\n",
    "\n",
    "|   Id   |   question_id   |        label                |\n",
    "|    :----:     |      :----:     | :------------------: |\n",
    "|      1        |        1        |       country        |\n",
    "|      2        |        1        |    head of state     |\n",
    "|      3        |        1        |   Justin Trudeau     |\n",
    "|      4        |        2        |      child of        |\n",
    "|      5        |        2        |       husband        |\n",
    "|      6        |        2        |    Ranavalona I      |\n",
    "\n",
    "\n",
    "Votre fichier de soumission pour Kaggle doit contenir deux colonnes: __Id__ et __Target__ et contenir les URIs reliées aux Id donnés dans _id_to_label.csv_\n",
    "\n",
    "|   Id       |                  Target                 |\n",
    "|    :----:  |           :----------------:            |\n",
    "|      1     |                wd:Q6256                 |\n",
    "|      2     |                 wdt:P35                 |\n",
    "|      3     |               wd:Q3099714               |\n",
    "|      4     |     __Prédiction de votre modèle__      |\n",
    "|      5     |     __Prédiction de votre modèle__      |\n",
    "|      6     |     __Prédiction de votre modèle__      |\n",
    "\n",
    "Donc, la __cible__ du __Id__ __#4__ correspond à trouver l'URI correspondant à la mention/ au label  __\"child of\"__ de la question 2 du jeu de test.\n",
    "\n",
    "\n",
    "Vos labels prédits doivent avoir le bon Id pour que Kaggle puisse réaliser le bon alignement entre votre prédiction et la référence."
   ]
  },
  {
   "cell_type": "markdown",
   "metadata": {
    "id": "123Zds9PQMIN"
   },
   "source": [
    "## 7. ÉTAPES DU TP\n",
    "\n",
    "À partir de ce notebook squelette, vous devez réaliser les étapes suivantes. (Notez que les cellules dans le squelette sont là à titre informatif, vous devrez rajouter des cellules au fur et à mesure de votre TP)."
   ]
  },
  {
   "cell_type": "markdown",
   "metadata": {
    "id": "qlGUIKZbOdtF"
   },
   "source": [
    "### 7.0. Analyse exploratoire (5%)\n"
   ]
  },
  {
   "cell_type": "markdown",
   "metadata": {
    "id": "IeZR446zOdtF"
   },
   "source": [
    "#### 7.0.1. Déterminez le nombre d'identifiants uniques du jeu d'entrainement\n"
   ]
  },
  {
   "cell_type": "code",
   "execution_count": null,
   "metadata": {
    "colab": {
     "base_uri": "https://localhost:8080/"
    },
    "executionInfo": {
     "elapsed": 20757,
     "status": "ok",
     "timestamp": 1700595382893,
     "user": {
      "displayName": "pierre cesar",
      "userId": "06990152005228481993"
     },
     "user_tz": 300
    },
    "id": "CWKNygkXvF_y",
    "outputId": "2e19c102-5219-4737-fe8f-e87f3e212bbb"
   },
   "outputs": [
    {
     "name": "stdout",
     "output_type": "stream",
     "text": [
      "Mounted at /content/drive\n"
     ]
    }
   ],
   "source": [
    "root = '/content/drive/MyDrive/traitement du langage/TP4/data/'\n",
    "from google.colab import drive\n",
    "drive.mount('/content/drive')\n"
   ]
  },
  {
   "cell_type": "code",
   "execution_count": null,
   "metadata": {
    "colab": {
     "base_uri": "https://localhost:8080/",
     "height": 272
    },
    "executionInfo": {
     "elapsed": 3383,
     "status": "ok",
     "timestamp": 1700595386248,
     "user": {
      "displayName": "pierre cesar",
      "userId": "06990152005228481993"
     },
     "user_tz": 300
    },
    "id": "L8bVHBofOdtF",
    "outputId": "5b639cc3-609b-48a5-cdc3-82d813262751"
   },
   "outputs": [
    {
     "data": {
      "text/html": [
       "\n",
       "  <div id=\"df-c9ae5f8b-ba7e-41f4-82cf-9e491dc21b65\" class=\"colab-df-container\">\n",
       "    <div>\n",
       "<style scoped>\n",
       "    .dataframe tbody tr th:only-of-type {\n",
       "        vertical-align: middle;\n",
       "    }\n",
       "\n",
       "    .dataframe tbody tr th {\n",
       "        vertical-align: top;\n",
       "    }\n",
       "\n",
       "    .dataframe thead th {\n",
       "        text-align: right;\n",
       "    }\n",
       "</style>\n",
       "<table border=\"1\" class=\"dataframe\">\n",
       "  <thead>\n",
       "    <tr style=\"text-align: right;\">\n",
       "      <th></th>\n",
       "      <th>question_id</th>\n",
       "      <th>question_original</th>\n",
       "      <th>question_raw</th>\n",
       "      <th>question_tagged</th>\n",
       "    </tr>\n",
       "  </thead>\n",
       "  <tbody>\n",
       "    <tr>\n",
       "      <th>0</th>\n",
       "      <td>1</td>\n",
       "      <td>What is {child of} of {husband} of {Ranavalona...</td>\n",
       "      <td>what is child of of husband of ranavalona i ?</td>\n",
       "      <td>what is &lt;&lt;wdt:P22&gt;&gt; of &lt;&lt;wdt:P26&gt;&gt; of &lt;&lt;wd:Q16...</td>\n",
       "    </tr>\n",
       "    <tr>\n",
       "      <th>1</th>\n",
       "      <td>2</td>\n",
       "      <td>Did {Jeff_Bridges} {occupation} {Lane Chandler...</td>\n",
       "      <td>did jeff _ bridges occupation lane chandler an...</td>\n",
       "      <td>did &lt;&lt;wd:Q174843&gt;&gt; &lt;&lt;wdt:P106&gt;&gt; &lt;&lt;wd:Q1804811&gt;...</td>\n",
       "    </tr>\n",
       "    <tr>\n",
       "      <th>2</th>\n",
       "      <td>3</td>\n",
       "      <td>Give me {cola} that starts with {'p'}</td>\n",
       "      <td>give me cola that starts with ' p '</td>\n",
       "      <td>give me &lt;&lt;wd:Q134041&gt;&gt; that starts with &lt;&lt;'p'&gt;&gt;</td>\n",
       "    </tr>\n",
       "    <tr>\n",
       "      <th>3</th>\n",
       "      <td>4</td>\n",
       "      <td>What is {prizewinner} of {sequel is} of {1885 ...</td>\n",
       "      <td>what is prizewinner of sequel is of 1885 wimbl...</td>\n",
       "      <td>what is &lt;&lt;wdt:P1346&gt;&gt; of &lt;&lt;wdt:P156&gt;&gt; of &lt;&lt;wd:...</td>\n",
       "    </tr>\n",
       "    <tr>\n",
       "      <th>4</th>\n",
       "      <td>5</td>\n",
       "      <td>Does the {carbon footprint} of the {iPhone Xs ...</td>\n",
       "      <td>does the carbon footprint of the iphone xs max...</td>\n",
       "      <td>does the &lt;&lt;wdt:P5991&gt;&gt; of the &lt;&lt;wd:Q56599233&gt;&gt;...</td>\n",
       "    </tr>\n",
       "  </tbody>\n",
       "</table>\n",
       "</div>\n",
       "    <div class=\"colab-df-buttons\">\n",
       "\n",
       "  <div class=\"colab-df-container\">\n",
       "    <button class=\"colab-df-convert\" onclick=\"convertToInteractive('df-c9ae5f8b-ba7e-41f4-82cf-9e491dc21b65')\"\n",
       "            title=\"Convert this dataframe to an interactive table.\"\n",
       "            style=\"display:none;\">\n",
       "\n",
       "  <svg xmlns=\"http://www.w3.org/2000/svg\" height=\"24px\" viewBox=\"0 -960 960 960\">\n",
       "    <path d=\"M120-120v-720h720v720H120Zm60-500h600v-160H180v160Zm220 220h160v-160H400v160Zm0 220h160v-160H400v160ZM180-400h160v-160H180v160Zm440 0h160v-160H620v160ZM180-180h160v-160H180v160Zm440 0h160v-160H620v160Z\"/>\n",
       "  </svg>\n",
       "    </button>\n",
       "\n",
       "  <style>\n",
       "    .colab-df-container {\n",
       "      display:flex;\n",
       "      gap: 12px;\n",
       "    }\n",
       "\n",
       "    .colab-df-convert {\n",
       "      background-color: #E8F0FE;\n",
       "      border: none;\n",
       "      border-radius: 50%;\n",
       "      cursor: pointer;\n",
       "      display: none;\n",
       "      fill: #1967D2;\n",
       "      height: 32px;\n",
       "      padding: 0 0 0 0;\n",
       "      width: 32px;\n",
       "    }\n",
       "\n",
       "    .colab-df-convert:hover {\n",
       "      background-color: #E2EBFA;\n",
       "      box-shadow: 0px 1px 2px rgba(60, 64, 67, 0.3), 0px 1px 3px 1px rgba(60, 64, 67, 0.15);\n",
       "      fill: #174EA6;\n",
       "    }\n",
       "\n",
       "    .colab-df-buttons div {\n",
       "      margin-bottom: 4px;\n",
       "    }\n",
       "\n",
       "    [theme=dark] .colab-df-convert {\n",
       "      background-color: #3B4455;\n",
       "      fill: #D2E3FC;\n",
       "    }\n",
       "\n",
       "    [theme=dark] .colab-df-convert:hover {\n",
       "      background-color: #434B5C;\n",
       "      box-shadow: 0px 1px 3px 1px rgba(0, 0, 0, 0.15);\n",
       "      filter: drop-shadow(0px 1px 2px rgba(0, 0, 0, 0.3));\n",
       "      fill: #FFFFFF;\n",
       "    }\n",
       "  </style>\n",
       "\n",
       "    <script>\n",
       "      const buttonEl =\n",
       "        document.querySelector('#df-c9ae5f8b-ba7e-41f4-82cf-9e491dc21b65 button.colab-df-convert');\n",
       "      buttonEl.style.display =\n",
       "        google.colab.kernel.accessAllowed ? 'block' : 'none';\n",
       "\n",
       "      async function convertToInteractive(key) {\n",
       "        const element = document.querySelector('#df-c9ae5f8b-ba7e-41f4-82cf-9e491dc21b65');\n",
       "        const dataTable =\n",
       "          await google.colab.kernel.invokeFunction('convertToInteractive',\n",
       "                                                    [key], {});\n",
       "        if (!dataTable) return;\n",
       "\n",
       "        const docLinkHtml = 'Like what you see? Visit the ' +\n",
       "          '<a target=\"_blank\" href=https://colab.research.google.com/notebooks/data_table.ipynb>data table notebook</a>'\n",
       "          + ' to learn more about interactive tables.';\n",
       "        element.innerHTML = '';\n",
       "        dataTable['output_type'] = 'display_data';\n",
       "        await google.colab.output.renderOutput(dataTable, element);\n",
       "        const docLink = document.createElement('div');\n",
       "        docLink.innerHTML = docLinkHtml;\n",
       "        element.appendChild(docLink);\n",
       "      }\n",
       "    </script>\n",
       "  </div>\n",
       "\n",
       "\n",
       "<div id=\"df-be07c264-017f-4a24-8824-eadb7afd0816\">\n",
       "  <button class=\"colab-df-quickchart\" onclick=\"quickchart('df-be07c264-017f-4a24-8824-eadb7afd0816')\"\n",
       "            title=\"Suggest charts\"\n",
       "            style=\"display:none;\">\n",
       "\n",
       "<svg xmlns=\"http://www.w3.org/2000/svg\" height=\"24px\"viewBox=\"0 0 24 24\"\n",
       "     width=\"24px\">\n",
       "    <g>\n",
       "        <path d=\"M19 3H5c-1.1 0-2 .9-2 2v14c0 1.1.9 2 2 2h14c1.1 0 2-.9 2-2V5c0-1.1-.9-2-2-2zM9 17H7v-7h2v7zm4 0h-2V7h2v10zm4 0h-2v-4h2v4z\"/>\n",
       "    </g>\n",
       "</svg>\n",
       "  </button>\n",
       "\n",
       "<style>\n",
       "  .colab-df-quickchart {\n",
       "      --bg-color: #E8F0FE;\n",
       "      --fill-color: #1967D2;\n",
       "      --hover-bg-color: #E2EBFA;\n",
       "      --hover-fill-color: #174EA6;\n",
       "      --disabled-fill-color: #AAA;\n",
       "      --disabled-bg-color: #DDD;\n",
       "  }\n",
       "\n",
       "  [theme=dark] .colab-df-quickchart {\n",
       "      --bg-color: #3B4455;\n",
       "      --fill-color: #D2E3FC;\n",
       "      --hover-bg-color: #434B5C;\n",
       "      --hover-fill-color: #FFFFFF;\n",
       "      --disabled-bg-color: #3B4455;\n",
       "      --disabled-fill-color: #666;\n",
       "  }\n",
       "\n",
       "  .colab-df-quickchart {\n",
       "    background-color: var(--bg-color);\n",
       "    border: none;\n",
       "    border-radius: 50%;\n",
       "    cursor: pointer;\n",
       "    display: none;\n",
       "    fill: var(--fill-color);\n",
       "    height: 32px;\n",
       "    padding: 0;\n",
       "    width: 32px;\n",
       "  }\n",
       "\n",
       "  .colab-df-quickchart:hover {\n",
       "    background-color: var(--hover-bg-color);\n",
       "    box-shadow: 0 1px 2px rgba(60, 64, 67, 0.3), 0 1px 3px 1px rgba(60, 64, 67, 0.15);\n",
       "    fill: var(--button-hover-fill-color);\n",
       "  }\n",
       "\n",
       "  .colab-df-quickchart-complete:disabled,\n",
       "  .colab-df-quickchart-complete:disabled:hover {\n",
       "    background-color: var(--disabled-bg-color);\n",
       "    fill: var(--disabled-fill-color);\n",
       "    box-shadow: none;\n",
       "  }\n",
       "\n",
       "  .colab-df-spinner {\n",
       "    border: 2px solid var(--fill-color);\n",
       "    border-color: transparent;\n",
       "    border-bottom-color: var(--fill-color);\n",
       "    animation:\n",
       "      spin 1s steps(1) infinite;\n",
       "  }\n",
       "\n",
       "  @keyframes spin {\n",
       "    0% {\n",
       "      border-color: transparent;\n",
       "      border-bottom-color: var(--fill-color);\n",
       "      border-left-color: var(--fill-color);\n",
       "    }\n",
       "    20% {\n",
       "      border-color: transparent;\n",
       "      border-left-color: var(--fill-color);\n",
       "      border-top-color: var(--fill-color);\n",
       "    }\n",
       "    30% {\n",
       "      border-color: transparent;\n",
       "      border-left-color: var(--fill-color);\n",
       "      border-top-color: var(--fill-color);\n",
       "      border-right-color: var(--fill-color);\n",
       "    }\n",
       "    40% {\n",
       "      border-color: transparent;\n",
       "      border-right-color: var(--fill-color);\n",
       "      border-top-color: var(--fill-color);\n",
       "    }\n",
       "    60% {\n",
       "      border-color: transparent;\n",
       "      border-right-color: var(--fill-color);\n",
       "    }\n",
       "    80% {\n",
       "      border-color: transparent;\n",
       "      border-right-color: var(--fill-color);\n",
       "      border-bottom-color: var(--fill-color);\n",
       "    }\n",
       "    90% {\n",
       "      border-color: transparent;\n",
       "      border-bottom-color: var(--fill-color);\n",
       "    }\n",
       "  }\n",
       "</style>\n",
       "\n",
       "  <script>\n",
       "    async function quickchart(key) {\n",
       "      const quickchartButtonEl =\n",
       "        document.querySelector('#' + key + ' button');\n",
       "      quickchartButtonEl.disabled = true;  // To prevent multiple clicks.\n",
       "      quickchartButtonEl.classList.add('colab-df-spinner');\n",
       "      try {\n",
       "        const charts = await google.colab.kernel.invokeFunction(\n",
       "            'suggestCharts', [key], {});\n",
       "      } catch (error) {\n",
       "        console.error('Error during call to suggestCharts:', error);\n",
       "      }\n",
       "      quickchartButtonEl.classList.remove('colab-df-spinner');\n",
       "      quickchartButtonEl.classList.add('colab-df-quickchart-complete');\n",
       "    }\n",
       "    (() => {\n",
       "      let quickchartButtonEl =\n",
       "        document.querySelector('#df-be07c264-017f-4a24-8824-eadb7afd0816 button');\n",
       "      quickchartButtonEl.style.display =\n",
       "        google.colab.kernel.accessAllowed ? 'block' : 'none';\n",
       "    })();\n",
       "  </script>\n",
       "</div>\n",
       "    </div>\n",
       "  </div>\n"
      ],
      "text/plain": [
       "   question_id                                  question_original  \\\n",
       "0            1  What is {child of} of {husband} of {Ranavalona...   \n",
       "1            2  Did {Jeff_Bridges} {occupation} {Lane Chandler...   \n",
       "2            3              Give me {cola} that starts with {'p'}   \n",
       "3            4  What is {prizewinner} of {sequel is} of {1885 ...   \n",
       "4            5  Does the {carbon footprint} of the {iPhone Xs ...   \n",
       "\n",
       "                                        question_raw  \\\n",
       "0      what is child of of husband of ranavalona i ?   \n",
       "1  did jeff _ bridges occupation lane chandler an...   \n",
       "2                give me cola that starts with ' p '   \n",
       "3  what is prizewinner of sequel is of 1885 wimbl...   \n",
       "4  does the carbon footprint of the iphone xs max...   \n",
       "\n",
       "                                     question_tagged  \n",
       "0  what is <<wdt:P22>> of <<wdt:P26>> of <<wd:Q16...  \n",
       "1  did <<wd:Q174843>> <<wdt:P106>> <<wd:Q1804811>...  \n",
       "2    give me <<wd:Q134041>> that starts with <<'p'>>  \n",
       "3  what is <<wdt:P1346>> of <<wdt:P156>> of <<wd:...  \n",
       "4  does the <<wdt:P5991>> of the <<wd:Q56599233>>...  "
      ]
     },
     "execution_count": 4,
     "metadata": {},
     "output_type": "execute_result"
    }
   ],
   "source": [
    "data_train = pd.read_csv(root+'train.csv',sep = '|')\n",
    "data_test = pd.read_csv(root+'test.csv', sep='|')\n",
    "data_validation = pd.read_csv(root+'validation.csv', sep ='|')\n",
    "data_train.head()"
   ]
  },
  {
   "cell_type": "code",
   "execution_count": null,
   "metadata": {
    "id": "BpAVMFm9OdtF"
   },
   "outputs": [],
   "source": [
    "regex = \"<<[wdtpsq]{2,3}:[^>]*>>\"\n",
    "all_text = data_train['question_tagged'].sum()\n",
    "list_balise = re.findall(regex, all_text)\n",
    "balises_train = Counter(list_balise)"
   ]
  },
  {
   "cell_type": "code",
   "execution_count": null,
   "metadata": {
    "colab": {
     "base_uri": "https://localhost:8080/"
    },
    "executionInfo": {
     "elapsed": 180,
     "status": "ok",
     "timestamp": 1700595390678,
     "user": {
      "displayName": "pierre cesar",
      "userId": "06990152005228481993"
     },
     "user_tz": 300
    },
    "id": "LI8rc8DCOdtF",
    "outputId": "c07406b7-4619-4439-cda3-9e8d7c3b47e8"
   },
   "outputs": [
    {
     "name": "stdout",
     "output_type": "stream",
     "text": [
      "20034\n"
     ]
    }
   ],
   "source": [
    "l_balises_train = balises_train.keys()\n",
    "print(len(l_balises_train))"
   ]
  },
  {
   "cell_type": "markdown",
   "metadata": {
    "id": "yecHSIvMOdtF"
   },
   "source": [
    "#### 7.0.2. Déterminez le pourcentage d'identifiants uniques inconnus du jeu de validation.\n",
    "\n",
    "Affichez le résultat dans un diagramme circulaire.\n"
   ]
  },
  {
   "cell_type": "code",
   "execution_count": null,
   "metadata": {
    "colab": {
     "base_uri": "https://localhost:8080/",
     "height": 406
    },
    "executionInfo": {
     "elapsed": 101,
     "status": "ok",
     "timestamp": 1700595390678,
     "user": {
      "displayName": "pierre cesar",
      "userId": "06990152005228481993"
     },
     "user_tz": 300
    },
    "id": "oDSUCI-jOdtG",
    "outputId": "c9b443e6-38a9-4ef6-8932-5dc348ac905e"
   },
   "outputs": [
    {
     "data": {
      "image/png": "[encoded data removed]",
      "text/plain": [
       "<Figure size 640x480 with 1 Axes>"
      ]
     },
     "metadata": {},
     "output_type": "display_data"
    }
   ],
   "source": [
    "all_validation_text = data_validation['question_tagged'].sum()\n",
    "list_balises_validation = re.findall(regex, all_validation_text)\n",
    "balises_validation = Counter(list_balises_validation)\n",
    "l_balises_validation = balises_validation.keys()\n",
    "unknown = [bal for bal in list_balises_validation if bal not in l_balises_train]\n",
    "\n",
    "fig, ax = plt.subplots()\n",
    "unknow_percent = round(len(unknown)/len(l_balises_validation)*100,2)\n",
    "ax.pie([unknow_percent,100-unknow_percent], labels=['unknown', 'known'], startangle=90, autopct='%1.1f%%')\n",
    "plt.show()"
   ]
  },
  {
   "cell_type": "markdown",
   "metadata": {
    "id": "0iNiiONBOdtG"
   },
   "source": [
    "#### 7.0.3. Déterminez les 10 identifiants uniques les plus fréquents du jeu d'entrainement.\n",
    "\n",
    "Affichez le résultat dans un diagramme à barres.\n"
   ]
  },
  {
   "cell_type": "code",
   "execution_count": null,
   "metadata": {
    "colab": {
     "base_uri": "https://localhost:8080/",
     "height": 588
    },
    "executionInfo": {
     "elapsed": 958,
     "status": "ok",
     "timestamp": 1700595391589,
     "user": {
      "displayName": "pierre cesar",
      "userId": "06990152005228481993"
     },
     "user_tz": 300
    },
    "id": "oaoY3lvTOdtG",
    "outputId": "e70aa086-5490-4757-cf65-82bc4bbf195d"
   },
   "outputs": [
    {
     "data": {
      "image/png": "[encoded data removed]",
      "text/plain": [
       "<Figure size 1500x700 with 1 Axes>"
      ]
     },
     "metadata": {},
     "output_type": "display_data"
    }
   ],
   "source": [
    "most_commons = balises_train.most_common(10)\n",
    "jetons = [x[0] for x in most_commons]\n",
    "values = [x[1] for x in most_commons]\n",
    "plt.figure(figsize=(15, 7))\n",
    "plt.bar(jetons,values)\n",
    "plt.title('jetons les plus communs')\n",
    "plt.xlabel('nom des jetons')\n",
    "plt.ylabel('nombre')\n",
    "plt.show()"
   ]
  },
  {
   "cell_type": "markdown",
   "metadata": {
    "id": "L3syEGZLOdtG"
   },
   "source": [
    "#### 7.0.4. Déterminez la proportion des identifiants uniques qui sont des ressources Wikidata.\n",
    "\n",
    "Affichez le résultat dans un diagramme circulaire."
   ]
  },
  {
   "cell_type": "code",
   "execution_count": null,
   "metadata": {
    "colab": {
     "base_uri": "https://localhost:8080/",
     "height": 406
    },
    "executionInfo": {
     "elapsed": 89,
     "status": "ok",
     "timestamp": 1700595391590,
     "user": {
      "displayName": "pierre cesar",
      "userId": "06990152005228481993"
     },
     "user_tz": 300
    },
    "id": "vx_ebIh_OdtG",
    "outputId": "d65b965e-e70f-4808-a432-6a5668f21db9"
   },
   "outputs": [
    {
     "data": {
      "image/png": "[encoded data removed]",
      "text/plain": [
       "<Figure size 640x480 with 1 Axes>"
      ]
     },
     "metadata": {},
     "output_type": "display_data"
    }
   ],
   "source": [
    "ressources = [bal for bal in l_balises_train if bal.startswith('<<wd:Q')]\n",
    "fig, ax = plt.subplots()\n",
    "ressources_percent = round(len(set(ressources))/len(set(l_balises_train))*100,2)\n",
    "ax.pie([ressources_percent,100-ressources_percent], labels=['ressources', 'all'], startangle=90, autopct='%1.1f%%')\n",
    "plt.show()"
   ]
  },
  {
   "cell_type": "markdown",
   "metadata": {
    "id": "cz53oBTvwwUB"
   },
   "source": [
    ">On remarque que les ressources sont prépondérantes parmis les labels"
   ]
  },
  {
   "cell_type": "markdown",
   "metadata": {
    "id": "b_-q13mQOdtG"
   },
   "source": [
    "#### 7.0.5. Déterminez la fréquence de chaque entité Wikidata du jeu d'entrainement, ordonnée par fréquence décroissante et affichez une courbe fréquence - rang.\n",
    "\n",
    "Créez un graphique de courbe fréquence-rang pour visualiser la distribution des fréquences. Sur l'axe horizontal (rang), vous aurez la position des entités triées par ordre décroissant de fréquence, et sur l'axe vertical (fréquence), vous aurez le nombre d'occurrences de chaque entité."
   ]
  },
  {
   "cell_type": "code",
   "execution_count": null,
   "metadata": {
    "colab": {
     "base_uri": "https://localhost:8080/",
     "height": 588
    },
    "executionInfo": {
     "elapsed": 654,
     "status": "ok",
     "timestamp": 1700595392193,
     "user": {
      "displayName": "pierre cesar",
      "userId": "06990152005228481993"
     },
     "user_tz": 300
    },
    "id": "9yG7m4ohOdtH",
    "outputId": "cffb4ecd-4747-48a6-a211-23a1d4cc9521"
   },
   "outputs": [
    {
     "data": {
      "image/png": "[encoded data removed]",
      "text/plain": [
       "<Figure size 1500x700 with 1 Axes>"
      ]
     },
     "metadata": {},
     "output_type": "display_data"
    }
   ],
   "source": [
    "most_commons = balises_train.most_common()\n",
    "\n",
    "values = [x[1] for x in most_commons]\n",
    "plt.figure(figsize=(15, 7))\n",
    "plt.plot(range(len(values)), values, '*')\n",
    "plt.title('courbe frequence rang')\n",
    "plt.xlabel('rang')\n",
    "plt.ylabel('frequence')\n",
    "plt.show()"
   ]
  },
  {
   "cell_type": "markdown",
   "metadata": {
    "id": "nKIFoh2nw5dq"
   },
   "source": [
    ">Cela ressemble à une loi de Ziph, on se doute que le challenge sera de bien classifier les jetons les moins fréquents"
   ]
  },
  {
   "cell_type": "markdown",
   "metadata": {
    "id": "JyOPA9qmQPc8"
   },
   "source": [
    "### 7.1. Approche par classification de jeton (25%)\n",
    "\n",
    "Entrainez un modèle (BERT, ROBERTA, etc.) pour classifier les jetons du __question_original__ avec le bon identifiant de Wikidata.\n",
    "\n",
    "Votre modèle devrait utiliser le format BIO afin d'effectuer la classification.\n",
    "\n",
    "Ainsi, si une entité se retrouve dans plusieurs jetons, vous devez indiquer qu'il s'agit du début de l'entité en rajoutant le préfixe __B-__ à la classe. Un jeton faisant partie de l'entité doit avoir le préfixe __I-__ à la classe.\n",
    "\n",
    "Lorsqu'un jeton ne fait pas partie d'une entité, celui-ci devrait avoir la classe __O__\n",
    "\n",
    "__Exemple:__\n",
    "\n",
    "Jeu de validation:\n",
    "\n",
    "|   question_id   |                  question_original                           |\n",
    "|    :----:       | :----------------------------------------------:             |\n",
    "|      1          | What is the {country} for {head of state} of {Justin Trudeau} |\n",
    "\n",
    "\n",
    "\n",
    "__Étape à suivre:__\n",
    "\n",
    "1. Vous devez segmenter la __question_original__ avec le \"tokenizer\" de votre choix\n",
    "2. Pour chaque jeton, votre modèle doit prédire la classe associée\n",
    "\n",
    "| __question_original__ tokenize | What | is | the | { | country | } | for | { | head | of | state | } | of | \\{ | ... |\n",
    "|------|------|----|-----|---|---------|---|-----|---|------|----|-------|---|---|---| --- |\n",
    "| Résultat du modèle    | O    | O  | O   | B-wd:Q6256 | I-wd:Q6256 | I-wd:Q6256 | O | B-wdt:P35 | I-wdt:P35 | I-wdt:P35 | I-wdt:P35 | I-wdt:P35 | O | B-wd:Q3099714 | ... |\n",
    "\n"
   ]
  },
  {
   "cell_type": "markdown",
   "metadata": {
    "id": "3s8EQ0T7OdtH"
   },
   "source": [
    "#### 7.1.1. Classification de jetons (20%)\n"
   ]
  },
  {
   "cell_type": "markdown",
   "metadata": {
    "id": "ytPEi5YrOdtH"
   },
   "source": [
    "Creation de la chaine de traitement des jetons\n"
   ]
  },
  {
   "cell_type": "code",
   "execution_count": null,
   "metadata": {
    "id": "LDHxkyTgOdtH"
   },
   "outputs": [],
   "source": [
    "\n",
    "def remove_duplicate_brackets(text):\n",
    "    # Regex to find nested duplicate brackets\n",
    "    # This regex matches '{{', '}}', '{ {' and '} }'\n",
    "    regex = r\"(\\{\\{|\\}\\}|\\{\\s\\{|\\}\\s\\})\"\n",
    "\n",
    "    def replace_brackets(match):\n",
    "        bracket = match.group(0)\n",
    "        # Remove the first bracket for opening and the last bracket for closing\n",
    "        if bracket in [\"{{\", \"{ {\"]:\n",
    "            return \"{\"\n",
    "        else:\n",
    "            return \"}\"\n",
    "\n",
    "    # Replace the found brackets using the defined function\n",
    "    return re.sub(regex, replace_brackets, text)\n",
    "\n",
    "def preprocess(df : pd.DataFrame) :\n",
    "    #return the data to the following shape : array[phrases, word of phrases], list[phrases, label of word phrases]\n",
    "    original_tokens = []\n",
    "    labels = []\n",
    "    #Assignation des labels à chaque token de la phrase raw afin en debruitant le dataset\n",
    "\n",
    "    for i, row in df.iterrows():\n",
    "        question = row['question_original']\n",
    "        tagged = row['question_tagged']\n",
    "        raw = row['question_raw']\n",
    "\n",
    "        #pre traitement\n",
    "        question = question.replace(\"<\",\"{\").replace(\">\",\"}\")\n",
    "        question = remove_duplicate_brackets(question)\n",
    "        question = question.replace(\"{\",\" { \").replace(\"}\",\" } \")\n",
    "        question = re.sub(r'\\{\\s*\\}','',question)\n",
    "        # Tokenize the question\n",
    "        tokens = raw.split()\n",
    "        tokenized_question = question.split()\n",
    "        O_tokens = nltk.word_tokenize(re.sub(r'<<[^>]*>>', '', tagged))\n",
    "\n",
    "        # Initialize labels for each token\n",
    "        token_labels = []\n",
    "        tag_ind = 0\n",
    "        tag_list = re.findall(r'<<([^>]*)>>', tagged)\n",
    "        sequence = False\n",
    "        question_ind = 0\n",
    "        for ind, tok in enumerate(tokens) :\n",
    "            if sequence == False and tokenized_question[question_ind] != \"{\" :\n",
    "                if O_tokens[0] == tok :\n",
    "                    token_labels.append('O')\n",
    "                    O_tokens.pop(0)\n",
    "                    if tokenized_question[question_ind].lower().startswith(tok.lower()) or tokenized_question[question_ind].startswith(tok):\n",
    "                        tokenized_question[question_ind] = tokenized_question[question_ind][len(tok):]\n",
    "                        if tokenized_question[question_ind] == \"\" :\n",
    "                            question_ind += 1\n",
    "                    else :\n",
    "                        raise Exception(f\"{i} error 0 in tokenization at token {tok} for question {question} and tagged {tagged} and raw {raw} with labels {token_labels}\")\n",
    "                else :\n",
    "                    raise Exception(f\"{i} error 1 in tokenization at token  {tok} for question {question} and tagged {tagged} and raw {raw} with labels {token_labels}\")\n",
    "            elif sequence == False and tokenized_question[question_ind] == \"{\" :\n",
    "                question_ind += 1\n",
    "                sequence = True\n",
    "                if tokenized_question[question_ind].lower().startswith(tok.lower())or tokenized_question[question_ind].startswith(tok):\n",
    "                    token_labels.append('B-'+tag_list[tag_ind])\n",
    "                    tokenized_question[question_ind] = tokenized_question[question_ind][len(tok):]\n",
    "                    if tokenized_question[question_ind] == \"\" :\n",
    "                        question_ind += 1\n",
    "                else :\n",
    "                    print(tokenized_question[question_ind], tok, question_ind , tokenized_question)\n",
    "                    raise Exception(f\"{i} error 2 in tokenization at token {tok} for question {question} and tagged {tagged} and raw {raw} with labels {token_labels}\")\n",
    "            elif sequence == True and tokenized_question[question_ind] != \"}\" :\n",
    "                if tokenized_question[question_ind].lower().startswith(tok.lower()) or tokenized_question[question_ind].startswith(tok):\n",
    "                    token_labels.append('I-'+tag_list[tag_ind])\n",
    "                    tokenized_question[question_ind] = tokenized_question[question_ind][len(tok):]\n",
    "                    if tokenized_question[question_ind] == \"\" :\n",
    "                        question_ind += 1\n",
    "                else :\n",
    "                    print(tokenized_question[question_ind], tok, question_ind , tokenized_question)\n",
    "                    raise Exception(f\"{i} error 3 in tokenization at token {tok} for question {question} and tagged {tagged} and raw {raw} with labels {token_labels}\")\n",
    "            elif sequence == True and tokenized_question[question_ind] == \"}\" :\n",
    "                sequence = False\n",
    "                question_ind += 1\n",
    "                tag_ind += 1\n",
    "                if tokenized_question[question_ind] != \"{\" :\n",
    "                    if O_tokens[0] == tok :\n",
    "                        token_labels.append('O')\n",
    "                        O_tokens.pop(0)\n",
    "                        question_ind += 1\n",
    "                    else :\n",
    "                        raise Exception(f\"{i} error 4 in tokenization at token {tok} for question {question} and tagged {tagged} and raw {raw} with labels {token_labels}\")\n",
    "                else :\n",
    "                    question_ind += 1\n",
    "                    sequence = True\n",
    "                    if tokenized_question[question_ind].lower().startswith(tok.lower()) or tokenized_question[question_ind].startswith(tok):\n",
    "                        token_labels.append('B-'+tag_list[tag_ind])\n",
    "                        tokenized_question[question_ind] = tokenized_question[question_ind][len(tok):]\n",
    "                        if tokenized_question[question_ind] == \"\" :\n",
    "                            question_ind += 1\n",
    "                    else :\n",
    "                        raise Exception(f\"{i} error 5 in tokenization at token {tok} for question {question} and tagged {tagged} and raw {raw} with labels {token_labels}\")\n",
    "\n",
    "\n",
    "        original_tokens.append(tokens)\n",
    "        labels.append(token_labels)\n",
    "\n",
    "\n",
    "\n",
    "    return original_tokens, labels\n",
    "\n"
   ]
  },
  {
   "cell_type": "code",
   "execution_count": null,
   "metadata": {
    "id": "1yLhpx4gOdtH"
   },
   "outputs": [],
   "source": [
    "#return the data to the following shape : array[phrases, word of phrases], list[phrases, label of word phrases]\n",
    "def preprocess_test(df : pd.DataFrame) :\n",
    "    original_tokens = []\n",
    "    for _, row in df.iterrows():\n",
    "        question = row['question_raw']\n",
    "        tokens = question.split()\n",
    "        original_tokens.append(tokens)\n",
    "    return original_tokens"
   ]
  },
  {
   "cell_type": "markdown",
   "metadata": {
    "id": "HLXsUcfUOdtI"
   },
   "source": [
    "#### Créations du dataset d'entrainement"
   ]
  },
  {
   "cell_type": "code",
   "execution_count": null,
   "metadata": {
    "id": "M3OxnTMhOdtI"
   },
   "outputs": [],
   "source": [
    "tokens_train, labels_train = preprocess(data_train)"
   ]
  },
  {
   "cell_type": "code",
   "execution_count": null,
   "metadata": {
    "id": "NygoTLPTOdtI"
   },
   "outputs": [],
   "source": [
    "#check length of tokens and labels\n",
    "assert len(tokens_train) == len(labels_train)\n",
    "for i in range(len(tokens_train)):\n",
    "    assert len(tokens_train[i]) == len(labels_train[i])"
   ]
  },
  {
   "cell_type": "markdown",
   "metadata": {
    "id": "9TFDIk-DxZBZ"
   },
   "source": [
    "#### Création des mapping"
   ]
  },
  {
   "cell_type": "code",
   "execution_count": null,
   "metadata": {
    "id": "5ukh6gqCOdtI"
   },
   "outputs": [],
   "source": [
    "# dumb mapping\n",
    "label_map = {}\n",
    "unique_labels = set([label for labels in labels_train for label in labels])\n",
    "# For each label...\n",
    "for (i, label) in enumerate(unique_labels):\n",
    "    # Map it to its integer.\n",
    "    label_map[label] = i"
   ]
  },
  {
   "cell_type": "code",
   "execution_count": null,
   "metadata": {
    "colab": {
     "base_uri": "https://localhost:8080/"
    },
    "executionInfo": {
     "elapsed": 133,
     "status": "ok",
     "timestamp": 1700595401152,
     "user": {
      "displayName": "pierre cesar",
      "userId": "06990152005228481993"
     },
     "user_tz": 300
    },
    "id": "MT7i0LRfOdtI",
    "outputId": "f4b185f6-5668-49be-fb8d-a9a211d8b287"
   },
   "outputs": [
    {
     "name": "stdout",
     "output_type": "stream",
     "text": [
      "Example sentence:\n",
      "    Tokens: ['what', 'is', 'birthplace', 'of', 'robert', 'rayford', ',', 'that', 'has', 'abbreviation', 'is', 'ארה', '\"', 'ב', '?']\n",
      "    Labels: ['O', 'O', 'B-wdt:P19', 'O', 'B-wd:Q288055', 'I-wd:Q288055', 'O', 'O', 'O', 'B-wdt:P1813', 'O', 'B-\\'ארה\"ב\\'', 'I-\\'ארה\"ב\\'', 'I-\\'ארה\"ב\\'', 'O']\n",
      "\n",
      "Sentence Tokens and Labels:\n",
      "('what', 'O')\n",
      "('is', 'O')\n",
      "('birthplace', 'B-wdt:P19')\n",
      "('of', 'O')\n",
      "('robert', 'B-wd:Q288055')\n",
      "('rayford', 'I-wd:Q288055')\n",
      "(',', 'O')\n",
      "('that', 'O')\n",
      "('has', 'O')\n",
      "('abbreviation', 'B-wdt:P1813')\n",
      "('is', 'O')\n",
      "('ארה', 'B-\\'ארה\"ב\\'')\n",
      "('\"', 'I-\\'ארה\"ב\\'')\n",
      "('ב', 'I-\\'ארה\"ב\\'')\n",
      "('?', 'O')\n"
     ]
    }
   ],
   "source": [
    "print(\"Example sentence:\")\n",
    "print (\"    Tokens:\", tokens_train[4136])\n",
    "print (\"    Labels:\", labels_train[4136])\n",
    "\n",
    "print ('\\nSentence Tokens and Labels:')\n",
    "for i in zip(tokens_train[4136], labels_train[4136]):\n",
    "  print (i)"
   ]
  },
  {
   "cell_type": "code",
   "execution_count": null,
   "metadata": {
    "id": "EkmfzHMGwPPd"
   },
   "outputs": [],
   "source": [
    "!pip install transformers"
   ]
  },
  {
   "cell_type": "markdown",
   "metadata": {
    "id": "xLMVf5PFOdtJ"
   },
   "source": [
    "#### calcul de la longeur maximale d'une sequence"
   ]
  },
  {
   "cell_type": "code",
   "execution_count": null,
   "metadata": {
    "colab": {
     "base_uri": "https://localhost:8080/",
     "height": 179,
     "referenced_widgets": [
      "3546dfac1159454abcda4f1968ec0be0",
      "f533bf79058e43d0b5857b4505ef3f97",
      "2664d57968704f56ab2f5be801de60c9",
      "b90c99b0c307426d9cc48455d3e4ad8a",
      "40c6bda0d1cd40eb8311f22286378f22",
      "76d3d22b8607429095fb2472d40e6cbc",
      "eead2d7a8a6f405f8640dbe03c50527c",
      "73c2f56663c9466e9840b2fde1a7aef0",
      "8a361634b809420e9b954abdfbd969cd",
      "53dae6cb029d4a9da49bfb09911c90b7",
      "225a9ec8d71e45b2b737794c259657a6",
      "7bf6bb542eac4d3fa06e42667706efe8",
      "6a7d2fd57d474603800b91ae3e870e82",
      "28093cfe10614652839987d36e76af35",
      "a21df512db094c4e8319654e623d6df8",
      "a97ddcc034c04aefa4e0881743863ef3",
      "31374525ed004ac8a023451451c26434",
      "3424a8549a7541a99c611b05900a1245",
      "5202b453ba1445d0962897923d696465",
      "526edbbfd71e492893475bb175886412",
      "5dece1f5125549d1a39988ffb34fc84b",
      "d1ce7fc94aad451cb37ece0b3f51bab0",
      "f58da7e8fc7145d5849b88605375a966",
      "0cda830879ba40b2a4b190d5801aa4fa",
      "0284d190f56f41c5a09acea126621dfc",
      "d77cd558ddf247bd8f81268f837db470",
      "d1a8014d245f412c87f451d90253db88",
      "f2552719f9c443bf8462232bfef661f2",
      "8a6b87f7df8947b4b316dae539b99ae9",
      "62b930790d5845748df112aff474c904",
      "b49e180f6ca6431c95d190bb6028026b",
      "3e409e81af9942af884b307874fe7b52",
      "a681149529a74d8ea9488f2b866d6cf6",
      "6482b4cfacbf4c9796ae7bd9b878a0a7",
      "b2a188a3df284d569a527532c9a50a06",
      "fa874e74a4244e5583393cd99f1a6ab6",
      "c2d42ef04f22453eabb5c0bdb501e19e",
      "09078654074242fba0419ed5350a5f47",
      "8c995b00a620428589821a8f50543515",
      "cbe22e2cee734e3092bc7784c0f1cbe4",
      "6e50fb3468c74eb5a033b522457ccea7",
      "813e8ccc27164b8b940ffa6794b4bcf8",
      "ee51db9e56b047648dbe9fe1d66e83bb",
      "6cd702dd5d3b42e0bce8badbc1342353"
     ]
    },
    "executionInfo": {
     "elapsed": 5782,
     "status": "ok",
     "timestamp": 1700595416048,
     "user": {
      "displayName": "pierre cesar",
      "userId": "06990152005228481993"
     },
     "user_tz": 300
    },
    "id": "F2EKBn8HOdtJ",
    "outputId": "65db2846-455f-4275-8032-62616800ae60"
   },
   "outputs": [
    {
     "data": {
      "application/vnd.jupyter.widget-view+json": {
       "model_id": "3546dfac1159454abcda4f1968ec0be0",
       "version_major": 2,
       "version_minor": 0
      },
      "text/plain": [
       "tokenizer_config.json:   0%|          | 0.00/28.0 [00:00<?, ?B/s]"
      ]
     },
     "metadata": {},
     "output_type": "display_data"
    },
    {
     "data": {
      "application/vnd.jupyter.widget-view+json": {
       "model_id": "7bf6bb542eac4d3fa06e42667706efe8",
       "version_major": 2,
       "version_minor": 0
      },
      "text/plain": [
       "vocab.txt:   0%|          | 0.00/232k [00:00<?, ?B/s]"
      ]
     },
     "metadata": {},
     "output_type": "display_data"
    },
    {
     "data": {
      "application/vnd.jupyter.widget-view+json": {
       "model_id": "f58da7e8fc7145d5849b88605375a966",
       "version_major": 2,
       "version_minor": 0
      },
      "text/plain": [
       "tokenizer.json:   0%|          | 0.00/466k [00:00<?, ?B/s]"
      ]
     },
     "metadata": {},
     "output_type": "display_data"
    },
    {
     "data": {
      "application/vnd.jupyter.widget-view+json": {
       "model_id": "6482b4cfacbf4c9796ae7bd9b878a0a7",
       "version_major": 2,
       "version_minor": 0
      },
      "text/plain": [
       "config.json:   0%|          | 0.00/570 [00:00<?, ?B/s]"
      ]
     },
     "metadata": {},
     "output_type": "display_data"
    },
    {
     "name": "stdout",
     "output_type": "stream",
     "text": [
      "Measuring sentence lengths...\n",
      "    DONE.\n"
     ]
    }
   ],
   "source": [
    "from transformers import BertTokenizerFast\n",
    "import numpy as np\n",
    "\n",
    "\n",
    "tokenizer = BertTokenizerFast.from_pretrained('bert-base-uncased')\n",
    "# Record the length of each sequence.\n",
    "lengths = []\n",
    "\n",
    "print('Measuring sentence lengths...')\n",
    "\n",
    "for sen in tokens_train:\n",
    "\n",
    "    sen = ' '.join(sen)\n",
    "    encoded_sent = tokenizer.encode(\n",
    "                        sen,                      # Sentence to encode.\n",
    "                        add_special_tokens = True, # Add '[CLS]' and '[SEP]'\n",
    "                   )\n",
    "\n",
    "    lengths.append(len(encoded_sent))\n",
    "for i,row in data_validation.iterrows():\n",
    "    sen = row['question_raw']\n",
    "    encoded_sent = tokenizer.encode(\n",
    "                        sen,                      # Sentence to encode.\n",
    "                        add_special_tokens = True, # Add '[CLS]' and '[SEP]'\n",
    "                   )\n",
    "    lengths.append(len(encoded_sent))\n",
    "\n",
    "for i, row in data_test.iterrows():\n",
    "    sen = row['question_raw']\n",
    "    encoded_sent = tokenizer.encode(\n",
    "                        sen,                      # Sentence to encode.\n",
    "                        add_special_tokens = True, # Add '[CLS]' and '[SEP]'\n",
    "                   )\n",
    "    lengths.append(len(encoded_sent))\n",
    "print('    DONE.')"
   ]
  },
  {
   "cell_type": "code",
   "execution_count": null,
   "metadata": {
    "colab": {
     "base_uri": "https://localhost:8080/"
    },
    "executionInfo": {
     "elapsed": 63,
     "status": "ok",
     "timestamp": 1700595416048,
     "user": {
      "displayName": "pierre cesar",
      "userId": "06990152005228481993"
     },
     "user_tz": 300
    },
    "id": "e1wAiNf0OdtK",
    "outputId": "8003800d-3cec-4021-fc7a-69baecc449c7"
   },
   "outputs": [
    {
     "name": "stdout",
     "output_type": "stream",
     "text": [
      "   Min length: 7 tokens\n",
      "   Max length: 115 tokens\n",
      "Median length: 15 tokens\n"
     ]
    }
   ],
   "source": [
    "print('   Min length: {:,} tokens'.format(min(lengths)))\n",
    "print('   Max length: {:,} tokens'.format(max(lengths)))\n",
    "print('Median length: {:,} tokens'.format(int(np.median(lengths))))"
   ]
  },
  {
   "cell_type": "code",
   "execution_count": null,
   "metadata": {
    "colab": {
     "base_uri": "https://localhost:8080/",
     "height": 719
    },
    "executionInfo": {
     "elapsed": 1864,
     "status": "ok",
     "timestamp": 1700595417897,
     "user": {
      "displayName": "pierre cesar",
      "userId": "06990152005228481993"
     },
     "user_tz": 300
    },
    "id": "PrpX7OsXOdtK",
    "outputId": "36052ac8-7def-411b-a923-7dd33fdc1a89"
   },
   "outputs": [
    {
     "name": "stderr",
     "output_type": "stream",
     "text": [
      "<ipython-input-21-82c5ce17149b>:11: UserWarning: \n",
      "\n",
      "`distplot` is a deprecated function and will be removed in seaborn v0.14.0.\n",
      "\n",
      "Please adapt your code to use either `displot` (a figure-level function with\n",
      "similar flexibility) or `histplot` (an axes-level function for histograms).\n",
      "\n",
      "For a guide to updating your code to use the new functions, please see\n",
      "https://gist.github.com/mwaskom/de44147ed2974457ad6372750bbe5751\n",
      "\n",
      "  sns.distplot(lengths, kde=False, rug=False)\n"
     ]
    },
    {
     "data": {
      "text/plain": [
       "Text(0, 0.5, '# of Sentences')"
      ]
     },
     "execution_count": 21,
     "metadata": {},
     "output_type": "execute_result"
    },
    {
     "data": {
      "image/png": "[encoded data removed]",
      "text/plain": [
       "<Figure size 1000x500 with 1 Axes>"
      ]
     },
     "metadata": {},
     "output_type": "display_data"
    }
   ],
   "source": [
    "import matplotlib.pyplot as plt\n",
    "import seaborn as sns\n",
    "\n",
    "sns.set(style='darkgrid')\n",
    "\n",
    "# Increase the plot size and font size.\n",
    "sns.set(font_scale=1.5)\n",
    "plt.rcParams[\"figure.figsize\"] = (10,5)\n",
    "\n",
    "# Plot the distribution\n",
    "sns.distplot(lengths, kde=False, rug=False)\n",
    "\n",
    "plt.title('Sentence Lengths')\n",
    "plt.xlabel('Sentence Length')\n",
    "plt.ylabel('# of Sentences')"
   ]
  },
  {
   "cell_type": "markdown",
   "metadata": {
    "id": "HWgI5XZLOdtL"
   },
   "source": [
    "on remarque que les phrases sont majoritairement courtes mais pas toujours. afin de traiter cela nous fixons la longueure maximale à 120"
   ]
  },
  {
   "cell_type": "code",
   "execution_count": null,
   "metadata": {
    "colab": {
     "base_uri": "https://localhost:8080/"
    },
    "executionInfo": {
     "elapsed": 19601,
     "status": "ok",
     "timestamp": 1700595437468,
     "user": {
      "displayName": "pierre cesar",
      "userId": "06990152005228481993"
     },
     "user_tz": 300
    },
    "id": "GWALnDasOdtL",
    "outputId": "ff1f2111-aa49-4219-881d-54e73ed32578"
   },
   "outputs": [
    {
     "name": "stderr",
     "output_type": "stream",
     "text": [
      "/usr/local/lib/python3.10/dist-packages/transformers/tokenization_utils_base.py:2614: FutureWarning: The `pad_to_max_length` argument is deprecated and will be removed in a future version, use `padding=True` or `padding='longest'` to pad to the longest sequence in the batch, or use `padding='max_length'` to pad to a max length. In this case, you can give a specific length with `max_length` (e.g. `max_length=45`) or leave max_length to None to pad to the maximal input size of the model (e.g. 512 for Bert).\n",
      "  warnings.warn(\n"
     ]
    },
    {
     "name": "stdout",
     "output_type": "stream",
     "text": [
      "Original:  ['what', 'is', 'birthplace', 'of', 'robert', 'rayford', ',', 'that', 'has', 'abbreviation', 'is', 'ארה', '\"', 'ב', '?']\n",
      "Token IDs: tensor([  101,  2054,  2003, 14508,  1997,  2728,  4097,  3877,  1010,  2008,\n",
      "         2038, 22498,  2003,  1241, 29811, 29128,  1000,  1242,  1029,   102,\n",
      "            0,     0,     0,     0,     0,     0,     0,     0,     0,     0,\n",
      "            0,     0,     0,     0,     0,     0,     0,     0,     0,     0,\n",
      "            0,     0,     0,     0,     0,     0,     0,     0,     0,     0,\n",
      "            0,     0,     0,     0,     0,     0,     0,     0,     0,     0,\n",
      "            0,     0,     0,     0,     0,     0,     0,     0,     0,     0,\n",
      "            0,     0,     0,     0,     0,     0,     0,     0,     0,     0,\n",
      "            0,     0,     0,     0,     0,     0,     0,     0,     0,     0,\n",
      "            0,     0,     0,     0,     0,     0,     0,     0,     0,     0,\n",
      "            0,     0,     0,     0,     0,     0,     0,     0,     0,     0,\n",
      "            0,     0,     0,     0,     0,     0,     0,     0,     0,     0])\n",
      "Masks: tensor([1, 1, 1, 1, 1, 1, 1, 1, 1, 1, 1, 1, 1, 1, 1, 1, 1, 1, 1, 1, 0, 0, 0, 0,\n",
      "        0, 0, 0, 0, 0, 0, 0, 0, 0, 0, 0, 0, 0, 0, 0, 0, 0, 0, 0, 0, 0, 0, 0, 0,\n",
      "        0, 0, 0, 0, 0, 0, 0, 0, 0, 0, 0, 0, 0, 0, 0, 0, 0, 0, 0, 0, 0, 0, 0, 0,\n",
      "        0, 0, 0, 0, 0, 0, 0, 0, 0, 0, 0, 0, 0, 0, 0, 0, 0, 0, 0, 0, 0, 0, 0, 0,\n",
      "        0, 0, 0, 0, 0, 0, 0, 0, 0, 0, 0, 0, 0, 0, 0, 0, 0, 0, 0, 0, 0, 0, 0, 0])\n",
      "word_ids: [None, 0, 1, 2, 3, 4, 5, 5, 6, 7, 8, 9, 10, 11, 11, 11, 12, 13, 14, None, None, None, None, None, None, None, None, None, None, None, None, None, None, None, None, None, None, None, None, None, None, None, None, None, None, None, None, None, None, None, None, None, None, None, None, None, None, None, None, None, None, None, None, None, None, None, None, None, None, None, None, None, None, None, None, None, None, None, None, None, None, None, None, None, None, None, None, None, None, None, None, None, None, None, None, None, None, None, None, None, None, None, None, None, None, None, None, None, None, None, None, None, None, None, None, None, None, None, None, None]\n"
     ]
    }
   ],
   "source": [
    "def tokenize_from_model(tokenizer, sentences):\n",
    "    input_ids = []\n",
    "    attention_masks = []\n",
    "    sent_word_ids = []\n",
    "    for sent in sentences:\n",
    "\n",
    "        encoded_dict = tokenizer.encode_plus(\n",
    "                            sent,                  # Sentence to encode.\n",
    "                            add_special_tokens = True, # Add '[CLS]' and '[SEP]'\n",
    "                            truncation = True,\n",
    "                            max_length = 120,           # Pad & truncate all sentences.\n",
    "                            pad_to_max_length = True,\n",
    "                            return_attention_mask = True,   # Construct attn. masks.\n",
    "                            return_tensors = 'pt',     # Return pytorch tensors.\n",
    "                            return_offsets_mapping=True,\n",
    "                            is_split_into_words=True\n",
    "                            )\n",
    "        word_ids = encoded_dict.word_ids()\n",
    "        sent_word_ids.append(word_ids)\n",
    "        # Add the encoded sentence to the list.\n",
    "        input_ids.append(encoded_dict['input_ids'][0])\n",
    "        # And its attention mask (simply differentiates padding from non-padding).\n",
    "        attention_masks.append(encoded_dict['attention_mask'][0])\n",
    "    return input_ids, attention_masks, sent_word_ids\n",
    "\n",
    "input_ids_train, attention_masks_train, word_ids_train = tokenize_from_model(tokenizer, tokens_train)\n",
    "\n",
    "# Print sentence 0, now as a list of IDs.\n",
    "print('Original: ', tokens_train[4136])\n",
    "print('Token IDs:', input_ids_train[4136])\n",
    "print('Masks:', attention_masks_train[4136])\n",
    "print('word_ids:', word_ids_train[4136])"
   ]
  },
  {
   "cell_type": "code",
   "execution_count": null,
   "metadata": {
    "id": "cXOmfqEVOdtM"
   },
   "outputs": [],
   "source": [
    "def get_new_labels(tokenizer, input_ids, word_ids_list, labels, label_map):\n",
    "    # New labels for all of the input sentences.\n",
    "    new_labels = []\n",
    "    # The special label ID we'll give to \"extra\" tokens.\n",
    "    null_label_id = -100\n",
    "\n",
    "    for  token_ids, word_ids, orig_labels in zip( input_ids, word_ids_list, labels):\n",
    "\n",
    "        # Create a new list to hold the adjusted labels for this sentence.\n",
    "        padded_labels = []\n",
    "\n",
    "        for n,(token_id, word_id) in enumerate(zip(token_ids, word_ids)):\n",
    "\n",
    "            if token_id in [tokenizer.pad_token_id, tokenizer.cls_token_id, tokenizer.sep_token_id] or (word_id is None):\n",
    "                padded_labels.append(null_label_id)\n",
    "            else:\n",
    "                # Assign the label of the original word to the token\n",
    "                label_str = orig_labels[word_id]\n",
    "                #si le mot a été split a cause de caracteres speciaux, alors c'est la suite du label initial donc on met\n",
    "                if n >= 0 and word_ids[n-1] == word_id : #c'est le meme mot mais splitté par la tokenization\n",
    "                    label_id = null_label_id\n",
    "                else :\n",
    "                    label_id = label_map.get(label_str, null_label_id)\n",
    "                padded_labels.append(label_id)\n",
    "        new_labels.append(padded_labels)\n",
    "\n",
    "    return new_labels"
   ]
  },
  {
   "cell_type": "code",
   "execution_count": null,
   "metadata": {
    "id": "qm5vlrP6OdtM"
   },
   "outputs": [],
   "source": [
    "new_train_labels = get_new_labels(tokenizer, input_ids_train, word_ids_train, labels_train, label_map)"
   ]
  },
  {
   "cell_type": "code",
   "execution_count": null,
   "metadata": {
    "colab": {
     "base_uri": "https://localhost:8080/"
    },
    "executionInfo": {
     "elapsed": 92,
     "status": "ok",
     "timestamp": 1700595490541,
     "user": {
      "displayName": "pierre cesar",
      "userId": "06990152005228481993"
     },
     "user_tz": 300
    },
    "id": "7FuQjok0OdtM",
    "outputId": "e4750e1f-27bf-44c6-9e16-e1039aee1b37"
   },
   "outputs": [
    {
     "name": "stdout",
     "output_type": "stream",
     "text": [
      "\n",
      "Sentence:     ['what', 'is', 'birthplace', 'of', 'robert', 'rayford', ',', 'that', 'has', 'abbreviation', 'is', 'ארה', '\"', 'ב', '?']\n",
      "\n",
      "Labels:       ['O', 'O', 'B-wdt:P19', 'O', 'B-wd:Q288055', 'I-wd:Q288055', 'O', 'O', 'O', 'B-wdt:P1813', 'O', 'B-\\'ארה\"ב\\'', 'I-\\'ארה\"ב\\'', 'I-\\'ארה\"ב\\'', 'O']\n",
      "\n",
      "BERT Tokens:  ['what', 'is', 'birthplace', 'of', 'robert', 'ray', '##ford', ',', 'that', 'has', 'abbreviation', 'is', 'א', '##ר', '##ה', '\"', 'ב', '?']\n",
      "\n",
      "Word ID List  [None, 0, 1, 2, 3, 4, 5, 5, 6, 7, 8, 9, 10, 11, 11, 11, 12, 13, 14, None, None, None, None, None, None, None, None, None, None, None, None, None, None, None, None, None, None, None, None, None, None, None, None, None, None, None, None, None, None, None, None, None, None, None, None, None, None, None, None, None, None, None, None, None, None, None, None, None, None, None, None, None, None, None, None, None, None, None, None, None, None, None, None, None, None, None, None, None, None, None, None, None, None, None, None, None, None, None, None, None, None, None, None, None, None, None, None, None, None, None, None, None, None, None, None, None, None, None, None, None]\n",
      "\n",
      "Token IDs:    tensor([  101,  2054,  2003, 14508,  1997,  2728,  4097,  3877,  1010,  2008,\n",
      "         2038, 22498,  2003,  1241, 29811, 29128,  1000,  1242,  1029,   102,\n",
      "            0,     0,     0,     0,     0,     0,     0,     0,     0,     0,\n",
      "            0,     0,     0,     0,     0,     0,     0,     0,     0,     0,\n",
      "            0,     0,     0,     0,     0,     0,     0,     0,     0,     0,\n",
      "            0,     0,     0,     0,     0,     0,     0,     0,     0,     0,\n",
      "            0,     0,     0,     0,     0,     0,     0,     0,     0,     0,\n",
      "            0,     0,     0,     0,     0,     0,     0,     0,     0,     0,\n",
      "            0,     0,     0,     0,     0,     0,     0,     0,     0,     0,\n",
      "            0,     0,     0,     0,     0,     0,     0,     0,     0,     0,\n",
      "            0,     0,     0,     0,     0,     0,     0,     0,     0,     0,\n",
      "            0,     0,     0,     0,     0,     0,     0,     0,     0,     0])\n",
      "\n",
      "New Labels:   [-100, 8910, 8910, 23820, 8910, 15671, 4193, -100, 8910, 8910, 8910, 35786, 8910, 26384, -100, -100, 33499, 33499, 8910, -100, -100, -100, -100, -100, -100, -100, -100, -100, -100, -100, -100, -100, -100, -100, -100, -100, -100, -100, -100, -100, -100, -100, -100, -100, -100, -100, -100, -100, -100, -100, -100, -100, -100, -100, -100, -100, -100, -100, -100, -100, -100, -100, -100, -100, -100, -100, -100, -100, -100, -100, -100, -100, -100, -100, -100, -100, -100, -100, -100, -100, -100, -100, -100, -100, -100, -100, -100, -100, -100, -100, -100, -100, -100, -100, -100, -100, -100, -100, -100, -100, -100, -100, -100, -100, -100, -100, -100, -100, -100, -100, -100, -100, -100, -100, -100, -100, -100, -100, -100, -100]\n",
      "\n",
      "New Labels transformed:   ['O', 'O', 'B-wdt:P19', 'O', 'B-wd:Q288055', 'I-wd:Q288055', 'O', 'O', 'O', 'B-wdt:P1813', 'O', 'B-\\'ארה\"ב\\'', 'I-\\'ארה\"ב\\'', 'I-\\'ארה\"ב\\'', 'O']\n",
      "\n",
      "Mask:         tensor([1, 1, 1, 1, 1, 1, 1, 1, 1, 1, 1, 1, 1, 1, 1, 1, 1, 1, 1, 1, 0, 0, 0, 0,\n",
      "        0, 0, 0, 0, 0, 0, 0, 0, 0, 0, 0, 0, 0, 0, 0, 0, 0, 0, 0, 0, 0, 0, 0, 0,\n",
      "        0, 0, 0, 0, 0, 0, 0, 0, 0, 0, 0, 0, 0, 0, 0, 0, 0, 0, 0, 0, 0, 0, 0, 0,\n",
      "        0, 0, 0, 0, 0, 0, 0, 0, 0, 0, 0, 0, 0, 0, 0, 0, 0, 0, 0, 0, 0, 0, 0, 0,\n",
      "        0, 0, 0, 0, 0, 0, 0, 0, 0, 0, 0, 0, 0, 0, 0, 0, 0, 0, 0, 0, 0, 0, 0, 0])\n"
     ]
    }
   ],
   "source": [
    "print('\\nSentence:    ', tokens_train[4136])\n",
    "print('\\nLabels:      ', labels_train[4136])\n",
    "print('\\nBERT Tokens: ', tokenizer.tokenize(' '.join(tokens_train[4136])))\n",
    "print('\\nWord ID List ', word_ids_train[4136])\n",
    "print('\\nToken IDs:   ', input_ids_train[4136])\n",
    "print('\\nNew Labels:  ', new_train_labels[4136])\n",
    "print('\\nNew Labels transformed:  ', [list(label_map.keys())[list(label_map.values()).index(label)] for label in new_train_labels[4136] if label != -100])\n",
    "print('\\nMask:        ', attention_masks_train[4136])"
   ]
  },
  {
   "cell_type": "code",
   "execution_count": null,
   "metadata": {
    "id": "swwPe4-N0OT5"
   },
   "outputs": [],
   "source": [
    "tokens_validation, labels_validation = preprocess(data_validation)\n",
    "input_ids_val, attention_masks_val, word_ids_val = tokenize_from_model(tokenizer, tokens_validation)\n",
    "new_val_labels = get_new_labels(tokenizer, input_ids_val, word_ids_val, labels_validation, label_map)"
   ]
  },
  {
   "cell_type": "code",
   "execution_count": null,
   "metadata": {
    "colab": {
     "base_uri": "https://localhost:8080/"
    },
    "executionInfo": {
     "elapsed": 155,
     "status": "ok",
     "timestamp": 1700595494586,
     "user": {
      "displayName": "pierre cesar",
      "userId": "06990152005228481993"
     },
     "user_tz": 300
    },
    "id": "QI1GPOhv_3Bt",
    "outputId": "7f7cfb34-6794-4209-877e-48679a4d074d"
   },
   "outputs": [
    {
     "name": "stdout",
     "output_type": "stream",
     "text": [
      "2990\n",
      "2183\n",
      "0.1645467322557976\n"
     ]
    }
   ],
   "source": [
    "#check all labels from labels_validation that are not in label_map\n",
    "unknown_labels = []\n",
    "nb_to_classifie = 0\n",
    "for label in labels_validation :\n",
    "    nb_to_classifie += len(label)\n",
    "    for l in label :\n",
    "        if l not in label_map.keys() :\n",
    "            unknown_labels.append(l)\n",
    "unknown_labels_unique = list(set(unknown_labels))\n",
    "print(len(unknown_labels_unique))\n",
    "print(len(labels_validation))\n",
    "\n",
    "print(len(unknown_labels)/nb_to_classifie)"
   ]
  },
  {
   "cell_type": "markdown",
   "metadata": {
    "id": "6gKT1CSgx56C"
   },
   "source": [
    ">on remarque qu'une proportion non négligeable des labels est inconnue"
   ]
  },
  {
   "cell_type": "markdown",
   "metadata": {
    "id": "o5SEm8rbyBNz"
   },
   "source": [
    "#### Création des Tenseurs et datasets d'entrainement"
   ]
  },
  {
   "cell_type": "code",
   "execution_count": null,
   "metadata": {
    "id": "PiLKZuF6OdtN"
   },
   "outputs": [],
   "source": [
    "#\n",
    "pt_input_ids = torch.stack(input_ids_train, dim=0)\n",
    "pt_input_ids_val = torch.stack(input_ids_val, dim=0)\n",
    "\n",
    "pt_attention_masks = torch.stack(attention_masks_train, dim=0)\n",
    "pt_attention_masks_val = torch.stack(attention_masks_val,dim=0)\n",
    "\n",
    "pt_labels = torch.tensor(new_train_labels, dtype=torch.long)\n",
    "pt_labels_val = torch.tensor(new_val_labels, dtype=torch.long)"
   ]
  },
  {
   "cell_type": "code",
   "execution_count": null,
   "metadata": {
    "colab": {
     "base_uri": "https://localhost:8080/"
    },
    "executionInfo": {
     "elapsed": 81,
     "status": "ok",
     "timestamp": 1700595494587,
     "user": {
      "displayName": "pierre cesar",
      "userId": "06990152005228481993"
     },
     "user_tz": 300
    },
    "id": "wQBJvW4hOdtN",
    "outputId": "f631ba31-1e42-4f1e-a6e4-9cc89f848322"
   },
   "outputs": [
    {
     "name": "stdout",
     "output_type": "stream",
     "text": [
      "19,603 training samples\n",
      "2,183 validation samples\n"
     ]
    }
   ],
   "source": [
    "from torch.utils.data import TensorDataset, random_split\n",
    "\n",
    "\n",
    "# Combine the training inputs into a TensorDataset.\n",
    "dataset_train = TensorDataset(pt_input_ids, pt_attention_masks, pt_labels)\n",
    "dataset_val_tr = TensorDataset(pt_input_ids_val,pt_attention_masks_val, pt_labels_val)\n",
    "# Create a 90-10 train-validation split.\n",
    "\n",
    "print('{:>5,} training samples'.format(len(dataset_train)))\n",
    "print('{:>5,} validation samples'.format(len(dataset_val_tr)))"
   ]
  },
  {
   "cell_type": "code",
   "execution_count": null,
   "metadata": {
    "id": "B331mPZSOdtN"
   },
   "outputs": [],
   "source": [
    "from torch.utils.data import DataLoader, RandomSampler, SequentialSampler\n",
    "\n",
    "batch_size = 16\n",
    "\n",
    "\n",
    "train_dataloader = DataLoader(\n",
    "            dataset_train,  # The training samples.\n",
    "            sampler = RandomSampler(dataset_train), # Select batches randomly\n",
    "            batch_size = batch_size # Trains with this batch size.\n",
    "        )\n",
    "validation_dataloader_tr = DataLoader(\n",
    "            dataset_val_tr,\n",
    "            batch_size = batch_size# Evaluate with this batch size.\n",
    "        )"
   ]
  },
  {
   "cell_type": "markdown",
   "metadata": {
    "id": "yrqf7Ig3yNyL"
   },
   "source": [
    "#### Chargement du modèle BERT préentrainé"
   ]
  },
  {
   "cell_type": "code",
   "execution_count": null,
   "metadata": {
    "colab": {
     "base_uri": "https://localhost:8080/",
     "height": 800,
     "referenced_widgets": [
      "2a9d436ca80d4fd88e4a75678dfa9d8c",
      "769798978154452f9534cbad59dde076",
      "797ee01739e347a78bc08516ffd853e3",
      "b2ebd7fb136541dd9a4ae07e150bcae7",
      "d45d2a05c8404553a39b05be081272f0",
      "115a61ab727d417a858113fe29bd64ba",
      "ce185795e8ec466fa225896b63c1b475",
      "96048f83cd06414bb8f368e8e711241c",
      "3c194fd674614b318cd5b73dfe5a1fc2",
      "b6bcb969a78247fba0f96dbaca78c9e8",
      "a200b4212dd7410e9b33168e4b696ef8"
     ]
    },
    "executionInfo": {
     "elapsed": 13744,
     "status": "ok",
     "timestamp": 1700595508786,
     "user": {
      "displayName": "pierre cesar",
      "userId": "06990152005228481993"
     },
     "user_tz": 300
    },
    "id": "H4jyp5dfOdtN",
    "outputId": "d6c70cc2-e111-42be-8bae-784e833bb54f"
   },
   "outputs": [
    {
     "data": {
      "application/vnd.jupyter.widget-view+json": {
       "model_id": "2a9d436ca80d4fd88e4a75678dfa9d8c",
       "version_major": 2,
       "version_minor": 0
      },
      "text/plain": [
       "model.safetensors:   0%|          | 0.00/440M [00:00<?, ?B/s]"
      ]
     },
     "metadata": {},
     "output_type": "display_data"
    },
    {
     "name": "stderr",
     "output_type": "stream",
     "text": [
      "Some weights of BertForTokenClassification were not initialized from the model checkpoint at bert-base-uncased and are newly initialized: ['classifier.weight', 'classifier.bias']\n",
      "You should probably TRAIN this model on a down-stream task to be able to use it for predictions and inference.\n"
     ]
    },
    {
     "data": {
      "text/plain": [
       "BertForTokenClassification(\n",
       "  (bert): BertModel(\n",
       "    (embeddings): BertEmbeddings(\n",
       "      (word_embeddings): Embedding(30522, 768, padding_idx=0)\n",
       "      (position_embeddings): Embedding(512, 768)\n",
       "      (token_type_embeddings): Embedding(2, 768)\n",
       "      (LayerNorm): LayerNorm((768,), eps=1e-12, elementwise_affine=True)\n",
       "      (dropout): Dropout(p=0.1, inplace=False)\n",
       "    )\n",
       "    (encoder): BertEncoder(\n",
       "      (layer): ModuleList(\n",
       "        (0-11): 12 x BertLayer(\n",
       "          (attention): BertAttention(\n",
       "            (self): BertSelfAttention(\n",
       "              (query): Linear(in_features=768, out_features=768, bias=True)\n",
       "              (key): Linear(in_features=768, out_features=768, bias=True)\n",
       "              (value): Linear(in_features=768, out_features=768, bias=True)\n",
       "              (dropout): Dropout(p=0.1, inplace=False)\n",
       "            )\n",
       "            (output): BertSelfOutput(\n",
       "              (dense): Linear(in_features=768, out_features=768, bias=True)\n",
       "              (LayerNorm): LayerNorm((768,), eps=1e-12, elementwise_affine=True)\n",
       "              (dropout): Dropout(p=0.1, inplace=False)\n",
       "            )\n",
       "          )\n",
       "          (intermediate): BertIntermediate(\n",
       "            (dense): Linear(in_features=768, out_features=3072, bias=True)\n",
       "            (intermediate_act_fn): GELUActivation()\n",
       "          )\n",
       "          (output): BertOutput(\n",
       "            (dense): Linear(in_features=3072, out_features=768, bias=True)\n",
       "            (LayerNorm): LayerNorm((768,), eps=1e-12, elementwise_affine=True)\n",
       "            (dropout): Dropout(p=0.1, inplace=False)\n",
       "          )\n",
       "        )\n",
       "      )\n",
       "    )\n",
       "  )\n",
       "  (dropout): Dropout(p=0.1, inplace=False)\n",
       "  (classifier): Linear(in_features=768, out_features=39589, bias=True)\n",
       ")"
      ]
     },
     "execution_count": 32,
     "metadata": {},
     "output_type": "execute_result"
    }
   ],
   "source": [
    "from transformers import BertForTokenClassification, AdamW, BertConfig\n",
    "\n",
    "# Load BertForTokenClassification\n",
    "model = BertForTokenClassification.from_pretrained(\n",
    "    \"bert-base-uncased\", # Use the 12-layer BERT model, with an uncased vocab.\n",
    "    num_labels = len(label_map) + 1, # The number of output labels--18 for our NER dataset\n",
    "    output_attentions = False, # Whether the model returns attentions weights.\n",
    "    output_hidden_states = False, # Whether the model returns all hidden-states.\n",
    ")\n",
    "\n",
    "# Tell pytorch to run this model on the GPU.\n",
    "model.cuda()"
   ]
  },
  {
   "cell_type": "markdown",
   "metadata": {
    "id": "yJ3t7kRtyRV-"
   },
   "source": [
    "#### Définition des parametres de l'entrainement"
   ]
  },
  {
   "cell_type": "code",
   "execution_count": null,
   "metadata": {
    "colab": {
     "base_uri": "https://localhost:8080/"
    },
    "executionInfo": {
     "elapsed": 96,
     "status": "ok",
     "timestamp": 1700595508787,
     "user": {
      "displayName": "pierre cesar",
      "userId": "06990152005228481993"
     },
     "user_tz": 300
    },
    "id": "jEE3-lndOdtN",
    "outputId": "98137d24-3af9-4de8-a24c-2602f8e2e7a0"
   },
   "outputs": [
    {
     "name": "stderr",
     "output_type": "stream",
     "text": [
      "/usr/local/lib/python3.10/dist-packages/transformers/optimization.py:411: FutureWarning: This implementation of AdamW is deprecated and will be removed in a future version. Use the PyTorch implementation torch.optim.AdamW instead, or set `no_deprecation_warning=True` to disable this warning\n",
      "  warnings.warn(\n"
     ]
    }
   ],
   "source": [
    "# Load the AdamW optimizer\n",
    "optimizer = AdamW(model.parameters(),\n",
    "                  lr = 5e-5, # args.learning_rate\n",
    "                  eps = 1e-8 # args.adam_epsilon\n",
    "                )"
   ]
  },
  {
   "cell_type": "code",
   "execution_count": null,
   "metadata": {
    "id": "CqxKQ8mkOdtN"
   },
   "outputs": [],
   "source": [
    "from transformers import get_linear_schedule_with_warmup\n",
    "\n",
    "# Number of training epochs\n",
    "epochs = 10\n",
    "\n",
    "# Total number of training steps is number of batches * number of epochs.\n",
    "total_steps = len(train_dataloader) * epochs\n",
    "\n",
    "# Create the learning rate scheduler.\n",
    "scheduler = get_linear_schedule_with_warmup(optimizer,\n",
    "                                            num_warmup_steps = 0,\n",
    "                                            num_training_steps = total_steps)"
   ]
  },
  {
   "cell_type": "code",
   "execution_count": null,
   "metadata": {
    "id": "I3ni_V-QOdtN"
   },
   "outputs": [],
   "source": [
    "import time\n",
    "import numpy as np\n",
    "import datetime\n",
    "\n",
    "def format_time(elapsed):\n",
    "    '''\n",
    "    Takes a time in seconds and returns a string hh:mm:ss\n",
    "    '''\n",
    "    # Round to the nearest second.\n",
    "    elapsed_rounded = int(round((elapsed)))\n",
    "\n",
    "    # Format as hh:mm:ss\n",
    "    return str(datetime.timedelta(seconds=elapsed_rounded))"
   ]
  },
  {
   "cell_type": "code",
   "execution_count": null,
   "metadata": {
    "id": "Onp4MS0q_3Bu"
   },
   "outputs": [],
   "source": [
    "device = torch.device(\"cuda\")"
   ]
  },
  {
   "cell_type": "markdown",
   "metadata": {
    "id": "50iXb7U5yWDZ"
   },
   "source": [
    "#### Création des fonctions d'évalution du f1 score et accuracy"
   ]
  },
  {
   "cell_type": "code",
   "execution_count": null,
   "metadata": {
    "id": "WgCWTloo_3Bu"
   },
   "outputs": [],
   "source": [
    "from sklearn.metrics import f1_score\n",
    "def get_label_list_from_predict(predict_labels, word_ids_list, label_map : dict):\n",
    "    # New labels for all of the input sentences.\n",
    "    predict_labels_formated = []\n",
    "\n",
    "    for  word_ids, orig_labels in zip( word_ids_list, predict_labels):\n",
    "\n",
    "        # Create a new list to hold the adjusted labels for this sentence.\n",
    "        padded_labels = []\n",
    "        # For each token in the sentence...\n",
    "        for n,(word_id, label) in enumerate(zip(word_ids, orig_labels)):\n",
    "            if word_id != None :\n",
    "                label_str = list(label_map.keys())[list(label_map.values()).index(label)]\n",
    "                if n>=0 and word_ids[n-1] == word_id:\n",
    "                    continue\n",
    "                else :\n",
    "                    padded_labels.append(label_str)\n",
    "            else :\n",
    "                continue\n",
    "\n",
    "        predict_labels_formated.append(padded_labels)\n",
    "\n",
    "    return predict_labels_formated\n",
    "\n",
    "def compute_metrics(labels : np.array, preds : np.array, count_O=False):\n",
    "\n",
    "    assert len(preds) == len(labels)\n",
    "    for pred, label in zip(preds, labels):\n",
    "        assert len(pred) == len(label)\n",
    "    #flatten labels and preds with numpy methode\n",
    "    labels = np.concatenate(labels)\n",
    "    preds = np.concatenate(preds)\n",
    "    #remove all O labels\n",
    "    mask_O = labels != 'O'\n",
    "\n",
    "    if count_O :\n",
    "        accuracy = (preds == labels).mean()\n",
    "        f1 = f1_score(labels, preds, average=\"macro\")\n",
    "    else :\n",
    "        accuracy = (preds[mask_O] == labels[mask_O]).mean()\n",
    "        f1 = f1_score(labels[mask_O], preds[mask_O], average=\"macro\")\n",
    "    return accuracy, f1\n",
    "\n",
    "def get_evaluation_metrics(model, val_dataloader,word_ids_list, label_map : dict, labels_true) :\n",
    "    model.eval()\n",
    "    total_loss = 0\n",
    "    predict_labels = []\n",
    "    with torch.no_grad() :\n",
    "        for step, batch in enumerate(val_dataloader) :\n",
    "            b_input_ids = batch[0].to(device)\n",
    "            b_input_mask = batch[1].to(device)\n",
    "            b_labels = batch[2].to(device)\n",
    "            result = model(b_input_ids,\n",
    "                        token_type_ids=None,\n",
    "                        attention_mask=b_input_mask,\n",
    "                        labels=b_labels)\n",
    "            logits = result.logits\n",
    "            logits = logits.detach().cpu().numpy()\n",
    "            predict_labels.append(np.argmax(logits, axis=2))\n",
    "            loss = result.loss\n",
    "            total_loss += loss.item()\n",
    "    predict_labels = np.concatenate(predict_labels)\n",
    "    formated_predict_labels = get_label_list_from_predict(predict_labels, word_ids_list, label_map)\n",
    "    accuracy, f1 = compute_metrics(labels_true, formated_predict_labels)\n",
    "    avg_loss = total_loss / len(val_dataloader)\n",
    "    return avg_loss, accuracy, f1\n"
   ]
  },
  {
   "cell_type": "markdown",
   "metadata": {
    "id": "ksHku_Hzy8H-"
   },
   "source": [
    "#### Boucle D'entrainement"
   ]
  },
  {
   "cell_type": "code",
   "execution_count": null,
   "metadata": {
    "colab": {
     "base_uri": "https://localhost:8080/"
    },
    "executionInfo": {
     "elapsed": 2910683,
     "status": "ok",
     "timestamp": 1700592596851,
     "user": {
      "displayName": "pierre cesar",
      "userId": "06990152005228481993"
     },
     "user_tz": 300
    },
    "id": "ULeDkH9bOdtO",
    "outputId": "b58eb9b3-2d1e-4e40-b215-b4d49313303a"
   },
   "outputs": [
    {
     "name": "stdout",
     "output_type": "stream",
     "text": [
      "\n",
      "======== Epoch 1 / 10 ========\n",
      "Training...\n",
      "  Batch    40  of  1,226.    Elapsed: 0:00:08.\n",
      "  Batch    80  of  1,226.    Elapsed: 0:00:14.\n",
      "  Batch   120  of  1,226.    Elapsed: 0:00:20.\n",
      "  Batch   160  of  1,226.    Elapsed: 0:00:25.\n",
      "  Batch   200  of  1,226.    Elapsed: 0:00:31.\n",
      "  Batch   240  of  1,226.    Elapsed: 0:00:36.\n",
      "  Batch   280  of  1,226.    Elapsed: 0:00:42.\n",
      "  Batch   320  of  1,226.    Elapsed: 0:00:48.\n",
      "  Batch   360  of  1,226.    Elapsed: 0:00:54.\n",
      "  Batch   400  of  1,226.    Elapsed: 0:01:00.\n",
      "  Batch   440  of  1,226.    Elapsed: 0:01:05.\n",
      "  Batch   480  of  1,226.    Elapsed: 0:01:11.\n",
      "  Batch   520  of  1,226.    Elapsed: 0:01:16.\n",
      "  Batch   560  of  1,226.    Elapsed: 0:01:22.\n",
      "  Batch   600  of  1,226.    Elapsed: 0:01:28.\n",
      "  Batch   640  of  1,226.    Elapsed: 0:01:33.\n",
      "  Batch   680  of  1,226.    Elapsed: 0:01:39.\n",
      "  Batch   720  of  1,226.    Elapsed: 0:01:45.\n",
      "  Batch   760  of  1,226.    Elapsed: 0:01:50.\n",
      "  Batch   800  of  1,226.    Elapsed: 0:01:56.\n",
      "  Batch   840  of  1,226.    Elapsed: 0:02:01.\n",
      "  Batch   880  of  1,226.    Elapsed: 0:02:07.\n",
      "  Batch   920  of  1,226.    Elapsed: 0:02:13.\n",
      "  Batch   960  of  1,226.    Elapsed: 0:02:18.\n",
      "  Batch 1,000  of  1,226.    Elapsed: 0:02:24.\n",
      "  Batch 1,040  of  1,226.    Elapsed: 0:02:33.\n",
      "  Batch 1,080  of  1,226.    Elapsed: 0:02:39.\n",
      "  Batch 1,120  of  1,226.    Elapsed: 0:02:46.\n",
      "  Batch 1,160  of  1,226.    Elapsed: 0:02:53.\n",
      "  Batch 1,200  of  1,226.    Elapsed: 0:02:59.\n",
      "\n",
      "  Average training loss: 4.85\n",
      " Validation loss: 2.79\n",
      " Validation Accuracy: 0.29\n",
      " Validation F1 score: 0.04\n",
      "  Training epcoh took: 0:05:04\n",
      "\n",
      "======== Epoch 2 / 10 ========\n",
      "Training...\n",
      "  Batch    40  of  1,226.    Elapsed: 0:00:06.\n",
      "  Batch    80  of  1,226.    Elapsed: 0:00:13.\n",
      "  Batch   120  of  1,226.    Elapsed: 0:00:18.\n",
      "  Batch   160  of  1,226.    Elapsed: 0:00:24.\n",
      "  Batch   200  of  1,226.    Elapsed: 0:00:29.\n",
      "  Batch   240  of  1,226.    Elapsed: 0:00:35.\n",
      "  Batch   280  of  1,226.    Elapsed: 0:00:41.\n",
      "  Batch   320  of  1,226.    Elapsed: 0:00:46.\n",
      "  Batch   360  of  1,226.    Elapsed: 0:00:52.\n",
      "  Batch   400  of  1,226.    Elapsed: 0:00:57.\n",
      "  Batch   440  of  1,226.    Elapsed: 0:01:03.\n",
      "  Batch   480  of  1,226.    Elapsed: 0:01:09.\n",
      "  Batch   520  of  1,226.    Elapsed: 0:01:14.\n",
      "  Batch   560  of  1,226.    Elapsed: 0:01:20.\n",
      "  Batch   600  of  1,226.    Elapsed: 0:01:26.\n",
      "  Batch   640  of  1,226.    Elapsed: 0:01:31.\n",
      "  Batch   680  of  1,226.    Elapsed: 0:01:37.\n",
      "  Batch   720  of  1,226.    Elapsed: 0:01:42.\n",
      "  Batch   760  of  1,226.    Elapsed: 0:01:48.\n",
      "  Batch   800  of  1,226.    Elapsed: 0:01:54.\n",
      "  Batch   840  of  1,226.    Elapsed: 0:01:59.\n",
      "  Batch   880  of  1,226.    Elapsed: 0:02:05.\n",
      "  Batch   920  of  1,226.    Elapsed: 0:02:11.\n",
      "  Batch   960  of  1,226.    Elapsed: 0:02:16.\n",
      "  Batch 1,000  of  1,226.    Elapsed: 0:02:22.\n",
      "  Batch 1,040  of  1,226.    Elapsed: 0:02:27.\n",
      "  Batch 1,080  of  1,226.    Elapsed: 0:02:33.\n",
      "  Batch 1,120  of  1,226.    Elapsed: 0:02:39.\n",
      "  Batch 1,160  of  1,226.    Elapsed: 0:02:44.\n",
      "  Batch 1,200  of  1,226.    Elapsed: 0:02:50.\n",
      "\n",
      "  Average training loss: 3.77\n",
      " Validation loss: 2.09\n",
      " Validation Accuracy: 0.38\n",
      " Validation F1 score: 0.09\n",
      "  Training epcoh took: 0:04:55\n",
      "\n",
      "======== Epoch 3 / 10 ========\n",
      "Training...\n",
      "  Batch    40  of  1,226.    Elapsed: 0:00:06.\n",
      "  Batch    80  of  1,226.    Elapsed: 0:00:11.\n",
      "  Batch   120  of  1,226.    Elapsed: 0:00:17.\n",
      "  Batch   160  of  1,226.    Elapsed: 0:00:22.\n",
      "  Batch   200  of  1,226.    Elapsed: 0:00:28.\n",
      "  Batch   240  of  1,226.    Elapsed: 0:00:34.\n",
      "  Batch   280  of  1,226.    Elapsed: 0:00:39.\n",
      "  Batch   320  of  1,226.    Elapsed: 0:00:45.\n",
      "  Batch   360  of  1,226.    Elapsed: 0:00:50.\n",
      "  Batch   400  of  1,226.    Elapsed: 0:00:56.\n",
      "  Batch   440  of  1,226.    Elapsed: 0:01:02.\n",
      "  Batch   480  of  1,226.    Elapsed: 0:01:07.\n",
      "  Batch   520  of  1,226.    Elapsed: 0:01:13.\n",
      "  Batch   560  of  1,226.    Elapsed: 0:01:19.\n",
      "  Batch   600  of  1,226.    Elapsed: 0:01:24.\n",
      "  Batch   640  of  1,226.    Elapsed: 0:01:30.\n",
      "  Batch   680  of  1,226.    Elapsed: 0:01:36.\n",
      "  Batch   720  of  1,226.    Elapsed: 0:01:41.\n",
      "  Batch   760  of  1,226.    Elapsed: 0:01:47.\n",
      "  Batch   800  of  1,226.    Elapsed: 0:01:52.\n",
      "  Batch   840  of  1,226.    Elapsed: 0:01:58.\n",
      "  Batch   880  of  1,226.    Elapsed: 0:02:04.\n",
      "  Batch   920  of  1,226.    Elapsed: 0:02:09.\n",
      "  Batch   960  of  1,226.    Elapsed: 0:02:15.\n",
      "  Batch 1,000  of  1,226.    Elapsed: 0:02:21.\n",
      "  Batch 1,040  of  1,226.    Elapsed: 0:02:26.\n",
      "  Batch 1,080  of  1,226.    Elapsed: 0:02:32.\n",
      "  Batch 1,120  of  1,226.    Elapsed: 0:02:38.\n",
      "  Batch 1,160  of  1,226.    Elapsed: 0:02:43.\n",
      "  Batch 1,200  of  1,226.    Elapsed: 0:02:49.\n",
      "\n",
      "  Average training loss: 3.19\n",
      " Validation loss: 1.71\n",
      " Validation Accuracy: 0.46\n",
      " Validation F1 score: 0.15\n",
      "  Training epcoh took: 0:04:46\n",
      "\n",
      "======== Epoch 4 / 10 ========\n",
      "Training...\n",
      "  Batch    40  of  1,226.    Elapsed: 0:00:06.\n",
      "  Batch    80  of  1,226.    Elapsed: 0:00:11.\n",
      "  Batch   120  of  1,226.    Elapsed: 0:00:17.\n",
      "  Batch   160  of  1,226.    Elapsed: 0:00:22.\n",
      "  Batch   200  of  1,226.    Elapsed: 0:00:28.\n",
      "  Batch   240  of  1,226.    Elapsed: 0:00:34.\n",
      "  Batch   280  of  1,226.    Elapsed: 0:00:39.\n",
      "  Batch   320  of  1,226.    Elapsed: 0:00:45.\n",
      "  Batch   360  of  1,226.    Elapsed: 0:00:51.\n",
      "  Batch   400  of  1,226.    Elapsed: 0:00:56.\n",
      "  Batch   440  of  1,226.    Elapsed: 0:01:02.\n",
      "  Batch   480  of  1,226.    Elapsed: 0:01:07.\n",
      "  Batch   520  of  1,226.    Elapsed: 0:01:13.\n",
      "  Batch   560  of  1,226.    Elapsed: 0:01:19.\n",
      "  Batch   600  of  1,226.    Elapsed: 0:01:24.\n",
      "  Batch   640  of  1,226.    Elapsed: 0:01:30.\n",
      "  Batch   680  of  1,226.    Elapsed: 0:01:36.\n",
      "  Batch   720  of  1,226.    Elapsed: 0:01:41.\n",
      "  Batch   760  of  1,226.    Elapsed: 0:01:47.\n",
      "  Batch   800  of  1,226.    Elapsed: 0:01:52.\n",
      "  Batch   840  of  1,226.    Elapsed: 0:01:58.\n",
      "  Batch   880  of  1,226.    Elapsed: 0:02:04.\n",
      "  Batch   920  of  1,226.    Elapsed: 0:02:09.\n",
      "  Batch   960  of  1,226.    Elapsed: 0:02:15.\n",
      "  Batch 1,000  of  1,226.    Elapsed: 0:02:21.\n",
      "  Batch 1,040  of  1,226.    Elapsed: 0:02:26.\n",
      "  Batch 1,080  of  1,226.    Elapsed: 0:02:32.\n",
      "  Batch 1,120  of  1,226.    Elapsed: 0:02:38.\n",
      "  Batch 1,160  of  1,226.    Elapsed: 0:02:43.\n",
      "  Batch 1,200  of  1,226.    Elapsed: 0:02:49.\n",
      "\n",
      "  Average training loss: 2.77\n",
      " Validation loss: 1.45\n",
      " Validation Accuracy: 0.50\n",
      " Validation F1 score: 0.19\n",
      "  Training epcoh took: 0:04:47\n",
      "\n",
      "======== Epoch 5 / 10 ========\n",
      "Training...\n",
      "  Batch    40  of  1,226.    Elapsed: 0:00:06.\n",
      "  Batch    80  of  1,226.    Elapsed: 0:00:11.\n",
      "  Batch   120  of  1,226.    Elapsed: 0:00:17.\n",
      "  Batch   160  of  1,226.    Elapsed: 0:00:22.\n",
      "  Batch   200  of  1,226.    Elapsed: 0:00:28.\n",
      "  Batch   240  of  1,226.    Elapsed: 0:00:34.\n",
      "  Batch   280  of  1,226.    Elapsed: 0:00:39.\n",
      "  Batch   320  of  1,226.    Elapsed: 0:00:45.\n",
      "  Batch   360  of  1,226.    Elapsed: 0:00:51.\n",
      "  Batch   400  of  1,226.    Elapsed: 0:00:56.\n",
      "  Batch   440  of  1,226.    Elapsed: 0:01:02.\n",
      "  Batch   480  of  1,226.    Elapsed: 0:01:08.\n",
      "  Batch   520  of  1,226.    Elapsed: 0:01:13.\n",
      "  Batch   560  of  1,226.    Elapsed: 0:01:19.\n",
      "  Batch   600  of  1,226.    Elapsed: 0:01:24.\n",
      "  Batch   640  of  1,226.    Elapsed: 0:01:30.\n",
      "  Batch   680  of  1,226.    Elapsed: 0:01:36.\n",
      "  Batch   720  of  1,226.    Elapsed: 0:01:41.\n",
      "  Batch   760  of  1,226.    Elapsed: 0:01:47.\n",
      "  Batch   800  of  1,226.    Elapsed: 0:01:53.\n",
      "  Batch   840  of  1,226.    Elapsed: 0:01:58.\n",
      "  Batch   880  of  1,226.    Elapsed: 0:02:04.\n",
      "  Batch   920  of  1,226.    Elapsed: 0:02:10.\n",
      "  Batch   960  of  1,226.    Elapsed: 0:02:15.\n",
      "  Batch 1,000  of  1,226.    Elapsed: 0:02:21.\n",
      "  Batch 1,040  of  1,226.    Elapsed: 0:02:26.\n",
      "  Batch 1,080  of  1,226.    Elapsed: 0:02:32.\n",
      "  Batch 1,120  of  1,226.    Elapsed: 0:02:38.\n",
      "  Batch 1,160  of  1,226.    Elapsed: 0:02:43.\n",
      "  Batch 1,200  of  1,226.    Elapsed: 0:02:49.\n",
      "\n",
      "  Average training loss: 2.45\n",
      " Validation loss: 1.26\n",
      " Validation Accuracy: 0.53\n",
      " Validation F1 score: 0.22\n",
      "  Training epcoh took: 0:04:48\n",
      "\n",
      "======== Epoch 6 / 10 ========\n",
      "Training...\n",
      "  Batch    40  of  1,226.    Elapsed: 0:00:06.\n",
      "  Batch    80  of  1,226.    Elapsed: 0:00:11.\n",
      "  Batch   120  of  1,226.    Elapsed: 0:00:17.\n",
      "  Batch   160  of  1,226.    Elapsed: 0:00:23.\n",
      "  Batch   200  of  1,226.    Elapsed: 0:00:28.\n",
      "  Batch   240  of  1,226.    Elapsed: 0:00:34.\n",
      "  Batch   280  of  1,226.    Elapsed: 0:00:39.\n",
      "  Batch   320  of  1,226.    Elapsed: 0:00:45.\n",
      "  Batch   360  of  1,226.    Elapsed: 0:00:51.\n",
      "  Batch   400  of  1,226.    Elapsed: 0:00:56.\n",
      "  Batch   440  of  1,226.    Elapsed: 0:01:02.\n",
      "  Batch   480  of  1,226.    Elapsed: 0:01:08.\n",
      "  Batch   520  of  1,226.    Elapsed: 0:01:13.\n",
      "  Batch   560  of  1,226.    Elapsed: 0:01:19.\n",
      "  Batch   600  of  1,226.    Elapsed: 0:01:25.\n",
      "  Batch   640  of  1,226.    Elapsed: 0:01:30.\n",
      "  Batch   680  of  1,226.    Elapsed: 0:01:36.\n",
      "  Batch   720  of  1,226.    Elapsed: 0:01:41.\n",
      "  Batch   760  of  1,226.    Elapsed: 0:01:47.\n",
      "  Batch   800  of  1,226.    Elapsed: 0:01:53.\n",
      "  Batch   840  of  1,226.    Elapsed: 0:01:58.\n",
      "  Batch   880  of  1,226.    Elapsed: 0:02:04.\n",
      "  Batch   920  of  1,226.    Elapsed: 0:02:10.\n",
      "  Batch   960  of  1,226.    Elapsed: 0:02:15.\n",
      "  Batch 1,000  of  1,226.    Elapsed: 0:02:21.\n",
      "  Batch 1,040  of  1,226.    Elapsed: 0:02:27.\n",
      "  Batch 1,080  of  1,226.    Elapsed: 0:02:32.\n",
      "  Batch 1,120  of  1,226.    Elapsed: 0:02:38.\n",
      "  Batch 1,160  of  1,226.    Elapsed: 0:02:43.\n",
      "  Batch 1,200  of  1,226.    Elapsed: 0:02:49.\n",
      "\n",
      "  Average training loss: 2.19\n",
      " Validation loss: 1.12\n",
      " Validation Accuracy: 0.55\n",
      " Validation F1 score: 0.24\n",
      "  Training epcoh took: 0:04:47\n",
      "\n",
      "======== Epoch 7 / 10 ========\n",
      "Training...\n",
      "  Batch    40  of  1,226.    Elapsed: 0:00:06.\n",
      "  Batch    80  of  1,226.    Elapsed: 0:00:11.\n",
      "  Batch   120  of  1,226.    Elapsed: 0:00:17.\n",
      "  Batch   160  of  1,226.    Elapsed: 0:00:23.\n",
      "  Batch   200  of  1,226.    Elapsed: 0:00:28.\n",
      "  Batch   240  of  1,226.    Elapsed: 0:00:34.\n",
      "  Batch   280  of  1,226.    Elapsed: 0:00:40.\n",
      "  Batch   320  of  1,226.    Elapsed: 0:00:46.\n",
      "  Batch   360  of  1,226.    Elapsed: 0:00:51.\n",
      "  Batch   400  of  1,226.    Elapsed: 0:00:57.\n",
      "  Batch   440  of  1,226.    Elapsed: 0:01:02.\n",
      "  Batch   480  of  1,226.    Elapsed: 0:01:08.\n",
      "  Batch   520  of  1,226.    Elapsed: 0:01:14.\n",
      "  Batch   560  of  1,226.    Elapsed: 0:01:19.\n",
      "  Batch   600  of  1,226.    Elapsed: 0:01:25.\n",
      "  Batch   640  of  1,226.    Elapsed: 0:01:31.\n",
      "  Batch   680  of  1,226.    Elapsed: 0:01:36.\n",
      "  Batch   720  of  1,226.    Elapsed: 0:01:42.\n",
      "  Batch   760  of  1,226.    Elapsed: 0:01:47.\n",
      "  Batch   800  of  1,226.    Elapsed: 0:01:53.\n",
      "  Batch   840  of  1,226.    Elapsed: 0:01:59.\n",
      "  Batch   880  of  1,226.    Elapsed: 0:02:06.\n",
      "  Batch   920  of  1,226.    Elapsed: 0:02:12.\n",
      "  Batch   960  of  1,226.    Elapsed: 0:02:17.\n",
      "  Batch 1,000  of  1,226.    Elapsed: 0:02:23.\n",
      "  Batch 1,040  of  1,226.    Elapsed: 0:02:28.\n",
      "  Batch 1,080  of  1,226.    Elapsed: 0:02:34.\n",
      "  Batch 1,120  of  1,226.    Elapsed: 0:02:40.\n",
      "  Batch 1,160  of  1,226.    Elapsed: 0:02:45.\n",
      "  Batch 1,200  of  1,226.    Elapsed: 0:02:51.\n",
      "\n",
      "  Average training loss: 1.99\n",
      " Validation loss: 1.02\n",
      " Validation Accuracy: 0.57\n",
      " Validation F1 score: 0.25\n",
      "  Training epcoh took: 0:04:52\n",
      "\n",
      "======== Epoch 8 / 10 ========\n",
      "Training...\n",
      "  Batch    40  of  1,226.    Elapsed: 0:00:06.\n",
      "  Batch    80  of  1,226.    Elapsed: 0:00:11.\n",
      "  Batch   120  of  1,226.    Elapsed: 0:00:17.\n",
      "  Batch   160  of  1,226.    Elapsed: 0:00:22.\n",
      "  Batch   200  of  1,226.    Elapsed: 0:00:28.\n",
      "  Batch   240  of  1,226.    Elapsed: 0:00:34.\n",
      "  Batch   280  of  1,226.    Elapsed: 0:00:39.\n",
      "  Batch   320  of  1,226.    Elapsed: 0:00:45.\n",
      "  Batch   360  of  1,226.    Elapsed: 0:00:51.\n",
      "  Batch   400  of  1,226.    Elapsed: 0:00:56.\n",
      "  Batch   440  of  1,226.    Elapsed: 0:01:02.\n",
      "  Batch   480  of  1,226.    Elapsed: 0:01:07.\n",
      "  Batch   520  of  1,226.    Elapsed: 0:01:13.\n",
      "  Batch   560  of  1,226.    Elapsed: 0:01:19.\n",
      "  Batch   600  of  1,226.    Elapsed: 0:01:24.\n",
      "  Batch   640  of  1,226.    Elapsed: 0:01:30.\n",
      "  Batch   680  of  1,226.    Elapsed: 0:01:36.\n",
      "  Batch   720  of  1,226.    Elapsed: 0:01:41.\n",
      "  Batch   760  of  1,226.    Elapsed: 0:01:47.\n",
      "  Batch   800  of  1,226.    Elapsed: 0:01:53.\n",
      "  Batch   840  of  1,226.    Elapsed: 0:01:58.\n",
      "  Batch   880  of  1,226.    Elapsed: 0:02:04.\n",
      "  Batch   920  of  1,226.    Elapsed: 0:02:09.\n",
      "  Batch   960  of  1,226.    Elapsed: 0:02:15.\n",
      "  Batch 1,000  of  1,226.    Elapsed: 0:02:21.\n",
      "  Batch 1,040  of  1,226.    Elapsed: 0:02:26.\n",
      "  Batch 1,080  of  1,226.    Elapsed: 0:02:32.\n",
      "  Batch 1,120  of  1,226.    Elapsed: 0:02:38.\n",
      "  Batch 1,160  of  1,226.    Elapsed: 0:02:43.\n",
      "  Batch 1,200  of  1,226.    Elapsed: 0:02:49.\n",
      "\n",
      "  Average training loss: 1.84\n",
      " Validation loss: 0.95\n",
      " Validation Accuracy: 0.58\n",
      " Validation F1 score: 0.26\n",
      "  Training epcoh took: 0:04:58\n",
      "\n",
      "======== Epoch 9 / 10 ========\n",
      "Training...\n",
      "  Batch    40  of  1,226.    Elapsed: 0:00:06.\n",
      "  Batch    80  of  1,226.    Elapsed: 0:00:11.\n",
      "  Batch   120  of  1,226.    Elapsed: 0:00:17.\n",
      "  Batch   160  of  1,226.    Elapsed: 0:00:23.\n",
      "  Batch   200  of  1,226.    Elapsed: 0:00:28.\n",
      "  Batch   240  of  1,226.    Elapsed: 0:00:34.\n",
      "  Batch   280  of  1,226.    Elapsed: 0:00:39.\n",
      "  Batch   320  of  1,226.    Elapsed: 0:00:45.\n",
      "  Batch   360  of  1,226.    Elapsed: 0:00:51.\n",
      "  Batch   400  of  1,226.    Elapsed: 0:00:56.\n",
      "  Batch   440  of  1,226.    Elapsed: 0:01:02.\n",
      "  Batch   480  of  1,226.    Elapsed: 0:01:08.\n",
      "  Batch   520  of  1,226.    Elapsed: 0:01:13.\n",
      "  Batch   560  of  1,226.    Elapsed: 0:01:19.\n",
      "  Batch   600  of  1,226.    Elapsed: 0:01:24.\n",
      "  Batch   640  of  1,226.    Elapsed: 0:01:30.\n",
      "  Batch   680  of  1,226.    Elapsed: 0:01:36.\n",
      "  Batch   720  of  1,226.    Elapsed: 0:01:41.\n",
      "  Batch   760  of  1,226.    Elapsed: 0:01:47.\n",
      "  Batch   800  of  1,226.    Elapsed: 0:01:53.\n",
      "  Batch   840  of  1,226.    Elapsed: 0:01:58.\n",
      "  Batch   880  of  1,226.    Elapsed: 0:02:04.\n",
      "  Batch   920  of  1,226.    Elapsed: 0:02:09.\n",
      "  Batch   960  of  1,226.    Elapsed: 0:02:15.\n",
      "  Batch 1,000  of  1,226.    Elapsed: 0:02:21.\n",
      "  Batch 1,040  of  1,226.    Elapsed: 0:02:26.\n",
      "  Batch 1,080  of  1,226.    Elapsed: 0:02:32.\n",
      "  Batch 1,120  of  1,226.    Elapsed: 0:02:38.\n",
      "  Batch 1,160  of  1,226.    Elapsed: 0:02:43.\n",
      "  Batch 1,200  of  1,226.    Elapsed: 0:02:49.\n",
      "\n",
      "  Average training loss: 1.73\n",
      " Validation loss: 0.91\n",
      " Validation Accuracy: 0.58\n",
      " Validation F1 score: 0.27\n",
      "  Training epcoh took: 0:04:47\n",
      "\n",
      "======== Epoch 10 / 10 ========\n",
      "Training...\n",
      "  Batch    40  of  1,226.    Elapsed: 0:00:06.\n",
      "  Batch    80  of  1,226.    Elapsed: 0:00:11.\n",
      "  Batch   120  of  1,226.    Elapsed: 0:00:17.\n",
      "  Batch   160  of  1,226.    Elapsed: 0:00:23.\n",
      "  Batch   200  of  1,226.    Elapsed: 0:00:28.\n",
      "  Batch   240  of  1,226.    Elapsed: 0:00:34.\n",
      "  Batch   280  of  1,226.    Elapsed: 0:00:39.\n",
      "  Batch   320  of  1,226.    Elapsed: 0:00:45.\n",
      "  Batch   360  of  1,226.    Elapsed: 0:00:51.\n",
      "  Batch   400  of  1,226.    Elapsed: 0:00:56.\n",
      "  Batch   440  of  1,226.    Elapsed: 0:01:02.\n",
      "  Batch   480  of  1,226.    Elapsed: 0:01:07.\n",
      "  Batch   520  of  1,226.    Elapsed: 0:01:13.\n",
      "  Batch   560  of  1,226.    Elapsed: 0:01:19.\n",
      "  Batch   600  of  1,226.    Elapsed: 0:01:24.\n",
      "  Batch   640  of  1,226.    Elapsed: 0:01:30.\n",
      "  Batch   680  of  1,226.    Elapsed: 0:01:36.\n",
      "  Batch   720  of  1,226.    Elapsed: 0:01:41.\n",
      "  Batch   760  of  1,226.    Elapsed: 0:01:47.\n",
      "  Batch   800  of  1,226.    Elapsed: 0:01:53.\n",
      "  Batch   840  of  1,226.    Elapsed: 0:01:58.\n",
      "  Batch   880  of  1,226.    Elapsed: 0:02:04.\n",
      "  Batch   920  of  1,226.    Elapsed: 0:02:10.\n",
      "  Batch   960  of  1,226.    Elapsed: 0:02:15.\n",
      "  Batch 1,000  of  1,226.    Elapsed: 0:02:21.\n",
      "  Batch 1,040  of  1,226.    Elapsed: 0:02:26.\n",
      "  Batch 1,080  of  1,226.    Elapsed: 0:02:32.\n",
      "  Batch 1,120  of  1,226.    Elapsed: 0:02:38.\n",
      "  Batch 1,160  of  1,226.    Elapsed: 0:02:43.\n",
      "  Batch 1,200  of  1,226.    Elapsed: 0:02:49.\n",
      "\n",
      "  Average training loss: 1.67\n",
      " Validation loss: 0.90\n",
      " Validation Accuracy: 0.58\n",
      " Validation F1 score: 0.27\n",
      "  Training epcoh took: 0:04:49\n",
      "\n",
      "Training complete!\n"
     ]
    }
   ],
   "source": [
    "import random\n",
    "\n",
    "seed_val = 42\n",
    "\n",
    "random.seed(seed_val)\n",
    "np.random.seed(seed_val)\n",
    "torch.manual_seed(seed_val)\n",
    "torch.cuda.manual_seed_all(seed_val)\n",
    "\n",
    "# Store the average loss after each epoch so we can plot them.\n",
    "loss_values = []\n",
    "loss_values_val = []\n",
    "accuracy_values_val = []\n",
    "f1_score_values_val = []\n",
    "\n",
    "for epoch_i in range(0, epochs):\n",
    "\n",
    "\n",
    "\n",
    "    print(\"\")\n",
    "    print('======== Epoch {:} / {:} ========'.format(epoch_i + 1, epochs))\n",
    "    print('Training...')\n",
    "    t0 = time.time()\n",
    "    total_loss = 0\n",
    "    model.train()\n",
    "    for step, batch in enumerate(train_dataloader):\n",
    "        if step % 40 == 0 and not step == 0:\n",
    "            # Calculate elapsed time in minutes.\n",
    "            elapsed = format_time(time.time() - t0)\n",
    "\n",
    "            # Report progress.\n",
    "            print('  Batch {:>5,}  of  {:>5,}.    Elapsed: {:}.'.format(step, len(train_dataloader), elapsed))\n",
    "\n",
    "\n",
    "        b_input_ids = batch[0].to(device)\n",
    "        b_input_mask = batch[1].to(device)\n",
    "        b_labels = batch[2].to(device)\n",
    "        model.zero_grad()\n",
    "        result = model(b_input_ids,\n",
    "                    token_type_ids=None,\n",
    "                    attention_mask=b_input_mask,\n",
    "                    labels=b_labels)\n",
    "\n",
    "        loss = result.loss\n",
    "        total_loss += loss.item()\n",
    "        loss.backward()\n",
    "        torch.nn.utils.clip_grad_norm_(model.parameters(), 1.0)\n",
    "        optimizer.step()\n",
    "        scheduler.step()\n",
    "\n",
    "\n",
    "    # Calculate the average loss over the training data.\n",
    "    avg_train_loss = total_loss / len(train_dataloader)\n",
    "\n",
    "    avg_loss = get_evaluation_metrics(model, validation_dataloader_tr, word_ids_val, label_map, labels_validation)\n",
    "    loss_values_val.append(avg_loss[0])\n",
    "    accuracy_values_val.append(avg_loss[1])\n",
    "    f1_score_values_val.append(avg_loss[2])\n",
    "\n",
    "\n",
    "    # Store the loss value for plotting the learning curve.\n",
    "    loss_values.append(avg_train_loss)\n",
    "\n",
    "\n",
    "    print(\"\")\n",
    "    print(\"  Average training loss: {0:.2f}\".format(avg_train_loss))\n",
    "    print(\" Validation loss: {0:.2f}\".format(avg_loss[0]))\n",
    "    print(\" Validation Accuracy: {0:.2f}\".format(avg_loss[1]))\n",
    "    print(\" Validation F1 score: {0:.2f}\".format(avg_loss[2]))\n",
    "    print(\"  Training epcoh took: {:}\".format(format_time(time.time() - t0)))\n",
    "\n",
    "\n",
    "print(\"\")\n",
    "print(\"Training complete!\")"
   ]
  },
  {
   "cell_type": "code",
   "execution_count": null,
   "metadata": {
    "id": "YJ-y1Q6NOdtO"
   },
   "outputs": [],
   "source": [
    "torch.save(model, root+'my_model_batch_16_10_epoch.pth')"
   ]
  },
  {
   "cell_type": "markdown",
   "metadata": {
    "id": "JD5RygmhzAPj"
   },
   "source": [
    "### Affichage des performances"
   ]
  },
  {
   "cell_type": "code",
   "execution_count": null,
   "metadata": {
    "colab": {
     "base_uri": "https://localhost:8080/",
     "height": 515
    },
    "executionInfo": {
     "elapsed": 130,
     "status": "ok",
     "timestamp": 1700592603272,
     "user": {
      "displayName": "pierre cesar",
      "userId": "06990152005228481993"
     },
     "user_tz": 300
    },
    "id": "K01NimgB_3Bv",
    "outputId": "77f69480-f903-41bd-a2a5-e7d91250de7f"
   },
   "outputs": [
    {
     "data": {
      "image/png": "[encoded data removed]",
      "text/plain": [
       "<Figure size 1000x500 with 1 Axes>"
      ]
     },
     "metadata": {},
     "output_type": "display_data"
    }
   ],
   "source": [
    "#plot loss\n",
    "import matplotlib.pyplot as plt\n",
    "\n",
    "plt.plot(loss_values, 'b-o')\n",
    "plt.plot(loss_values_val, 'r-o')\n",
    "plt.title(\"Training loss\")\n",
    "plt.xlabel(\"Epoch\")\n",
    "plt.ylabel(\"Loss\")\n",
    "plt.show()"
   ]
  },
  {
   "cell_type": "code",
   "execution_count": null,
   "metadata": {
    "colab": {
     "base_uri": "https://localhost:8080/",
     "height": 515
    },
    "executionInfo": {
     "elapsed": 74,
     "status": "ok",
     "timestamp": 1700592603273,
     "user": {
      "displayName": "pierre cesar",
      "userId": "06990152005228481993"
     },
     "user_tz": 300
    },
    "id": "PNkKSBip_3Bv",
    "outputId": "853a3833-545f-4049-81fc-37408ddb2fa0"
   },
   "outputs": [
    {
     "data": {
      "image/png": "[encoded data removed]",
      "text/plain": [
       "<Figure size 1000x500 with 1 Axes>"
      ]
     },
     "metadata": {},
     "output_type": "display_data"
    }
   ],
   "source": [
    "#plot accuracy and f1 evolution\n",
    "plt.plot(accuracy_values_val, 'b-o')\n",
    "plt.plot(f1_score_values_val, 'r-o')\n",
    "plt.title(\"Validation Accuracy and F1 score\")\n",
    "plt.xlabel(\"Epoch\")\n",
    "plt.ylabel(\"Accuracy\")\n",
    "plt.show()"
   ]
  },
  {
   "cell_type": "markdown",
   "metadata": {
    "id": "3CI8wf6uOdtO"
   },
   "source": [
    "#### 7.1.2. Évaluation (5%)\n",
    "\n",
    "Évaluez votre modèle sur le jeu de validation en utilisant la métrique «  Macro F1-Score Moyenne ».\n"
   ]
  },
  {
   "cell_type": "markdown",
   "metadata": {
    "id": "liyh3gfX_3Bv"
   },
   "source": [
    "Implémentez la fonction permettant de calculer la métrique Macro F1-Score Moyenne"
   ]
  },
  {
   "cell_type": "code",
   "execution_count": null,
   "metadata": {
    "colab": {
     "base_uri": "https://localhost:8080/"
    },
    "executionInfo": {
     "elapsed": 117047,
     "status": "ok",
     "timestamp": 1700592720280,
     "user": {
      "displayName": "pierre cesar",
      "userId": "06990152005228481993"
     },
     "user_tz": 300
    },
    "id": "zCHp4ElIOdtO",
    "outputId": "db0eab0e-c17d-44e1-ceca-3d345ee863df"
   },
   "outputs": [
    {
     "name": "stdout",
     "output_type": "stream",
     "text": [
      " Validation Accuracy: 0.58\n",
      " Validation F1 score: 0.27\n"
     ]
    }
   ],
   "source": [
    "avg_loss = get_evaluation_metrics(model, validation_dataloader_tr, word_ids_val, label_map, labels_validation)\n",
    "loss_values_val.append(avg_loss[0])\n",
    "accuracy_values_val.append(avg_loss[1])\n",
    "f1_score_values_val.append(avg_loss[2])\n",
    "\n",
    "#print score f1 et accuracy en % sur le jeu de validation\n",
    "print(\" Validation Accuracy: {0:.2f}\".format(avg_loss[1]))\n",
    "print(\" Validation F1 score: {0:.2f}\".format(avg_loss[2]))"
   ]
  },
  {
   "cell_type": "markdown",
   "metadata": {
    "id": "Mdh6goLCzT38"
   },
   "source": [
    "> le F1 obtenu n'est pas mauvais et est au dessus de la Baseline donnée sur le moodle \\(50% et 20%)"
   ]
  }
 ],
 "metadata": {
  "accelerator": "GPU",
  "colab": {
   "gpuClass": "premium",
   "gpuType": "V100",
   "provenance": []
  },
  "kernelspec": {
   "display_name": "Python 3",
   "name": "python3"
  },
  "language_info": {
   "codemirror_mode": {
    "name": "ipython",
    "version": 3
   },
   "file_extension": ".py",
   "mimetype": "text/x-python",
   "name": "python",
   "nbconvert_exporter": "python",
   "pygments_lexer": "ipython3",
   "version": "3.8.18"
  },
  "vscode": {
   "interpreter": {
    "hash": "bb3f3ca36ac2f50d66e18d7677362432f7af6bbb1b03844778fb6db4c3043937"
   }
  },
  "widgets": {
   "application/vnd.jupyter.widget-state+json": {
    "0284d190f56f41c5a09acea126621dfc": {
     "model_module": "@jupyter-widgets/controls",
     "model_module_version": "1.5.0",
     "model_name": "FloatProgressModel",
     "state": {
      "_dom_classes": [],
      "_model_module": "@jupyter-widgets/controls",
      "_model_module_version": "1.5.0",
      "_model_name": "FloatProgressModel",
      "_view_count": null,
      "_view_module": "@jupyter-widgets/controls",
      "_view_module_version": "1.5.0",
      "_view_name": "ProgressView",
      "bar_style": "success",
      "description": "",
      "description_tooltip": null,
      "layout": "IPY_MODEL_62b930790d5845748df112aff474c904",
      "max": 466062,
      "min": 0,
      "orientation": "horizontal",
      "style": "IPY_MODEL_b49e180f6ca6431c95d190bb6028026b",
      "value": 466062
     }
    },
    "09078654074242fba0419ed5350a5f47": {
     "model_module": "@jupyter-widgets/base",
     "model_module_version": "1.2.0",
     "model_name": "LayoutModel",
     "state": {
      "_model_module": "@jupyter-widgets/base",
      "_model_module_version": "1.2.0",
      "_model_name": "LayoutModel",
      "_view_count": null,
      "_view_module": "@jupyter-widgets/base",
      "_view_module_version": "1.2.0",
      "_view_name": "LayoutView",
      "align_content": null,
      "align_items": null,
      "align_self": null,
      "border": null,
      "bottom": null,
      "display": null,
      "flex": null,
      "flex_flow": null,
      "grid_area": null,
      "grid_auto_columns": null,
      "grid_auto_flow": null,
      "grid_auto_rows": null,
      "grid_column": null,
      "grid_gap": null,
      "grid_row": null,
      "grid_template_areas": null,
      "grid_template_columns": null,
      "grid_template_rows": null,
      "height": null,
      "justify_content": null,
      "justify_items": null,
      "left": null,
      "margin": null,
      "max_height": null,
      "max_width": null,
      "min_height": null,
      "min_width": null,
      "object_fit": null,
      "object_position": null,
      "order": null,
      "overflow": null,
      "overflow_x": null,
      "overflow_y": null,
      "padding": null,
      "right": null,
      "top": null,
      "visibility": null,
      "width": null
     }
    },
    "0cda830879ba40b2a4b190d5801aa4fa": {
     "model_module": "@jupyter-widgets/controls",
     "model_module_version": "1.5.0",
     "model_name": "HTMLModel",
     "state": {
      "_dom_classes": [],
      "_model_module": "@jupyter-widgets/controls",
      "_model_module_version": "1.5.0",
      "_model_name": "HTMLModel",
      "_view_count": null,
      "_view_module": "@jupyter-widgets/controls",
      "_view_module_version": "1.5.0",
      "_view_name": "HTMLView",
      "description": "",
      "description_tooltip": null,
      "layout": "IPY_MODEL_f2552719f9c443bf8462232bfef661f2",
      "placeholder": "​",
      "style": "IPY_MODEL_8a6b87f7df8947b4b316dae539b99ae9",
      "value": "tokenizer.json: 100%"
     }
    },
    "115a61ab727d417a858113fe29bd64ba": {
     "model_module": "@jupyter-widgets/base",
     "model_module_version": "1.2.0",
     "model_name": "LayoutModel",
     "state": {
      "_model_module": "@jupyter-widgets/base",
      "_model_module_version": "1.2.0",
      "_model_name": "LayoutModel",
      "_view_count": null,
      "_view_module": "@jupyter-widgets/base",
      "_view_module_version": "1.2.0",
      "_view_name": "LayoutView",
      "align_content": null,
      "align_items": null,
      "align_self": null,
      "border": null,
      "bottom": null,
      "display": null,
      "flex": null,
      "flex_flow": null,
      "grid_area": null,
      "grid_auto_columns": null,
      "grid_auto_flow": null,
      "grid_auto_rows": null,
      "grid_column": null,
      "grid_gap": null,
      "grid_row": null,
      "grid_template_areas": null,
      "grid_template_columns": null,
      "grid_template_rows": null,
      "height": null,
      "justify_content": null,
      "justify_items": null,
      "left": null,
      "margin": null,
      "max_height": null,
      "max_width": null,
      "min_height": null,
      "min_width": null,
      "object_fit": null,
      "object_position": null,
      "order": null,
      "overflow": null,
      "overflow_x": null,
      "overflow_y": null,
      "padding": null,
      "right": null,
      "top": null,
      "visibility": null,
      "width": null
     }
    },
    "225a9ec8d71e45b2b737794c259657a6": {
     "model_module": "@jupyter-widgets/controls",
     "model_module_version": "1.5.0",
     "model_name": "DescriptionStyleModel",
     "state": {
      "_model_module": "@jupyter-widgets/controls",
      "_model_module_version": "1.5.0",
      "_model_name": "DescriptionStyleModel",
      "_view_count": null,
      "_view_module": "@jupyter-widgets/base",
      "_view_module_version": "1.2.0",
      "_view_name": "StyleView",
      "description_width": ""
     }
    },
    "2664d57968704f56ab2f5be801de60c9": {
     "model_module": "@jupyter-widgets/controls",
     "model_module_version": "1.5.0",
     "model_name": "FloatProgressModel",
     "state": {
      "_dom_classes": [],
      "_model_module": "@jupyter-widgets/controls",
      "_model_module_version": "1.5.0",
      "_model_name": "FloatProgressModel",
      "_view_count": null,
      "_view_module": "@jupyter-widgets/controls",
      "_view_module_version": "1.5.0",
      "_view_name": "ProgressView",
      "bar_style": "success",
      "description": "",
      "description_tooltip": null,
      "layout": "IPY_MODEL_73c2f56663c9466e9840b2fde1a7aef0",
      "max": 28,
      "min": 0,
      "orientation": "horizontal",
      "style": "IPY_MODEL_8a361634b809420e9b954abdfbd969cd",
      "value": 28
     }
    },
    "28093cfe10614652839987d36e76af35": {
     "model_module": "@jupyter-widgets/controls",
     "model_module_version": "1.5.0",
     "model_name": "FloatProgressModel",
     "state": {
      "_dom_classes": [],
      "_model_module": "@jupyter-widgets/controls",
      "_model_module_version": "1.5.0",
      "_model_name": "FloatProgressModel",
      "_view_count": null,
      "_view_module": "@jupyter-widgets/controls",
      "_view_module_version": "1.5.0",
      "_view_name": "ProgressView",
      "bar_style": "success",
      "description": "",
      "description_tooltip": null,
      "layout": "IPY_MODEL_5202b453ba1445d0962897923d696465",
      "max": 231508,
      "min": 0,
      "orientation": "horizontal",
      "style": "IPY_MODEL_526edbbfd71e492893475bb175886412",
      "value": 231508
     }
    },
    "2a9d436ca80d4fd88e4a75678dfa9d8c": {
     "model_module": "@jupyter-widgets/controls",
     "model_module_version": "1.5.0",
     "model_name": "HBoxModel",
     "state": {
      "_dom_classes": [],
      "_model_module": "@jupyter-widgets/controls",
      "_model_module_version": "1.5.0",
      "_model_name": "HBoxModel",
      "_view_count": null,
      "_view_module": "@jupyter-widgets/controls",
      "_view_module_version": "1.5.0",
      "_view_name": "HBoxView",
      "box_style": "",
      "children": [
       "IPY_MODEL_769798978154452f9534cbad59dde076",
       "IPY_MODEL_797ee01739e347a78bc08516ffd853e3",
       "IPY_MODEL_b2ebd7fb136541dd9a4ae07e150bcae7"
      ],
      "layout": "IPY_MODEL_d45d2a05c8404553a39b05be081272f0"
     }
    },
    "31374525ed004ac8a023451451c26434": {
     "model_module": "@jupyter-widgets/base",
     "model_module_version": "1.2.0",
     "model_name": "LayoutModel",
     "state": {
      "_model_module": "@jupyter-widgets/base",
      "_model_module_version": "1.2.0",
      "_model_name": "LayoutModel",
      "_view_count": null,
      "_view_module": "@jupyter-widgets/base",
      "_view_module_version": "1.2.0",
      "_view_name": "LayoutView",
      "align_content": null,
      "align_items": null,
      "align_self": null,
      "border": null,
      "bottom": null,
      "display": null,
      "flex": null,
      "flex_flow": null,
      "grid_area": null,
      "grid_auto_columns": null,
      "grid_auto_flow": null,
      "grid_auto_rows": null,
      "grid_column": null,
      "grid_gap": null,
      "grid_row": null,
      "grid_template_areas": null,
      "grid_template_columns": null,
      "grid_template_rows": null,
      "height": null,
      "justify_content": null,
      "justify_items": null,
      "left": null,
      "margin": null,
      "max_height": null,
      "max_width": null,
      "min_height": null,
      "min_width": null,
      "object_fit": null,
      "object_position": null,
      "order": null,
      "overflow": null,
      "overflow_x": null,
      "overflow_y": null,
      "padding": null,
      "right": null,
      "top": null,
      "visibility": null,
      "width": null
     }
    },
    "3424a8549a7541a99c611b05900a1245": {
     "model_module": "@jupyter-widgets/controls",
     "model_module_version": "1.5.0",
     "model_name": "DescriptionStyleModel",
     "state": {
      "_model_module": "@jupyter-widgets/controls",
      "_model_module_version": "1.5.0",
      "_model_name": "DescriptionStyleModel",
      "_view_count": null,
      "_view_module": "@jupyter-widgets/base",
      "_view_module_version": "1.2.0",
      "_view_name": "StyleView",
      "description_width": ""
     }
    },
    "3546dfac1159454abcda4f1968ec0be0": {
     "model_module": "@jupyter-widgets/controls",
     "model_module_version": "1.5.0",
     "model_name": "HBoxModel",
     "state": {
      "_dom_classes": [],
      "_model_module": "@jupyter-widgets/controls",
      "_model_module_version": "1.5.0",
      "_model_name": "HBoxModel",
      "_view_count": null,
      "_view_module": "@jupyter-widgets/controls",
      "_view_module_version": "1.5.0",
      "_view_name": "HBoxView",
      "box_style": "",
      "children": [
       "IPY_MODEL_f533bf79058e43d0b5857b4505ef3f97",
       "IPY_MODEL_2664d57968704f56ab2f5be801de60c9",
       "IPY_MODEL_b90c99b0c307426d9cc48455d3e4ad8a"
      ],
      "layout": "IPY_MODEL_40c6bda0d1cd40eb8311f22286378f22"
     }
    },
    "3c194fd674614b318cd5b73dfe5a1fc2": {
     "model_module": "@jupyter-widgets/controls",
     "model_module_version": "1.5.0",
     "model_name": "ProgressStyleModel",
     "state": {
      "_model_module": "@jupyter-widgets/controls",
      "_model_module_version": "1.5.0",
      "_model_name": "ProgressStyleModel",
      "_view_count": null,
      "_view_module": "@jupyter-widgets/base",
      "_view_module_version": "1.2.0",
      "_view_name": "StyleView",
      "bar_color": null,
      "description_width": ""
     }
    },
    "3e409e81af9942af884b307874fe7b52": {
     "model_module": "@jupyter-widgets/base",
     "model_module_version": "1.2.0",
     "model_name": "LayoutModel",
     "state": {
      "_model_module": "@jupyter-widgets/base",
      "_model_module_version": "1.2.0",
      "_model_name": "LayoutModel",
      "_view_count": null,
      "_view_module": "@jupyter-widgets/base",
      "_view_module_version": "1.2.0",
      "_view_name": "LayoutView",
      "align_content": null,
      "align_items": null,
      "align_self": null,
      "border": null,
      "bottom": null,
      "display": null,
      "flex": null,
      "flex_flow": null,
      "grid_area": null,
      "grid_auto_columns": null,
      "grid_auto_flow": null,
      "grid_auto_rows": null,
      "grid_column": null,
      "grid_gap": null,
      "grid_row": null,
      "grid_template_areas": null,
      "grid_template_columns": null,
      "grid_template_rows": null,
      "height": null,
      "justify_content": null,
      "justify_items": null,
      "left": null,
      "margin": null,
      "max_height": null,
      "max_width": null,
      "min_height": null,
      "min_width": null,
      "object_fit": null,
      "object_position": null,
      "order": null,
      "overflow": null,
      "overflow_x": null,
      "overflow_y": null,
      "padding": null,
      "right": null,
      "top": null,
      "visibility": null,
      "width": null
     }
    },
    "40c6bda0d1cd40eb8311f22286378f22": {
     "model_module": "@jupyter-widgets/base",
     "model_module_version": "1.2.0",
     "model_name": "LayoutModel",
     "state": {
      "_model_module": "@jupyter-widgets/base",
      "_model_module_version": "1.2.0",
      "_model_name": "LayoutModel",
      "_view_count": null,
      "_view_module": "@jupyter-widgets/base",
      "_view_module_version": "1.2.0",
      "_view_name": "LayoutView",
      "align_content": null,
      "align_items": null,
      "align_self": null,
      "border": null,
      "bottom": null,
      "display": null,
      "flex": null,
      "flex_flow": null,
      "grid_area": null,
      "grid_auto_columns": null,
      "grid_auto_flow": null,
      "grid_auto_rows": null,
      "grid_column": null,
      "grid_gap": null,
      "grid_row": null,
      "grid_template_areas": null,
      "grid_template_columns": null,
      "grid_template_rows": null,
      "height": null,
      "justify_content": null,
      "justify_items": null,
      "left": null,
      "margin": null,
      "max_height": null,
      "max_width": null,
      "min_height": null,
      "min_width": null,
      "object_fit": null,
      "object_position": null,
      "order": null,
      "overflow": null,
      "overflow_x": null,
      "overflow_y": null,
      "padding": null,
      "right": null,
      "top": null,
      "visibility": null,
      "width": null
     }
    },
    "5202b453ba1445d0962897923d696465": {
     "model_module": "@jupyter-widgets/base",
     "model_module_version": "1.2.0",
     "model_name": "LayoutModel",
     "state": {
      "_model_module": "@jupyter-widgets/base",
      "_model_module_version": "1.2.0",
      "_model_name": "LayoutModel",
      "_view_count": null,
      "_view_module": "@jupyter-widgets/base",
      "_view_module_version": "1.2.0",
      "_view_name": "LayoutView",
      "align_content": null,
      "align_items": null,
      "align_self": null,
      "border": null,
      "bottom": null,
      "display": null,
      "flex": null,
      "flex_flow": null,
      "grid_area": null,
      "grid_auto_columns": null,
      "grid_auto_flow": null,
      "grid_auto_rows": null,
      "grid_column": null,
      "grid_gap": null,
      "grid_row": null,
      "grid_template_areas": null,
      "grid_template_columns": null,
      "grid_template_rows": null,
      "height": null,
      "justify_content": null,
      "justify_items": null,
      "left": null,
      "margin": null,
      "max_height": null,
      "max_width": null,
      "min_height": null,
      "min_width": null,
      "object_fit": null,
      "object_position": null,
      "order": null,
      "overflow": null,
      "overflow_x": null,
      "overflow_y": null,
      "padding": null,
      "right": null,
      "top": null,
      "visibility": null,
      "width": null
     }
    },
    "526edbbfd71e492893475bb175886412": {
     "model_module": "@jupyter-widgets/controls",
     "model_module_version": "1.5.0",
     "model_name": "ProgressStyleModel",
     "state": {
      "_model_module": "@jupyter-widgets/controls",
      "_model_module_version": "1.5.0",
      "_model_name": "ProgressStyleModel",
      "_view_count": null,
      "_view_module": "@jupyter-widgets/base",
      "_view_module_version": "1.2.0",
      "_view_name": "StyleView",
      "bar_color": null,
      "description_width": ""
     }
    },
    "53dae6cb029d4a9da49bfb09911c90b7": {
     "model_module": "@jupyter-widgets/base",
     "model_module_version": "1.2.0",
     "model_name": "LayoutModel",
     "state": {
      "_model_module": "@jupyter-widgets/base",
      "_model_module_version": "1.2.0",
      "_model_name": "LayoutModel",
      "_view_count": null,
      "_view_module": "@jupyter-widgets/base",
      "_view_module_version": "1.2.0",
      "_view_name": "LayoutView",
      "align_content": null,
      "align_items": null,
      "align_self": null,
      "border": null,
      "bottom": null,
      "display": null,
      "flex": null,
      "flex_flow": null,
      "grid_area": null,
      "grid_auto_columns": null,
      "grid_auto_flow": null,
      "grid_auto_rows": null,
      "grid_column": null,
      "grid_gap": null,
      "grid_row": null,
      "grid_template_areas": null,
      "grid_template_columns": null,
      "grid_template_rows": null,
      "height": null,
      "justify_content": null,
      "justify_items": null,
      "left": null,
      "margin": null,
      "max_height": null,
      "max_width": null,
      "min_height": null,
      "min_width": null,
      "object_fit": null,
      "object_position": null,
      "order": null,
      "overflow": null,
      "overflow_x": null,
      "overflow_y": null,
      "padding": null,
      "right": null,
      "top": null,
      "visibility": null,
      "width": null
     }
    },
    "5dece1f5125549d1a39988ffb34fc84b": {
     "model_module": "@jupyter-widgets/base",
     "model_module_version": "1.2.0",
     "model_name": "LayoutModel",
     "state": {
      "_model_module": "@jupyter-widgets/base",
      "_model_module_version": "1.2.0",
      "_model_name": "LayoutModel",
      "_view_count": null,
      "_view_module": "@jupyter-widgets/base",
      "_view_module_version": "1.2.0",
      "_view_name": "LayoutView",
      "align_content": null,
      "align_items": null,
      "align_self": null,
      "border": null,
      "bottom": null,
      "display": null,
      "flex": null,
      "flex_flow": null,
      "grid_area": null,
      "grid_auto_columns": null,
      "grid_auto_flow": null,
      "grid_auto_rows": null,
      "grid_column": null,
      "grid_gap": null,
      "grid_row": null,
      "grid_template_areas": null,
      "grid_template_columns": null,
      "grid_template_rows": null,
      "height": null,
      "justify_content": null,
      "justify_items": null,
      "left": null,
      "margin": null,
      "max_height": null,
      "max_width": null,
      "min_height": null,
      "min_width": null,
      "object_fit": null,
      "object_position": null,
      "order": null,
      "overflow": null,
      "overflow_x": null,
      "overflow_y": null,
      "padding": null,
      "right": null,
      "top": null,
      "visibility": null,
      "width": null
     }
    },
    "62b930790d5845748df112aff474c904": {
     "model_module": "@jupyter-widgets/base",
     "model_module_version": "1.2.0",
     "model_name": "LayoutModel",
     "state": {
      "_model_module": "@jupyter-widgets/base",
      "_model_module_version": "1.2.0",
      "_model_name": "LayoutModel",
      "_view_count": null,
      "_view_module": "@jupyter-widgets/base",
      "_view_module_version": "1.2.0",
      "_view_name": "LayoutView",
      "align_content": null,
      "align_items": null,
      "align_self": null,
      "border": null,
      "bottom": null,
      "display": null,
      "flex": null,
      "flex_flow": null,
      "grid_area": null,
      "grid_auto_columns": null,
      "grid_auto_flow": null,
      "grid_auto_rows": null,
      "grid_column": null,
      "grid_gap": null,
      "grid_row": null,
      "grid_template_areas": null,
      "grid_template_columns": null,
      "grid_template_rows": null,
      "height": null,
      "justify_content": null,
      "justify_items": null,
      "left": null,
      "margin": null,
      "max_height": null,
      "max_width": null,
      "min_height": null,
      "min_width": null,
      "object_fit": null,
      "object_position": null,
      "order": null,
      "overflow": null,
      "overflow_x": null,
      "overflow_y": null,
      "padding": null,
      "right": null,
      "top": null,
      "visibility": null,
      "width": null
     }
    },
    "6482b4cfacbf4c9796ae7bd9b878a0a7": {
     "model_module": "@jupyter-widgets/controls",
     "model_module_version": "1.5.0",
     "model_name": "HBoxModel",
     "state": {
      "_dom_classes": [],
      "_model_module": "@jupyter-widgets/controls",
      "_model_module_version": "1.5.0",
      "_model_name": "HBoxModel",
      "_view_count": null,
      "_view_module": "@jupyter-widgets/controls",
      "_view_module_version": "1.5.0",
      "_view_name": "HBoxView",
      "box_style": "",
      "children": [
       "IPY_MODEL_b2a188a3df284d569a527532c9a50a06",
       "IPY_MODEL_fa874e74a4244e5583393cd99f1a6ab6",
       "IPY_MODEL_c2d42ef04f22453eabb5c0bdb501e19e"
      ],
      "layout": "IPY_MODEL_09078654074242fba0419ed5350a5f47"
     }
    },
    "6a7d2fd57d474603800b91ae3e870e82": {
     "model_module": "@jupyter-widgets/controls",
     "model_module_version": "1.5.0",
     "model_name": "HTMLModel",
     "state": {
      "_dom_classes": [],
      "_model_module": "@jupyter-widgets/controls",
      "_model_module_version": "1.5.0",
      "_model_name": "HTMLModel",
      "_view_count": null,
      "_view_module": "@jupyter-widgets/controls",
      "_view_module_version": "1.5.0",
      "_view_name": "HTMLView",
      "description": "",
      "description_tooltip": null,
      "layout": "IPY_MODEL_31374525ed004ac8a023451451c26434",
      "placeholder": "​",
      "style": "IPY_MODEL_3424a8549a7541a99c611b05900a1245",
      "value": "vocab.txt: 100%"
     }
    },
    "6cd702dd5d3b42e0bce8badbc1342353": {
     "model_module": "@jupyter-widgets/controls",
     "model_module_version": "1.5.0",
     "model_name": "DescriptionStyleModel",
     "state": {
      "_model_module": "@jupyter-widgets/controls",
      "_model_module_version": "1.5.0",
      "_model_name": "DescriptionStyleModel",
      "_view_count": null,
      "_view_module": "@jupyter-widgets/base",
      "_view_module_version": "1.2.0",
      "_view_name": "StyleView",
      "description_width": ""
     }
    },
    "6e50fb3468c74eb5a033b522457ccea7": {
     "model_module": "@jupyter-widgets/base",
     "model_module_version": "1.2.0",
     "model_name": "LayoutModel",
     "state": {
      "_model_module": "@jupyter-widgets/base",
      "_model_module_version": "1.2.0",
      "_model_name": "LayoutModel",
      "_view_count": null,
      "_view_module": "@jupyter-widgets/base",
      "_view_module_version": "1.2.0",
      "_view_name": "LayoutView",
      "align_content": null,
      "align_items": null,
      "align_self": null,
      "border": null,
      "bottom": null,
      "display": null,
      "flex": null,
      "flex_flow": null,
      "grid_area": null,
      "grid_auto_columns": null,
      "grid_auto_flow": null,
      "grid_auto_rows": null,
      "grid_column": null,
      "grid_gap": null,
      "grid_row": null,
      "grid_template_areas": null,
      "grid_template_columns": null,
      "grid_template_rows": null,
      "height": null,
      "justify_content": null,
      "justify_items": null,
      "left": null,
      "margin": null,
      "max_height": null,
      "max_width": null,
      "min_height": null,
      "min_width": null,
      "object_fit": null,
      "object_position": null,
      "order": null,
      "overflow": null,
      "overflow_x": null,
      "overflow_y": null,
      "padding": null,
      "right": null,
      "top": null,
      "visibility": null,
      "width": null
     }
    },
    "73c2f56663c9466e9840b2fde1a7aef0": {
     "model_module": "@jupyter-widgets/base",
     "model_module_version": "1.2.0",
     "model_name": "LayoutModel",
     "state": {
      "_model_module": "@jupyter-widgets/base",
      "_model_module_version": "1.2.0",
      "_model_name": "LayoutModel",
      "_view_count": null,
      "_view_module": "@jupyter-widgets/base",
      "_view_module_version": "1.2.0",
      "_view_name": "LayoutView",
      "align_content": null,
      "align_items": null,
      "align_self": null,
      "border": null,
      "bottom": null,
      "display": null,
      "flex": null,
      "flex_flow": null,
      "grid_area": null,
      "grid_auto_columns": null,
      "grid_auto_flow": null,
      "grid_auto_rows": null,
      "grid_column": null,
      "grid_gap": null,
      "grid_row": null,
      "grid_template_areas": null,
      "grid_template_columns": null,
      "grid_template_rows": null,
      "height": null,
      "justify_content": null,
      "justify_items": null,
      "left": null,
      "margin": null,
      "max_height": null,
      "max_width": null,
      "min_height": null,
      "min_width": null,
      "object_fit": null,
      "object_position": null,
      "order": null,
      "overflow": null,
      "overflow_x": null,
      "overflow_y": null,
      "padding": null,
      "right": null,
      "top": null,
      "visibility": null,
      "width": null
     }
    },
    "769798978154452f9534cbad59dde076": {
     "model_module": "@jupyter-widgets/controls",
     "model_module_version": "1.5.0",
     "model_name": "HTMLModel",
     "state": {
      "_dom_classes": [],
      "_model_module": "@jupyter-widgets/controls",
      "_model_module_version": "1.5.0",
      "_model_name": "HTMLModel",
      "_view_count": null,
      "_view_module": "@jupyter-widgets/controls",
      "_view_module_version": "1.5.0",
      "_view_name": "HTMLView",
      "description": "",
      "description_tooltip": null,
      "layout": "IPY_MODEL_115a61ab727d417a858113fe29bd64ba",
      "placeholder": "​",
      "style": "IPY_MODEL_ce185795e8ec466fa225896b63c1b475",
      "value": "model.safetensors: 100%"
     }
    },
    "76d3d22b8607429095fb2472d40e6cbc": {
     "model_module": "@jupyter-widgets/base",
     "model_module_version": "1.2.0",
     "model_name": "LayoutModel",
     "state": {
      "_model_module": "@jupyter-widgets/base",
      "_model_module_version": "1.2.0",
      "_model_name": "LayoutModel",
      "_view_count": null,
      "_view_module": "@jupyter-widgets/base",
      "_view_module_version": "1.2.0",
      "_view_name": "LayoutView",
      "align_content": null,
      "align_items": null,
      "align_self": null,
      "border": null,
      "bottom": null,
      "display": null,
      "flex": null,
      "flex_flow": null,
      "grid_area": null,
      "grid_auto_columns": null,
      "grid_auto_flow": null,
      "grid_auto_rows": null,
      "grid_column": null,
      "grid_gap": null,
      "grid_row": null,
      "grid_template_areas": null,
      "grid_template_columns": null,
      "grid_template_rows": null,
      "height": null,
      "justify_content": null,
      "justify_items": null,
      "left": null,
      "margin": null,
      "max_height": null,
      "max_width": null,
      "min_height": null,
      "min_width": null,
      "object_fit": null,
      "object_position": null,
      "order": null,
      "overflow": null,
      "overflow_x": null,
      "overflow_y": null,
      "padding": null,
      "right": null,
      "top": null,
      "visibility": null,
      "width": null
     }
    },
    "797ee01739e347a78bc08516ffd853e3": {
     "model_module": "@jupyter-widgets/controls",
     "model_module_version": "1.5.0",
     "model_name": "FloatProgressModel",
     "state": {
      "_dom_classes": [],
      "_model_module": "@jupyter-widgets/controls",
      "_model_module_version": "1.5.0",
      "_model_name": "FloatProgressModel",
      "_view_count": null,
      "_view_module": "@jupyter-widgets/controls",
      "_view_module_version": "1.5.0",
      "_view_name": "ProgressView",
      "bar_style": "success",
      "description": "",
      "description_tooltip": null,
      "layout": "IPY_MODEL_96048f83cd06414bb8f368e8e711241c",
      "max": 440449768,
      "min": 0,
      "orientation": "horizontal",
      "style": "IPY_MODEL_3c194fd674614b318cd5b73dfe5a1fc2",
      "value": 440449768
     }
    },
    "7bf6bb542eac4d3fa06e42667706efe8": {
     "model_module": "@jupyter-widgets/controls",
     "model_module_version": "1.5.0",
     "model_name": "HBoxModel",
     "state": {
      "_dom_classes": [],
      "_model_module": "@jupyter-widgets/controls",
      "_model_module_version": "1.5.0",
      "_model_name": "HBoxModel",
      "_view_count": null,
      "_view_module": "@jupyter-widgets/controls",
      "_view_module_version": "1.5.0",
      "_view_name": "HBoxView",
      "box_style": "",
      "children": [
       "IPY_MODEL_6a7d2fd57d474603800b91ae3e870e82",
       "IPY_MODEL_28093cfe10614652839987d36e76af35",
       "IPY_MODEL_a21df512db094c4e8319654e623d6df8"
      ],
      "layout": "IPY_MODEL_a97ddcc034c04aefa4e0881743863ef3"
     }
    },
    "813e8ccc27164b8b940ffa6794b4bcf8": {
     "model_module": "@jupyter-widgets/controls",
     "model_module_version": "1.5.0",
     "model_name": "ProgressStyleModel",
     "state": {
      "_model_module": "@jupyter-widgets/controls",
      "_model_module_version": "1.5.0",
      "_model_name": "ProgressStyleModel",
      "_view_count": null,
      "_view_module": "@jupyter-widgets/base",
      "_view_module_version": "1.2.0",
      "_view_name": "StyleView",
      "bar_color": null,
      "description_width": ""
     }
    },
    "8a361634b809420e9b954abdfbd969cd": {
     "model_module": "@jupyter-widgets/controls",
     "model_module_version": "1.5.0",
     "model_name": "ProgressStyleModel",
     "state": {
      "_model_module": "@jupyter-widgets/controls",
      "_model_module_version": "1.5.0",
      "_model_name": "ProgressStyleModel",
      "_view_count": null,
      "_view_module": "@jupyter-widgets/base",
      "_view_module_version": "1.2.0",
      "_view_name": "StyleView",
      "bar_color": null,
      "description_width": ""
     }
    },
    "8a6b87f7df8947b4b316dae539b99ae9": {
     "model_module": "@jupyter-widgets/controls",
     "model_module_version": "1.5.0",
     "model_name": "DescriptionStyleModel",
     "state": {
      "_model_module": "@jupyter-widgets/controls",
      "_model_module_version": "1.5.0",
      "_model_name": "DescriptionStyleModel",
      "_view_count": null,
      "_view_module": "@jupyter-widgets/base",
      "_view_module_version": "1.2.0",
      "_view_name": "StyleView",
      "description_width": ""
     }
    },
    "8c995b00a620428589821a8f50543515": {
     "model_module": "@jupyter-widgets/base",
     "model_module_version": "1.2.0",
     "model_name": "LayoutModel",
     "state": {
      "_model_module": "@jupyter-widgets/base",
      "_model_module_version": "1.2.0",
      "_model_name": "LayoutModel",
      "_view_count": null,
      "_view_module": "@jupyter-widgets/base",
      "_view_module_version": "1.2.0",
      "_view_name": "LayoutView",
      "align_content": null,
      "align_items": null,
      "align_self": null,
      "border": null,
      "bottom": null,
      "display": null,
      "flex": null,
      "flex_flow": null,
      "grid_area": null,
      "grid_auto_columns": null,
      "grid_auto_flow": null,
      "grid_auto_rows": null,
      "grid_column": null,
      "grid_gap": null,
      "grid_row": null,
      "grid_template_areas": null,
      "grid_template_columns": null,
      "grid_template_rows": null,
      "height": null,
      "justify_content": null,
      "justify_items": null,
      "left": null,
      "margin": null,
      "max_height": null,
      "max_width": null,
      "min_height": null,
      "min_width": null,
      "object_fit": null,
      "object_position": null,
      "order": null,
      "overflow": null,
      "overflow_x": null,
      "overflow_y": null,
      "padding": null,
      "right": null,
      "top": null,
      "visibility": null,
      "width": null
     }
    },
    "96048f83cd06414bb8f368e8e711241c": {
     "model_module": "@jupyter-widgets/base",
     "model_module_version": "1.2.0",
     "model_name": "LayoutModel",
     "state": {
      "_model_module": "@jupyter-widgets/base",
      "_model_module_version": "1.2.0",
      "_model_name": "LayoutModel",
      "_view_count": null,
      "_view_module": "@jupyter-widgets/base",
      "_view_module_version": "1.2.0",
      "_view_name": "LayoutView",
      "align_content": null,
      "align_items": null,
      "align_self": null,
      "border": null,
      "bottom": null,
      "display": null,
      "flex": null,
      "flex_flow": null,
      "grid_area": null,
      "grid_auto_columns": null,
      "grid_auto_flow": null,
      "grid_auto_rows": null,
      "grid_column": null,
      "grid_gap": null,
      "grid_row": null,
      "grid_template_areas": null,
      "grid_template_columns": null,
      "grid_template_rows": null,
      "height": null,
      "justify_content": null,
      "justify_items": null,
      "left": null,
      "margin": null,
      "max_height": null,
      "max_width": null,
      "min_height": null,
      "min_width": null,
      "object_fit": null,
      "object_position": null,
      "order": null,
      "overflow": null,
      "overflow_x": null,
      "overflow_y": null,
      "padding": null,
      "right": null,
      "top": null,
      "visibility": null,
      "width": null
     }
    },
    "a200b4212dd7410e9b33168e4b696ef8": {
     "model_module": "@jupyter-widgets/controls",
     "model_module_version": "1.5.0",
     "model_name": "DescriptionStyleModel",
     "state": {
      "_model_module": "@jupyter-widgets/controls",
      "_model_module_version": "1.5.0",
      "_model_name": "DescriptionStyleModel",
      "_view_count": null,
      "_view_module": "@jupyter-widgets/base",
      "_view_module_version": "1.2.0",
      "_view_name": "StyleView",
      "description_width": ""
     }
    },
    "a21df512db094c4e8319654e623d6df8": {
     "model_module": "@jupyter-widgets/controls",
     "model_module_version": "1.5.0",
     "model_name": "HTMLModel",
     "state": {
      "_dom_classes": [],
      "_model_module": "@jupyter-widgets/controls",
      "_model_module_version": "1.5.0",
      "_model_name": "HTMLModel",
      "_view_count": null,
      "_view_module": "@jupyter-widgets/controls",
      "_view_module_version": "1.5.0",
      "_view_name": "HTMLView",
      "description": "",
      "description_tooltip": null,
      "layout": "IPY_MODEL_5dece1f5125549d1a39988ffb34fc84b",
      "placeholder": "​",
      "style": "IPY_MODEL_d1ce7fc94aad451cb37ece0b3f51bab0",
      "value": " 232k/232k [00:00&lt;00:00, 2.74MB/s]"
     }
    },
    "a681149529a74d8ea9488f2b866d6cf6": {
     "model_module": "@jupyter-widgets/controls",
     "model_module_version": "1.5.0",
     "model_name": "DescriptionStyleModel",
     "state": {
      "_model_module": "@jupyter-widgets/controls",
      "_model_module_version": "1.5.0",
      "_model_name": "DescriptionStyleModel",
      "_view_count": null,
      "_view_module": "@jupyter-widgets/base",
      "_view_module_version": "1.2.0",
      "_view_name": "StyleView",
      "description_width": ""
     }
    },
    "a97ddcc034c04aefa4e0881743863ef3": {
     "model_module": "@jupyter-widgets/base",
     "model_module_version": "1.2.0",
     "model_name": "LayoutModel",
     "state": {
      "_model_module": "@jupyter-widgets/base",
      "_model_module_version": "1.2.0",
      "_model_name": "LayoutModel",
      "_view_count": null,
      "_view_module": "@jupyter-widgets/base",
      "_view_module_version": "1.2.0",
      "_view_name": "LayoutView",
      "align_content": null,
      "align_items": null,
      "align_self": null,
      "border": null,
      "bottom": null,
      "display": null,
      "flex": null,
      "flex_flow": null,
      "grid_area": null,
      "grid_auto_columns": null,
      "grid_auto_flow": null,
      "grid_auto_rows": null,
      "grid_column": null,
      "grid_gap": null,
      "grid_row": null,
      "grid_template_areas": null,
      "grid_template_columns": null,
      "grid_template_rows": null,
      "height": null,
      "justify_content": null,
      "justify_items": null,
      "left": null,
      "margin": null,
      "max_height": null,
      "max_width": null,
      "min_height": null,
      "min_width": null,
      "object_fit": null,
      "object_position": null,
      "order": null,
      "overflow": null,
      "overflow_x": null,
      "overflow_y": null,
      "padding": null,
      "right": null,
      "top": null,
      "visibility": null,
      "width": null
     }
    },
    "b2a188a3df284d569a527532c9a50a06": {
     "model_module": "@jupyter-widgets/controls",
     "model_module_version": "1.5.0",
     "model_name": "HTMLModel",
     "state": {
      "_dom_classes": [],
      "_model_module": "@jupyter-widgets/controls",
      "_model_module_version": "1.5.0",
      "_model_name": "HTMLModel",
      "_view_count": null,
      "_view_module": "@jupyter-widgets/controls",
      "_view_module_version": "1.5.0",
      "_view_name": "HTMLView",
      "description": "",
      "description_tooltip": null,
      "layout": "IPY_MODEL_8c995b00a620428589821a8f50543515",
      "placeholder": "​",
      "style": "IPY_MODEL_cbe22e2cee734e3092bc7784c0f1cbe4",
      "value": "config.json: 100%"
     }
    },
    "b2ebd7fb136541dd9a4ae07e150bcae7": {
     "model_module": "@jupyter-widgets/controls",
     "model_module_version": "1.5.0",
     "model_name": "HTMLModel",
     "state": {
      "_dom_classes": [],
      "_model_module": "@jupyter-widgets/controls",
      "_model_module_version": "1.5.0",
      "_model_name": "HTMLModel",
      "_view_count": null,
      "_view_module": "@jupyter-widgets/controls",
      "_view_module_version": "1.5.0",
      "_view_name": "HTMLView",
      "description": "",
      "description_tooltip": null,
      "layout": "IPY_MODEL_b6bcb969a78247fba0f96dbaca78c9e8",
      "placeholder": "​",
      "style": "IPY_MODEL_a200b4212dd7410e9b33168e4b696ef8",
      "value": " 440M/440M [00:01&lt;00:00, 298MB/s]"
     }
    },
    "b49e180f6ca6431c95d190bb6028026b": {
     "model_module": "@jupyter-widgets/controls",
     "model_module_version": "1.5.0",
     "model_name": "ProgressStyleModel",
     "state": {
      "_model_module": "@jupyter-widgets/controls",
      "_model_module_version": "1.5.0",
      "_model_name": "ProgressStyleModel",
      "_view_count": null,
      "_view_module": "@jupyter-widgets/base",
      "_view_module_version": "1.2.0",
      "_view_name": "StyleView",
      "bar_color": null,
      "description_width": ""
     }
    },
    "b6bcb969a78247fba0f96dbaca78c9e8": {
     "model_module": "@jupyter-widgets/base",
     "model_module_version": "1.2.0",
     "model_name": "LayoutModel",
     "state": {
      "_model_module": "@jupyter-widgets/base",
      "_model_module_version": "1.2.0",
      "_model_name": "LayoutModel",
      "_view_count": null,
      "_view_module": "@jupyter-widgets/base",
      "_view_module_version": "1.2.0",
      "_view_name": "LayoutView",
      "align_content": null,
      "align_items": null,
      "align_self": null,
      "border": null,
      "bottom": null,
      "display": null,
      "flex": null,
      "flex_flow": null,
      "grid_area": null,
      "grid_auto_columns": null,
      "grid_auto_flow": null,
      "grid_auto_rows": null,
      "grid_column": null,
      "grid_gap": null,
      "grid_row": null,
      "grid_template_areas": null,
      "grid_template_columns": null,
      "grid_template_rows": null,
      "height": null,
      "justify_content": null,
      "justify_items": null,
      "left": null,
      "margin": null,
      "max_height": null,
      "max_width": null,
      "min_height": null,
      "min_width": null,
      "object_fit": null,
      "object_position": null,
      "order": null,
      "overflow": null,
      "overflow_x": null,
      "overflow_y": null,
      "padding": null,
      "right": null,
      "top": null,
      "visibility": null,
      "width": null
     }
    },
    "b90c99b0c307426d9cc48455d3e4ad8a": {
     "model_module": "@jupyter-widgets/controls",
     "model_module_version": "1.5.0",
     "model_name": "HTMLModel",
     "state": {
      "_dom_classes": [],
      "_model_module": "@jupyter-widgets/controls",
      "_model_module_version": "1.5.0",
      "_model_name": "HTMLModel",
      "_view_count": null,
      "_view_module": "@jupyter-widgets/controls",
      "_view_module_version": "1.5.0",
      "_view_name": "HTMLView",
      "description": "",
      "description_tooltip": null,
      "layout": "IPY_MODEL_53dae6cb029d4a9da49bfb09911c90b7",
      "placeholder": "​",
      "style": "IPY_MODEL_225a9ec8d71e45b2b737794c259657a6",
      "value": " 28.0/28.0 [00:00&lt;00:00, 609B/s]"
     }
    },
    "c2d42ef04f22453eabb5c0bdb501e19e": {
     "model_module": "@jupyter-widgets/controls",
     "model_module_version": "1.5.0",
     "model_name": "HTMLModel",
     "state": {
      "_dom_classes": [],
      "_model_module": "@jupyter-widgets/controls",
      "_model_module_version": "1.5.0",
      "_model_name": "HTMLModel",
      "_view_count": null,
      "_view_module": "@jupyter-widgets/controls",
      "_view_module_version": "1.5.0",
      "_view_name": "HTMLView",
      "description": "",
      "description_tooltip": null,
      "layout": "IPY_MODEL_ee51db9e56b047648dbe9fe1d66e83bb",
      "placeholder": "​",
      "style": "IPY_MODEL_6cd702dd5d3b42e0bce8badbc1342353",
      "value": " 570/570 [00:00&lt;00:00, 33.6kB/s]"
     }
    },
    "cbe22e2cee734e3092bc7784c0f1cbe4": {
     "model_module": "@jupyter-widgets/controls",
     "model_module_version": "1.5.0",
     "model_name": "DescriptionStyleModel",
     "state": {
      "_model_module": "@jupyter-widgets/controls",
      "_model_module_version": "1.5.0",
      "_model_name": "DescriptionStyleModel",
      "_view_count": null,
      "_view_module": "@jupyter-widgets/base",
      "_view_module_version": "1.2.0",
      "_view_name": "StyleView",
      "description_width": ""
     }
    },
    "ce185795e8ec466fa225896b63c1b475": {
     "model_module": "@jupyter-widgets/controls",
     "model_module_version": "1.5.0",
     "model_name": "DescriptionStyleModel",
     "state": {
      "_model_module": "@jupyter-widgets/controls",
      "_model_module_version": "1.5.0",
      "_model_name": "DescriptionStyleModel",
      "_view_count": null,
      "_view_module": "@jupyter-widgets/base",
      "_view_module_version": "1.2.0",
      "_view_name": "StyleView",
      "description_width": ""
     }
    },
    "d1a8014d245f412c87f451d90253db88": {
     "model_module": "@jupyter-widgets/base",
     "model_module_version": "1.2.0",
     "model_name": "LayoutModel",
     "state": {
      "_model_module": "@jupyter-widgets/base",
      "_model_module_version": "1.2.0",
      "_model_name": "LayoutModel",
      "_view_count": null,
      "_view_module": "@jupyter-widgets/base",
      "_view_module_version": "1.2.0",
      "_view_name": "LayoutView",
      "align_content": null,
      "align_items": null,
      "align_self": null,
      "border": null,
      "bottom": null,
      "display": null,
      "flex": null,
      "flex_flow": null,
      "grid_area": null,
      "grid_auto_columns": null,
      "grid_auto_flow": null,
      "grid_auto_rows": null,
      "grid_column": null,
      "grid_gap": null,
      "grid_row": null,
      "grid_template_areas": null,
      "grid_template_columns": null,
      "grid_template_rows": null,
      "height": null,
      "justify_content": null,
      "justify_items": null,
      "left": null,
      "margin": null,
      "max_height": null,
      "max_width": null,
      "min_height": null,
      "min_width": null,
      "object_fit": null,
      "object_position": null,
      "order": null,
      "overflow": null,
      "overflow_x": null,
      "overflow_y": null,
      "padding": null,
      "right": null,
      "top": null,
      "visibility": null,
      "width": null
     }
    },
    "d1ce7fc94aad451cb37ece0b3f51bab0": {
     "model_module": "@jupyter-widgets/controls",
     "model_module_version": "1.5.0",
     "model_name": "DescriptionStyleModel",
     "state": {
      "_model_module": "@jupyter-widgets/controls",
      "_model_module_version": "1.5.0",
      "_model_name": "DescriptionStyleModel",
      "_view_count": null,
      "_view_module": "@jupyter-widgets/base",
      "_view_module_version": "1.2.0",
      "_view_name": "StyleView",
      "description_width": ""
     }
    },
    "d45d2a05c8404553a39b05be081272f0": {
     "model_module": "@jupyter-widgets/base",
     "model_module_version": "1.2.0",
     "model_name": "LayoutModel",
     "state": {
      "_model_module": "@jupyter-widgets/base",
      "_model_module_version": "1.2.0",
      "_model_name": "LayoutModel",
      "_view_count": null,
      "_view_module": "@jupyter-widgets/base",
      "_view_module_version": "1.2.0",
      "_view_name": "LayoutView",
      "align_content": null,
      "align_items": null,
      "align_self": null,
      "border": null,
      "bottom": null,
      "display": null,
      "flex": null,
      "flex_flow": null,
      "grid_area": null,
      "grid_auto_columns": null,
      "grid_auto_flow": null,
      "grid_auto_rows": null,
      "grid_column": null,
      "grid_gap": null,
      "grid_row": null,
      "grid_template_areas": null,
      "grid_template_columns": null,
      "grid_template_rows": null,
      "height": null,
      "justify_content": null,
      "justify_items": null,
      "left": null,
      "margin": null,
      "max_height": null,
      "max_width": null,
      "min_height": null,
      "min_width": null,
      "object_fit": null,
      "object_position": null,
      "order": null,
      "overflow": null,
      "overflow_x": null,
      "overflow_y": null,
      "padding": null,
      "right": null,
      "top": null,
      "visibility": null,
      "width": null
     }
    },
    "d77cd558ddf247bd8f81268f837db470": {
     "model_module": "@jupyter-widgets/controls",
     "model_module_version": "1.5.0",
     "model_name": "HTMLModel",
     "state": {
      "_dom_classes": [],
      "_model_module": "@jupyter-widgets/controls",
      "_model_module_version": "1.5.0",
      "_model_name": "HTMLModel",
      "_view_count": null,
      "_view_module": "@jupyter-widgets/controls",
      "_view_module_version": "1.5.0",
      "_view_name": "HTMLView",
      "description": "",
      "description_tooltip": null,
      "layout": "IPY_MODEL_3e409e81af9942af884b307874fe7b52",
      "placeholder": "​",
      "style": "IPY_MODEL_a681149529a74d8ea9488f2b866d6cf6",
      "value": " 466k/466k [00:00&lt;00:00, 1.87MB/s]"
     }
    },
    "ee51db9e56b047648dbe9fe1d66e83bb": {
     "model_module": "@jupyter-widgets/base",
     "model_module_version": "1.2.0",
     "model_name": "LayoutModel",
     "state": {
      "_model_module": "@jupyter-widgets/base",
      "_model_module_version": "1.2.0",
      "_model_name": "LayoutModel",
      "_view_count": null,
      "_view_module": "@jupyter-widgets/base",
      "_view_module_version": "1.2.0",
      "_view_name": "LayoutView",
      "align_content": null,
      "align_items": null,
      "align_self": null,
      "border": null,
      "bottom": null,
      "display": null,
      "flex": null,
      "flex_flow": null,
      "grid_area": null,
      "grid_auto_columns": null,
      "grid_auto_flow": null,
      "grid_auto_rows": null,
      "grid_column": null,
      "grid_gap": null,
      "grid_row": null,
      "grid_template_areas": null,
      "grid_template_columns": null,
      "grid_template_rows": null,
      "height": null,
      "justify_content": null,
      "justify_items": null,
      "left": null,
      "margin": null,
      "max_height": null,
      "max_width": null,
      "min_height": null,
      "min_width": null,
      "object_fit": null,
      "object_position": null,
      "order": null,
      "overflow": null,
      "overflow_x": null,
      "overflow_y": null,
      "padding": null,
      "right": null,
      "top": null,
      "visibility": null,
      "width": null
     }
    },
    "eead2d7a8a6f405f8640dbe03c50527c": {
     "model_module": "@jupyter-widgets/controls",
     "model_module_version": "1.5.0",
     "model_name": "DescriptionStyleModel",
     "state": {
      "_model_module": "@jupyter-widgets/controls",
      "_model_module_version": "1.5.0",
      "_model_name": "DescriptionStyleModel",
      "_view_count": null,
      "_view_module": "@jupyter-widgets/base",
      "_view_module_version": "1.2.0",
      "_view_name": "StyleView",
      "description_width": ""
     }
    },
    "f2552719f9c443bf8462232bfef661f2": {
     "model_module": "@jupyter-widgets/base",
     "model_module_version": "1.2.0",
     "model_name": "LayoutModel",
     "state": {
      "_model_module": "@jupyter-widgets/base",
      "_model_module_version": "1.2.0",
      "_model_name": "LayoutModel",
      "_view_count": null,
      "_view_module": "@jupyter-widgets/base",
      "_view_module_version": "1.2.0",
      "_view_name": "LayoutView",
      "align_content": null,
      "align_items": null,
      "align_self": null,
      "border": null,
      "bottom": null,
      "display": null,
      "flex": null,
      "flex_flow": null,
      "grid_area": null,
      "grid_auto_columns": null,
      "grid_auto_flow": null,
      "grid_auto_rows": null,
      "grid_column": null,
      "grid_gap": null,
      "grid_row": null,
      "grid_template_areas": null,
      "grid_template_columns": null,
      "grid_template_rows": null,
      "height": null,
      "justify_content": null,
      "justify_items": null,
      "left": null,
      "margin": null,
      "max_height": null,
      "max_width": null,
      "min_height": null,
      "min_width": null,
      "object_fit": null,
      "object_position": null,
      "order": null,
      "overflow": null,
      "overflow_x": null,
      "overflow_y": null,
      "padding": null,
      "right": null,
      "top": null,
      "visibility": null,
      "width": null
     }
    },
    "f533bf79058e43d0b5857b4505ef3f97": {
     "model_module": "@jupyter-widgets/controls",
     "model_module_version": "1.5.0",
     "model_name": "HTMLModel",
     "state": {
      "_dom_classes": [],
      "_model_module": "@jupyter-widgets/controls",
      "_model_module_version": "1.5.0",
      "_model_name": "HTMLModel",
      "_view_count": null,
      "_view_module": "@jupyter-widgets/controls",
      "_view_module_version": "1.5.0",
      "_view_name": "HTMLView",
      "description": "",
      "description_tooltip": null,
      "layout": "IPY_MODEL_76d3d22b8607429095fb2472d40e6cbc",
      "placeholder": "​",
      "style": "IPY_MODEL_eead2d7a8a6f405f8640dbe03c50527c",
      "value": "tokenizer_config.json: 100%"
     }
    },
    "f58da7e8fc7145d5849b88605375a966": {
     "model_module": "@jupyter-widgets/controls",
     "model_module_version": "1.5.0",
     "model_name": "HBoxModel",
     "state": {
      "_dom_classes": [],
      "_model_module": "@jupyter-widgets/controls",
      "_model_module_version": "1.5.0",
      "_model_name": "HBoxModel",
      "_view_count": null,
      "_view_module": "@jupyter-widgets/controls",
      "_view_module_version": "1.5.0",
      "_view_name": "HBoxView",
      "box_style": "",
      "children": [
       "IPY_MODEL_0cda830879ba40b2a4b190d5801aa4fa",
       "IPY_MODEL_0284d190f56f41c5a09acea126621dfc",
       "IPY_MODEL_d77cd558ddf247bd8f81268f837db470"
      ],
      "layout": "IPY_MODEL_d1a8014d245f412c87f451d90253db88"
     }
    },
    "fa874e74a4244e5583393cd99f1a6ab6": {
     "model_module": "@jupyter-widgets/controls",
     "model_module_version": "1.5.0",
     "model_name": "FloatProgressModel",
     "state": {
      "_dom_classes": [],
      "_model_module": "@jupyter-widgets/controls",
      "_model_module_version": "1.5.0",
      "_model_name": "FloatProgressModel",
      "_view_count": null,
      "_view_module": "@jupyter-widgets/controls",
      "_view_module_version": "1.5.0",
      "_view_name": "ProgressView",
      "bar_style": "success",
      "description": "",
      "description_tooltip": null,
      "layout": "IPY_MODEL_6e50fb3468c74eb5a033b522457ccea7",
      "max": 570,
      "min": 0,
      "orientation": "horizontal",
      "style": "IPY_MODEL_813e8ccc27164b8b940ffa6794b4bcf8",
      "value": 570
     }
    }
   }
  }
 },
 "nbformat": 4,
 "nbformat_minor": 0
}
