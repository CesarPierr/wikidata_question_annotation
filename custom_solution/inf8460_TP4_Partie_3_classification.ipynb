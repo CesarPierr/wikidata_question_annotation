{
 "cells": [
  {
   "cell_type": "markdown",
   "metadata": {
    "id": "n6EjRc0N6av8"
   },
   "source": [
    "### 7.3. Approche(s) avancée(s) et soumissions Kaggle (35%)\n",
    "Proposez une architecture plus complexe, ou améliorez votre précédente architecture générative ou de classification, afin d’obtenir un score plus élevé que vos autres modèles sur l’ensemble de validation ET dans la compétition Kaggle. Démontrez bien cette amélioration dans votre notebook dans les cellules suivantes.\n",
    "\n",
    "Voici des pistes d'amélioration possibles. Ce ne sont que des pistes, il pourrait y en avoir d'autres ou vous pourriez en combiner plusieurs (l'état de l'art devrait vous donner des idées) :\n",
    "\n",
    "- Gestion des URIs inconnues : Le jeu de validation/test contient des entités qui ne se retrouvent pas dans le jeu d'entrainement, votre modèle pourrait  proposer une solution à ce problème.\n",
    "- Ressources externes : Enrichissement des plongements associés aux entités / propriétés par l'accès par exemple à des textes qui décrivent les entités et par l'ajustement ou le pré-entrainement de modèle\n",
    "- Utilisation d'un modèle de langue plus large ( ajustement avec la méthode LORA) - Attention  cette piste ne sera pas considérée comme la plus originale mais combinée à d'autres améliorations elle pourrait s'avérer intéressante.\n",
    "- etc."
   ]
  },
  {
   "cell_type": "markdown",
   "metadata": {
    "id": "YgbeoNFv6eGE"
   },
   "source": [
    "### 7.3.1 État de l’art (5%)\n",
    "\n",
    "\n",
    "En vous basant sur vos recherches et sur cet article, quelles sont les meilleures techniques de l’état de l’art ?  Soyez brefs et clairs. Attention, on ne vous demande pas les détails d'un papier particulier mais une synthèse des meilleures approches de l'état de l'art.\n"
   ]
  },
  {
   "cell_type": "markdown",
   "metadata": {
    "id": "vUEp235v7eiQ"
   },
   "source": [
    "Mots-clés:\n"
   ]
  },
  {
   "cell_type": "markdown",
   "metadata": {
    "id": "KGXlPsaR7h3r"
   },
   "source": [
    "Synthèse:\n",
    "\n",
    "**Mécanisme d’Attention avec BERT pour l'Annotation de Contenu** : Utilisé pour la catégorisation et l'annotation de questions liées à la grossesse sur un site\n",
    "communautaire de questions-réponses.\n",
    "\n",
    "Approche: Deux mécanismes d'attention ont été explorés - le mécanisme d'attention intégré à\n",
    "BERT et une couche d'attention supplémentaire pour l'annotation de termes pertinents.\n",
    "\n",
    "**Attention Syntaxique Locale Consciente avec BERT** : Amélioration de BERT avec une attention locale consciente de la syntaxe pour\n",
    "diverses tâches de traitement du langage naturel.\n",
    "\n",
    "Approche: Une attention locale syntaxique (SLA) a été proposée, utilisant le parsing de\n",
    "dépendance pour construire des masques d'attention auto-attention et intégrée avec l'attention\n",
    "globale du Transformer.\n",
    "\n",
    "**Connaissance Syntaxique via l'Attention Graphique avec BERT dans\n",
    "la Traduction Automatique** : Application dans des scénarios de traduction machine pour améliorer la qualité de\n",
    "traduction.\n",
    "\n",
    "Approche: Le modèle SGB combine les informations syntaxiques des phrases sources via un\n",
    "réseau d'attention graphique (GAT) avec BERT. Ce modèle utilise l'attention multi-têtes sur le\n",
    "graphe pour exploiter explicitement les dépendances syntaxiques du côté source."
   ]
  },
  {
   "cell_type": "markdown",
   "metadata": {
    "id": "PvEL_-nv7mLZ"
   },
   "source": [
    "Références: Listez vos références de manière appropriée.\n",
    "\n",
    "---\n",
    "Mécanisme d’Attention avec BERT pour l'Annotation de Contenu: https://pubmed.ncbi.nlm.nih.gov/33664987/\n",
    "\n",
    "Attention Syntaxique Locale Consciente avec BERT : https://ar5iv.labs.arxiv.org/html/2012.15150\n",
    "\n",
    "Connaissance Syntaxique via l'Attention Graphique avec BERT dans\n",
    "la Traduction Automatique : https://ar5iv.labs.arxiv.org/html/2305.13413#:~:text=To%20the%20best%20of%20our,training%\n",
    "20from%20scratch"
   ]
  },
  {
   "cell_type": "markdown",
   "metadata": {
    "id": "fGftRY81udQq"
   },
   "source": [
    "### 7.3.2 Architecture proposée (5%)\n"
   ]
  },
  {
   "cell_type": "markdown",
   "metadata": {
    "id": "tVpGbGn8udQq"
   },
   "source": [
    "Nous partons d'une idée assez simple : ajouter des données pour faire face au probleme des jetons très peu présents et retravailler la classification.\n",
    "\n",
    "Ici nous repartons donc modèle de classification que nous allons essayer d'améliorer de plusieurs manieres :\n",
    "- integrer des nouvelles données venant de wikidata\n",
    "- changer l'architecture de classification de la maniere suivante : nous allons faire 3 sorties de classification. La premiere determinera si le token est un B, I ou O, le second si le label est un wd, wdt, ws, wq ou un label non assigné comme '=', le dernier le numero sera lui le type de label ('=', 'P145', 'Q300') encodé comme dans la premiere partie ou rien dans le cas d'un O.\n",
    "\n",
    "De plus nous ajouterons à BERT une couche linéaire commune en amont de celles de classification de ces 3 labels."
   ]
  },
  {
   "cell_type": "code",
   "execution_count": null,
   "metadata": {
    "colab": {
     "base_uri": "https://localhost:8080/"
    },
    "executionInfo": {
     "elapsed": 721,
     "status": "ok",
     "timestamp": 1701037441815,
     "user": {
      "displayName": "pierre cesar",
      "userId": "06990152005228481993"
     },
     "user_tz": 300
    },
    "id": "itYJraqlOdtC",
    "outputId": "f5b70d90-253b-4439-b764-11f089c1788b"
   },
   "outputs": [
    {
     "name": "stdout",
     "output_type": "stream",
     "text": [
      "CUDA Available?  True\n"
     ]
    }
   ],
   "source": [
    "import torch\n",
    "import numpy as np\n",
    "import pandas as pd\n",
    "import nltk\n",
    "import spacy\n",
    "import re\n",
    "import matplotlib.pyplot as plt\n",
    "from collections import Counter\n",
    "# Check if CUDA is available and test it\n",
    "cuda_available = torch.cuda.is_available()\n",
    "print(\"CUDA Available? \", cuda_available)"
   ]
  },
  {
   "cell_type": "code",
   "execution_count": null,
   "metadata": {
    "colab": {
     "base_uri": "https://localhost:8080/"
    },
    "executionInfo": {
     "elapsed": 6,
     "status": "ok",
     "timestamp": 1701037442254,
     "user": {
      "displayName": "pierre cesar",
      "userId": "06990152005228481993"
     },
     "user_tz": 300
    },
    "id": "3buUBw2eOdtD",
    "outputId": "a99d997a-e955-4ee5-bad9-b13bffa0c34e"
   },
   "outputs": [
    {
     "name": "stderr",
     "output_type": "stream",
     "text": [
      "[nltk_data] Downloading package punkt to /root/nltk_data...\n",
      "[nltk_data]   Package punkt is already up-to-date!\n"
     ]
    },
    {
     "data": {
      "text/plain": [
       "True"
      ]
     },
     "execution_count": 6,
     "metadata": {},
     "output_type": "execute_result"
    }
   ],
   "source": [
    "\n",
    "# Download the required NLTK resources\n",
    "nltk.download('punkt')\n"
   ]
  },
  {
   "cell_type": "code",
   "execution_count": null,
   "metadata": {
    "colab": {
     "base_uri": "https://localhost:8080/"
    },
    "executionInfo": {
     "elapsed": 21928,
     "status": "ok",
     "timestamp": 1701037464179,
     "user": {
      "displayName": "pierre cesar",
      "userId": "06990152005228481993"
     },
     "user_tz": 300
    },
    "id": "CWKNygkXvF_y",
    "outputId": "61d0447f-263f-4097-c244-86a232ad7ed0"
   },
   "outputs": [
    {
     "name": "stdout",
     "output_type": "stream",
     "text": [
      "Mounted at /content/drive\n"
     ]
    }
   ],
   "source": [
    "root = '/content/drive/MyDrive/traitement du langage/TP4/data/'\n",
    "from google.colab import drive\n",
    "drive.mount('/content/drive')\n",
    "\n",
    "#root = './data/'\n"
   ]
  },
  {
   "cell_type": "code",
   "execution_count": null,
   "metadata": {
    "colab": {
     "base_uri": "https://localhost:8080/",
     "height": 272
    },
    "executionInfo": {
     "elapsed": 2256,
     "status": "ok",
     "timestamp": 1701037466137,
     "user": {
      "displayName": "pierre cesar",
      "userId": "06990152005228481993"
     },
     "user_tz": 300
    },
    "id": "L8bVHBofOdtF",
    "outputId": "0e3de4b7-5d51-4fb6-b869-f4142d0f1eb6"
   },
   "outputs": [],
   "source": [
    "data_train = pd.read_csv(root+'train.csv',sep = '|')\n",
    "data_test = pd.read_csv(root+'test.csv', sep='|')\n",
    "data_validation = pd.read_csv(root+'validation.csv', sep ='|')\n",
    "data_train.head()"
   ]
  },
  {
   "cell_type": "markdown",
   "metadata": {
    "id": "3s8EQ0T7OdtH"
   },
   "source": [
    "### 7.3.2 Implémentation (23%)\n",
    "\n",
    "Implémentez votre modèle et effectuez otre soumission pour Kaggle en respectant le format de soumission."
   ]
  },
  {
   "cell_type": "markdown",
   "metadata": {
    "id": "ytPEi5YrOdtH"
   },
   "source": [
    "Creation de la chaine de traitement des jetons (Le debut reste le meme)\n"
   ]
  },
  {
   "cell_type": "markdown",
   "metadata": {
    "id": "bHOfh5e4udQr"
   },
   "source": [
    "### Telechargement des données supplémentaires"
   ]
  },
  {
   "cell_type": "code",
   "execution_count": null,
   "metadata": {
    "id": "Dpl6BofGdEbD"
   },
   "outputs": [],
   "source": [
    "!pip install pywikibot"
   ]
  },
  {
   "cell_type": "code",
   "execution_count": null,
   "metadata": {
    "colab": {
     "base_uri": "https://localhost:8080/",
     "height": 154
    },
    "executionInfo": {
     "elapsed": 131,
     "status": "ok",
     "timestamp": 1701037469630,
     "user": {
      "displayName": "pierre cesar",
      "userId": "06990152005228481993"
     },
     "user_tz": 300
    },
    "id": "yLJ5JcLfudQr",
    "outputId": "2e9eb453-124f-408c-af93-0f69a87ebb72"
   },
   "outputs": [],
   "source": [
    "#load extra data retrieved from wikidata\n",
    "import pandas as pd\n",
    "import regex as re\n",
    "import pywikibot\n",
    "import concurrent.futures\n",
    "import tqdm\n",
    "import json\n",
    "\n",
    "\n",
    "def retrieve_all_ressources_and_properties(df: pd.DataFrame) :\n",
    "    ressources = []\n",
    "    properties = []\n",
    "    regex_ressources = \"<<[wdtpsq]{2,3}:(Q\\d+)>>\"\n",
    "    regex_properties = \"<<[wdtpsq]{2,3}:(P\\d+)>>\"\n",
    "    for _, row in df.iterrows():\n",
    "        question = row['question_tagged']\n",
    "        ressource = re.findall(regex_ressources, question)\n",
    "        propertie = re.findall(regex_properties, question)\n",
    "        ressources+=ressource\n",
    "        properties+=propertie\n",
    "    return list(set(ressources)), list(set(properties))\n",
    "\n",
    "\n",
    "\n",
    "def parallel_get_wikidata_labels(ids):\n",
    "    def get_wikidata_label(wikidata_id):\n",
    "        site = pywikibot.Site(\"wikidata\", \"wikidata\")\n",
    "        repo = site.data_repository()\n",
    "        try:\n",
    "            if wikidata_id.startswith('Q'):\n",
    "                entity = pywikibot.ItemPage(repo, wikidata_id)\n",
    "            elif wikidata_id.startswith('P'):\n",
    "                entity = pywikibot.PropertyPage(repo, wikidata_id)\n",
    "            else:\n",
    "                return None  # Invalid ID\n",
    "        except:\n",
    "            return None\n",
    "\n",
    "        entity.get()\n",
    "        label = entity.labels.get('en', '')  # Get English label if available\n",
    "        description = entity.descriptions.get('en', '')  # Get English description if available\n",
    "        return {'label': label, 'description': description}\n",
    "\n",
    "    dict_all = {}\n",
    "    with concurrent.futures.ThreadPoolExecutor(max_workers=16) as executor:\n",
    "        future_to_wikidata_id = {executor.submit(get_wikidata_label, wikidata_id): wikidata_id for wikidata_id in ids}\n",
    "\n",
    "        for future in tqdm.tqdm(concurrent.futures.as_completed(future_to_wikidata_id), total=len(ids)):\n",
    "            wikidata_id = future_to_wikidata_id[future]\n",
    "            try:\n",
    "                result = future.result()\n",
    "                if result:\n",
    "                    dict_all[wikidata_id] = result\n",
    "                else:\n",
    "                    dict_all[wikidata_id] = {'label': '', 'description': ''}\n",
    "            except Exception as exc:\n",
    "                dict_all[wikidata_id] = {'label': '', 'description': ''}\n",
    "\n",
    "    return dict_all\n",
    "\n",
    "# Lecture des données\n",
    "data_train = pd.read_csv(root+'train.csv', sep='|')\n",
    "data_validation = pd.read_csv(root+'validation.csv', sep='|')\n",
    "\n",
    "# Récupération des ressources et propriétés\n",
    "ressources, prop = retrieve_all_ressources_and_properties(data_train)\n",
    "ressources_val, prop_val = retrieve_all_ressources_and_properties(data_validation)\n",
    "\n",
    "ressources = list(set(ressources_val + ressources))\n",
    "properties = list(set(prop_val+prop))\n",
    "\n",
    "# Appel parallèle pour obtenir les étiquettes Wikidata (label et description)\n",
    "all_ids = ressources + properties\n",
    "dict_all = parallel_get_wikidata_labels(all_ids)\n",
    "with open('dict_all.json', 'w') as fp:\n",
    "    json.dump(dict_all, fp)"
   ]
  },
  {
   "cell_type": "markdown",
   "metadata": {
    "id": "XvP5ZW5NdWfG"
   },
   "source": [
    "### Traitement des données wikidata\n",
    "\n",
    "Pour chaque identifiant wikidata, on a recupéré :\n",
    "- un label\n",
    "- une description\n",
    "\n",
    "Ainsi nous allons augmenter notre jeu de données de la maniere suivante :\n",
    "- ajouter une phrase : 'wikidata label : [label]' classifié avec des O de partout sauf sur le label qui aura le bon identifiant\n",
    "- ajouter plusieurs phrases de la forme suivante : 'wikidata description : [description] a pour label : [label]'. La classfication est ici aussi en O de partout sauf sur le label qui a l'ID"
   ]
  },
  {
   "cell_type": "code",
   "execution_count": null,
   "metadata": {
    "colab": {
     "base_uri": "https://localhost:8080/"
    },
    "executionInfo": {
     "elapsed": 2291,
     "status": "ok",
     "timestamp": 1701054129828,
     "user": {
      "displayName": "pierre cesar",
      "userId": "06990152005228481993"
     },
     "user_tz": 300
    },
    "id": "bKKZRiL-udQr",
    "outputId": "c007569b-b7a1-4afb-b79e-02c15d06ac59"
   },
   "outputs": [],
   "source": [
    "#Chargement des données supplémentaires\n",
    "import json\n",
    "with open(root+'wikidata_data.json') as json_file:\n",
    "    wikidata_data = json.load(json_file)\n",
    "ids = []\n",
    "labels = []\n",
    "descriptions = []\n",
    "\n",
    "for id, info in wikidata_data.items():\n",
    "    ids.append(id)\n",
    "    labels.append(info.get('label', None))  # Utiliser une chaîne vide si pas de label\n",
    "    descriptions.append(info.get('description', None))  # De même pour description\n",
    "\n",
    "wikidata_df = pd.DataFrame({\n",
    "    'wikidata_id': ids,\n",
    "    'label': labels,\n",
    "    'description': descriptions\n",
    "})\n",
    "wikidata_df = wikidata_df.dropna(subset=['label'])\n",
    "\n",
    "train_wikidata = []\n",
    "labels_wikidata = []\n",
    "raw_wikidata = []\n",
    "for _, row in wikidata_df.iterrows():\n",
    "    if row['label'] is None or row['label'] == '':\n",
    "        continue\n",
    "\n",
    "    #ajout de la partie avec le label\n",
    "    splitted_label = row['label'].lower().split()\n",
    "    sentence_to_add = ['wikidata', 'label', ':']+ splitted_label\n",
    "    train_wikidata.append(sentence_to_add)\n",
    "    id = row['wikidata_id']\n",
    "    lab = ['O'] * 3 + [f'B-{id}'] + [f'I-{id}'] * (len(sentence_to_add) - 4)\n",
    "    labels_wikidata.append(lab)\n",
    "    raw_wikidata.append(' '.join(sentence_to_add))\n",
    "\n",
    "    #add annother line using description and a random part of the label like : sent = ['wikidata', 'description', ':']+ row['description'].lower().split()\n",
    "    #add randomly words of the label to the description (data augmentation)\n",
    "    if row['description'] is None or row['description'] == '':\n",
    "        continue\n",
    "    sent = ['wikidata', 'description', ':']+ row['description'].lower().split() + ['with','label', ':']\n",
    "\n",
    "    lab = ['O'] * len(sent)\n",
    "    #each word of the label has 50% chance to be added to the description\n",
    "    truncated_label = [splitted_label[i] for i in range(len(splitted_label)) if np.random.rand() < 0.5]\n",
    "    if len(truncated_label) == 0 :\n",
    "        truncated_label = splitted_label\n",
    "    sent += truncated_label\n",
    "    train_wikidata.append(sent)\n",
    "    lab += ['B-'+id] + ['I-'+id] * (len(truncated_label) - 1)\n",
    "    labels_wikidata.append(lab)\n",
    "    raw_wikidata.append(' '.join(sent))\n",
    "\n",
    "print(train_wikidata[:10])\n",
    "print(labels_wikidata[:10])\n"
   ]
  },
  {
   "cell_type": "markdown",
   "metadata": {
    "id": "gj_wEmNPdfBR"
   },
   "source": [
    "### Traitement des données globales\n",
    "pas de gros changement mise à part qu'on renvoie aussi le raw et on rajoute l'indication 'raw : ' dans les phrases"
   ]
  },
  {
   "cell_type": "code",
   "execution_count": null,
   "metadata": {
    "id": "LDHxkyTgOdtH"
   },
   "outputs": [],
   "source": [
    "\n",
    "def remove_duplicate_brackets(text):\n",
    "\n",
    "    regex = r\"(\\{\\{|\\}\\}|\\{\\s\\{|\\}\\s\\})\"\n",
    "\n",
    "    def replace_brackets(match):\n",
    "        bracket = match.group(0)\n",
    "        if bracket in [\"{{\", \"{ {\"]:\n",
    "            return \"{\"\n",
    "        else:\n",
    "            return \"}\"\n",
    "\n",
    "    # Replace the found brackets using the defined function\n",
    "    return re.sub(regex, replace_brackets, text)\n",
    "\n",
    "def preprocess(df : pd.DataFrame) :\n",
    "    #return the data to the following shape : array[phrases, word of phrases], list[phrases, label of word phrases]\n",
    "    original_tokens = []\n",
    "    labels = []\n",
    "    raws = []\n",
    "    for i, row in df.iterrows():\n",
    "        question = row['question_original']\n",
    "        question = 'raw : ' + question\n",
    "        tagged = row['question_tagged']\n",
    "        tagged = 'raw : ' + tagged\n",
    "        raw = row['question_raw']\n",
    "        raw = 'raw : ' + raw\n",
    "        question = question.replace(\"<\",\"{\").replace(\">\",\"}\")\n",
    "        question = remove_duplicate_brackets(question)\n",
    "        question = question.replace(\"{\",\" { \").replace(\"}\",\" } \")\n",
    "        question = re.sub(r'\\{\\s*\\}','',question)\n",
    "        # Tokenize the question\n",
    "        tokens = raw.split()\n",
    "        tokenized_question = question.split()\n",
    "        O_tokens = nltk.word_tokenize(re.sub(r'<<[^>]*>>', '', tagged))\n",
    "\n",
    "        # Initialize labels for each token\n",
    "        token_labels = []\n",
    "        tag_ind = 0\n",
    "        tag_list = re.findall(r'<<([^>]*)>>', tagged)\n",
    "        sequence = False\n",
    "        question_ind = 0\n",
    "        raws.append(raw)\n",
    "        for ind, tok in enumerate(tokens) :\n",
    "            if sequence == False and tokenized_question[question_ind] != \"{\" :\n",
    "                if O_tokens[0] == tok :\n",
    "                    token_labels.append('O')\n",
    "                    O_tokens.pop(0)\n",
    "                    if tokenized_question[question_ind].lower().startswith(tok.lower()) or tokenized_question[question_ind].startswith(tok):\n",
    "                        tokenized_question[question_ind] = tokenized_question[question_ind][len(tok):]\n",
    "                        if tokenized_question[question_ind] == \"\" :\n",
    "                            question_ind += 1\n",
    "                    else :\n",
    "                        raise Exception(f\"{i} error 0 in tokenization at token {tok} for question {question} and tagged {tagged} and raw {raw} with labels {token_labels}\")\n",
    "                else :\n",
    "                    raise Exception(f\"{i} error 1 in tokenization at token  {tok} for question {question} and tagged {tagged} and raw {raw} with labels {token_labels}\")\n",
    "            elif sequence == False and tokenized_question[question_ind] == \"{\" :\n",
    "                question_ind += 1\n",
    "                sequence = True\n",
    "                if tokenized_question[question_ind].lower().startswith(tok.lower())or tokenized_question[question_ind].startswith(tok):\n",
    "                    token_labels.append('B-'+tag_list[tag_ind])\n",
    "                    tokenized_question[question_ind] = tokenized_question[question_ind][len(tok):]\n",
    "                    if tokenized_question[question_ind] == \"\" :\n",
    "                        question_ind += 1\n",
    "                else :\n",
    "                    print(tokenized_question[question_ind], tok, question_ind , tokenized_question)\n",
    "                    raise Exception(f\"{i} error 2 in tokenization at token {tok} for question {question} and tagged {tagged} and raw {raw} with labels {token_labels}\")\n",
    "            elif sequence == True and tokenized_question[question_ind] != \"}\" :\n",
    "                if tokenized_question[question_ind].lower().startswith(tok.lower()) or tokenized_question[question_ind].startswith(tok):\n",
    "                    token_labels.append('I-'+tag_list[tag_ind])\n",
    "                    tokenized_question[question_ind] = tokenized_question[question_ind][len(tok):]\n",
    "                    if tokenized_question[question_ind] == \"\" :\n",
    "                        question_ind += 1\n",
    "                else :\n",
    "                    print(tokenized_question[question_ind], tok, question_ind , tokenized_question)\n",
    "                    raise Exception(f\"{i} error 3 in tokenization at token {tok} for question {question} and tagged {tagged} and raw {raw} with labels {token_labels}\")\n",
    "            elif sequence == True and tokenized_question[question_ind] == \"}\" :\n",
    "                sequence = False\n",
    "                question_ind += 1\n",
    "                tag_ind += 1\n",
    "                if tokenized_question[question_ind] != \"{\" :\n",
    "                    if O_tokens[0] == tok :\n",
    "                        token_labels.append('O')\n",
    "                        O_tokens.pop(0)\n",
    "                        question_ind += 1\n",
    "                    else :\n",
    "                        raise Exception(f\"{i} error 4 in tokenization at token {tok} for question {question} and tagged {tagged} and raw {raw} with labels {token_labels}\")\n",
    "                else :\n",
    "                    question_ind += 1\n",
    "                    sequence = True\n",
    "                    if tokenized_question[question_ind].lower().startswith(tok.lower()) or tokenized_question[question_ind].startswith(tok):\n",
    "                        token_labels.append('B-'+tag_list[tag_ind])\n",
    "                        tokenized_question[question_ind] = tokenized_question[question_ind][len(tok):]\n",
    "                        if tokenized_question[question_ind] == \"\" :\n",
    "                            question_ind += 1\n",
    "                    else :\n",
    "                        raise Exception(f\"{i} error 5 in tokenization at token {tok} for question {question} and tagged {tagged} and raw {raw} with labels {token_labels}\")\n",
    "\n",
    "\n",
    "        original_tokens.append(tokens)\n",
    "        labels.append(token_labels)\n",
    "\n",
    "\n",
    "\n",
    "    return original_tokens, labels, raws\n",
    "\n"
   ]
  },
  {
   "cell_type": "code",
   "execution_count": null,
   "metadata": {
    "id": "1yLhpx4gOdtH"
   },
   "outputs": [],
   "source": [
    "#return the data to the following shape : array[phrases, word of phrases], list[phrases, label of word phrases]\n",
    "def preprocess_test(df : pd.DataFrame) :\n",
    "    original_tokens = []\n",
    "    for _, row in df.iterrows():\n",
    "        question = 'raw : '+row['question_raw']\n",
    "        tokens = question.split()\n",
    "        original_tokens.append(tokens)\n",
    "    return original_tokens\n",
    "\n"
   ]
  },
  {
   "cell_type": "markdown",
   "metadata": {
    "id": "HLXsUcfUOdtI"
   },
   "source": [
    "Process the train and val dataset"
   ]
  },
  {
   "cell_type": "code",
   "execution_count": null,
   "metadata": {
    "id": "M3OxnTMhOdtI"
   },
   "outputs": [],
   "source": [
    "tokens_train, labels_train,raw_train = preprocess(data_train)"
   ]
  },
  {
   "cell_type": "code",
   "execution_count": null,
   "metadata": {
    "id": "NygoTLPTOdtI"
   },
   "outputs": [],
   "source": [
    "#check length of tokens and labels\n",
    "assert len(tokens_train) == len(labels_train)\n",
    "for i in range(len(tokens_train)):\n",
    "    assert len(tokens_train[i]) == len(labels_train[i])"
   ]
  },
  {
   "cell_type": "markdown",
   "metadata": {
    "id": "546U6JumudQu"
   },
   "source": [
    "#### traitement des labels pour les décomposer en 3 catégories mentionnées au début"
   ]
  },
  {
   "cell_type": "code",
   "execution_count": null,
   "metadata": {
    "id": "ysWBAl8NudQv"
   },
   "outputs": [],
   "source": [
    "###transformation des labels de chaque mot en Tuples de 3 elements : (B/I/O, wd/wdt/ws/wq ou autre ou None si O,  valeur apres le : si wd/wdt/ws/wq ou None si O ou valeur entiere,)\n",
    "\n",
    "def transform_labels_to_triplet(labels, is_wikidata = False):\n",
    "    if not is_wikidata:\n",
    "        #cas ou on travaille sur les données d'entrainements/val\n",
    "        new_labels = []\n",
    "        regex_wd = r'[wdtpqs]{2,3}:[QP](\\d*)'\n",
    "\n",
    "        for label in labels:\n",
    "            new_label = []\n",
    "            for l in label:\n",
    "                triplet = [None,None,None]\n",
    "                if l == 'O':\n",
    "                    triplet[0] = 'O'\n",
    "                    new_label.append(triplet)\n",
    "                    continue\n",
    "                else :\n",
    "                    triplet[0] = l[0]\n",
    "\n",
    "                    is_wiki = re.match(regex_wd,l[2:])\n",
    "                    if is_wiki:\n",
    "                        triplet[1] = l[2:].split(':')[0]\n",
    "                        triplet[2] = l[2:].split(':')[1]\n",
    "                    else :\n",
    "                        triplet[2] = l[2:]\n",
    "                new_label.append(triplet)\n",
    "            new_labels.append(new_label)\n",
    "    else :\n",
    "        new_labels = []\n",
    "        for label in labels:\n",
    "            new_label = []\n",
    "            for l in label:\n",
    "                triplet = [None,None,None]\n",
    "                if l == 'O':\n",
    "                    triplet[0] = 'O'\n",
    "                    new_label.append(triplet)\n",
    "                    continue\n",
    "                else :\n",
    "                    triplet[0] = l[0]\n",
    "                    triplet[2] = l[2:]\n",
    "                new_label.append(triplet)\n",
    "            new_labels.append(new_label)\n",
    "    return new_labels"
   ]
  },
  {
   "cell_type": "code",
   "execution_count": null,
   "metadata": {
    "colab": {
     "base_uri": "https://localhost:8080/"
    },
    "executionInfo": {
     "elapsed": 1911,
     "status": "ok",
     "timestamp": 1701054152374,
     "user": {
      "displayName": "pierre cesar",
      "userId": "06990152005228481993"
     },
     "user_tz": 300
    },
    "id": "Jjm-ShRwudQv",
    "outputId": "1bd7208c-97d9-40e4-c5c3-ec2a36c2a90d"
   },
   "outputs": [],
   "source": [
    "#test\n",
    "labels_train_transformed = transform_labels_to_triplet(labels_train)\n",
    "labels_wikidata_transformed = transform_labels_to_triplet(labels_wikidata, is_wikidata=True)\n",
    "print(labels_train[4136])\n",
    "print(labels_train_transformed[4136])\n",
    "\n",
    "print(labels_wikidata[0])\n",
    "print(labels_wikidata_transformed[0])"
   ]
  },
  {
   "cell_type": "code",
   "execution_count": null,
   "metadata": {
    "colab": {
     "base_uri": "https://localhost:8080/"
    },
    "executionInfo": {
     "elapsed": 96,
     "status": "ok",
     "timestamp": 1701054154112,
     "user": {
      "displayName": "pierre cesar",
      "userId": "06990152005228481993"
     },
     "user_tz": 300
    },
    "id": "6BKujSNbudQw",
    "outputId": "3d1eee35-2083-4f59-8520-b0c9a2890f60"
   },
   "outputs": [
    {
     "name": "stdout",
     "output_type": "stream",
     "text": [
      "60886\n"
     ]
    }
   ],
   "source": [
    "#merge wikidata and train data\n",
    "tokens_train += train_wikidata\n",
    "labels_train_transformed += labels_wikidata_transformed\n",
    "raw_train += raw_wikidata\n",
    "print(len(tokens_train))"
   ]
  },
  {
   "cell_type": "code",
   "execution_count": null,
   "metadata": {
    "colab": {
     "base_uri": "https://localhost:8080/"
    },
    "executionInfo": {
     "elapsed": 520,
     "status": "ok",
     "timestamp": 1701054162385,
     "user": {
      "displayName": "pierre cesar",
      "userId": "06990152005228481993"
     },
     "user_tz": 300
    },
    "id": "5ukh6gqCOdtI",
    "outputId": "be0c272f-d85f-4561-ed2e-3768ef9d6a91"
   },
   "outputs": [
    {
     "name": "stdout",
     "output_type": "stream",
     "text": [
      "ancienne list de labels length : 39588\n",
      "nouvelle list de labels length : 23621\n"
     ]
    }
   ],
   "source": [
    "label_map = {}\n",
    "unique_labels = set([label for labels in labels_train for label in labels])\n",
    "# For each label...\n",
    "for (i, label) in enumerate(unique_labels):\n",
    "    # Map it to its integer.\n",
    "    label_map[label] = i\n",
    "print(\"ancienne list de labels length :\",len(label_map))\n",
    "\n",
    "new_label_map = {}\n",
    "unique_labels = set([label[2] for labels in labels_train_transformed for label in labels if label[2] != None])\n",
    "# For each label...\n",
    "for (i, label) in enumerate(unique_labels):\n",
    "    # Map it to its integer.\n",
    "    new_label_map[label] = i\n",
    "print(\"nouvelle list de labels length :\",len(new_label_map)+ 3+5)#on ajoute le nombre de labels des autres dimensions"
   ]
  },
  {
   "cell_type": "markdown",
   "metadata": {
    "id": "xX3vO41Rd175"
   },
   "source": [
    "Grace à cette astuce on a quasiment divisé par deux le nombre de labels tout en rajoutant un peu plus de \"sens\" à ceux-ci"
   ]
  },
  {
   "cell_type": "code",
   "execution_count": null,
   "metadata": {
    "colab": {
     "base_uri": "https://localhost:8080/"
    },
    "executionInfo": {
     "elapsed": 734,
     "status": "ok",
     "timestamp": 1701054188401,
     "user": {
      "displayName": "pierre cesar",
      "userId": "06990152005228481993"
     },
     "user_tz": 300
    },
    "id": "MT7i0LRfOdtI",
    "outputId": "1ed95d86-e6e8-423e-aa23-110b2845e74b"
   },
   "outputs": [
    {
     "name": "stdout",
     "output_type": "stream",
     "text": [
      "Example sentence:\n",
      "    Tokens: ['raw', ':', 'what', 'is', 'birthplace', 'of', 'robert', 'rayford', ',', 'that', 'has', 'abbreviation', 'is', 'ארה', '\"', 'ב', '?']\n",
      "    Labels: ['O', 'O', 'O', 'O', 'B-wdt:P19', 'O', 'B-wd:Q288055', 'I-wd:Q288055', 'O', 'O', 'O', 'B-wdt:P1813', 'O', 'B-\\'ארה\"ב\\'', 'I-\\'ארה\"ב\\'', 'I-\\'ארה\"ב\\'', 'O']\n",
      "\n",
      "Sentence Tokens and Labels:\n",
      "('raw', ['O', None, None])\n",
      "(':', ['O', None, None])\n",
      "('what', ['O', None, None])\n",
      "('is', ['O', None, None])\n",
      "('birthplace', ['B', 'wdt', 'P19'])\n",
      "('of', ['O', None, None])\n",
      "('robert', ['B', 'wd', 'Q288055'])\n",
      "('rayford', ['I', 'wd', 'Q288055'])\n",
      "(',', ['O', None, None])\n",
      "('that', ['O', None, None])\n",
      "('has', ['O', None, None])\n",
      "('abbreviation', ['B', 'wdt', 'P1813'])\n",
      "('is', ['O', None, None])\n",
      "('ארה', ['B', None, '\\'ארה\"ב\\''])\n",
      "('\"', ['I', None, '\\'ארה\"ב\\''])\n",
      "('ב', ['I', None, '\\'ארה\"ב\\''])\n",
      "('?', ['O', None, None])\n"
     ]
    }
   ],
   "source": [
    "print(\"Example sentence:\")\n",
    "print (\"    Tokens:\", tokens_train[4136])\n",
    "print (\"    Labels:\", labels_train[4136])\n",
    "\n",
    "print ('\\nSentence Tokens and Labels:')\n",
    "for i in zip(tokens_train[4136], labels_train_transformed[4136]):\n",
    "    print (i)"
   ]
  },
  {
   "cell_type": "code",
   "execution_count": null,
   "metadata": {
    "id": "EkmfzHMGwPPd"
   },
   "outputs": [],
   "source": [
    "!pip install transformers"
   ]
  },
  {
   "cell_type": "markdown",
   "metadata": {
    "id": "xLMVf5PFOdtJ"
   },
   "source": [
    "*indication de la longueure maximale*"
   ]
  },
  {
   "cell_type": "code",
   "execution_count": null,
   "metadata": {
    "colab": {
     "base_uri": "https://localhost:8080/",
     "height": 179,
     "referenced_widgets": [
      "ad25bc43b9874b4fa41d868250a1784e",
      "fcc14123541b4dd68626b15c2e11046d",
      "8d58d968d3b04eed9c80d151cbf8ee32",
      "dfd2fa9c3e4b42348916289642e75146",
      "204c38ae48e04ed2a3b374f1a274e58e",
      "b18ad008e6f9462a82bc8d450290052e",
      "c18ea9a2c6ee48aaa2f6228614835cf3",
      "a4141d184e1c4f81aa9e5c7a90015b42",
      "acd957470e6947d0a778469fe2571871",
      "c83c94825d6d45179649d2bfe9b867b5",
      "a58fff2326634cce96fb207a547f1a89",
      "80fa591622a040d19f8cfb1263654cf2",
      "2c5a70bc6cd4405e9db33c9b12bd4417",
      "4698d5c8fd014757984e121c57200337",
      "d1891d35dd8b461da82083a546608ce7",
      "876b71fda6d34009a9e7862218608be5",
      "22325a0bc2224dae8a54476648b671ab",
      "c3c726e074424e4ba84c688dfd34212b",
      "a88c1e5b5ef743fca652d2f020b44fb8",
      "296f5ca80b0c432c9f34c2c3d3466c00",
      "e1437b52d7bd48cc8dcb0d44c9cc3882",
      "0e588e03f5294ecf9603997db15bdec3",
      "8ea5081f469548d8a0e9e3fe4bd617b1",
      "8db90cc971b445dfae04e505f41bb63a",
      "8b8a50ce71504d489e236487b6a11ffc",
      "6c15141c6e474d839eb96aca571460bf",
      "5e1894f5cf3e439ba12982158a9ca5ef",
      "3254427c3f8b493daae880403c974031",
      "af90de0ac6d245b1a91e57b8e262e448",
      "a3a701daf2b14913bf34ecf0e728e4cd",
      "df08fdbd9d834906af9bae85912791ca",
      "04a67fe6496142b78f09a92711aedb7a",
      "1866e0f4700644e1b75aeac90ca6cace",
      "7db4674c11094bf5aad3298834e48acb",
      "a144bf262c26464292894265a4eed22f",
      "eca0e693899249998359c7e341c1ce79",
      "aa4835f022864aadb756a8924a1d03ba",
      "540ae49442c84392b7f6940a6de97287",
      "1ef5ca2a496a4e9b9bf980a989cd1c56",
      "3db5482b7e754c92ac7e7463a0d2db33",
      "e567002c82bd472f91a1531a006f94a0",
      "0d41f3dbf747468aac87b4eb6a2b536c",
      "2a03d21223824a01879d7c7b783ea551",
      "3c0d04ca4e974a09b9ff256f37496fcb"
     ]
    },
    "executionInfo": {
     "elapsed": 19637,
     "status": "ok",
     "timestamp": 1701037504200,
     "user": {
      "displayName": "pierre cesar",
      "userId": "06990152005228481993"
     },
     "user_tz": 300
    },
    "id": "F2EKBn8HOdtJ",
    "outputId": "976c78fd-fe4c-40ee-edd4-543a4b8eedf6"
   },
   "outputs": [
    {
     "data": {
      "application/vnd.jupyter.widget-view+json": {
       "model_id": "ad25bc43b9874b4fa41d868250a1784e",
       "version_major": 2,
       "version_minor": 0
      },
      "text/plain": [
       "tokenizer_config.json:   0%|          | 0.00/28.0 [00:00<?, ?B/s]"
      ]
     },
     "metadata": {},
     "output_type": "display_data"
    },
    {
     "data": {
      "application/vnd.jupyter.widget-view+json": {
       "model_id": "80fa591622a040d19f8cfb1263654cf2",
       "version_major": 2,
       "version_minor": 0
      },
      "text/plain": [
       "vocab.txt:   0%|          | 0.00/232k [00:00<?, ?B/s]"
      ]
     },
     "metadata": {},
     "output_type": "display_data"
    },
    {
     "data": {
      "application/vnd.jupyter.widget-view+json": {
       "model_id": "8ea5081f469548d8a0e9e3fe4bd617b1",
       "version_major": 2,
       "version_minor": 0
      },
      "text/plain": [
       "tokenizer.json:   0%|          | 0.00/466k [00:00<?, ?B/s]"
      ]
     },
     "metadata": {},
     "output_type": "display_data"
    },
    {
     "data": {
      "application/vnd.jupyter.widget-view+json": {
       "model_id": "7db4674c11094bf5aad3298834e48acb",
       "version_major": 2,
       "version_minor": 0
      },
      "text/plain": [
       "config.json:   0%|          | 0.00/570 [00:00<?, ?B/s]"
      ]
     },
     "metadata": {},
     "output_type": "display_data"
    },
    {
     "name": "stdout",
     "output_type": "stream",
     "text": [
      "Measuring sentence lengths...\n",
      "    DONE.\n"
     ]
    }
   ],
   "source": [
    "from transformers import BertTokenizerFast\n",
    "import numpy as np\n",
    "\n",
    "\n",
    "tokenizer = BertTokenizerFast.from_pretrained('bert-base-uncased')\n",
    "# Record the length of each sequence.\n",
    "lengths = []\n",
    "\n",
    "print('Measuring sentence lengths...')\n",
    "\n",
    "# For every sentence...\n",
    "for sen in raw_train:\n",
    "    encoded_sent = tokenizer.encode(\n",
    "                        sen,                      # Sentence to encode.\n",
    "                        add_special_tokens = True, # Add '[CLS]' and '[SEP]'\n",
    "                   )\n",
    "\n",
    "    lengths.append(len(encoded_sent))\n",
    "for i,row in data_validation.iterrows():\n",
    "    sen = row['question_raw']\n",
    "    encoded_sent = tokenizer.encode(\n",
    "                        sen,                      # Sentence to encode.\n",
    "                        add_special_tokens = True, # Add '[CLS]' and '[SEP]'\n",
    "                   )\n",
    "    lengths.append(len(encoded_sent))\n",
    "\n",
    "for i, row in data_test.iterrows():\n",
    "    sen = row['question_raw']\n",
    "    encoded_sent = tokenizer.encode(\n",
    "                        sen,                      # Sentence to encode.\n",
    "                        add_special_tokens = True, # Add '[CLS]' and '[SEP]'\n",
    "                   )\n",
    "    lengths.append(len(encoded_sent))\n",
    "print('    DONE.')"
   ]
  },
  {
   "cell_type": "code",
   "execution_count": null,
   "metadata": {
    "colab": {
     "base_uri": "https://localhost:8080/"
    },
    "executionInfo": {
     "elapsed": 176,
     "status": "ok",
     "timestamp": 1701037504203,
     "user": {
      "displayName": "pierre cesar",
      "userId": "06990152005228481993"
     },
     "user_tz": 300
    },
    "id": "e1wAiNf0OdtK",
    "outputId": "0be3f3cc-8702-4e87-d66d-108688414344"
   },
   "outputs": [
    {
     "name": "stdout",
     "output_type": "stream",
     "text": [
      "   Min length: 7 tokens\n",
      "   Max length: 117 tokens\n",
      "Median length: 17 tokens\n"
     ]
    }
   ],
   "source": [
    "print('   Min length: {:,} tokens'.format(min(lengths)))\n",
    "print('   Max length: {:,} tokens'.format(max(lengths)))\n",
    "print('Median length: {:,} tokens'.format(int(np.median(lengths))))"
   ]
  },
  {
   "cell_type": "code",
   "execution_count": null,
   "metadata": {
    "colab": {
     "base_uri": "https://localhost:8080/",
     "height": 719
    },
    "executionInfo": {
     "elapsed": 1217,
     "status": "ok",
     "timestamp": 1701037505292,
     "user": {
      "displayName": "pierre cesar",
      "userId": "06990152005228481993"
     },
     "user_tz": 300
    },
    "id": "PrpX7OsXOdtK",
    "outputId": "155b7010-5174-4bef-c85a-58aa20e439af"
   },
   "outputs": [],
   "source": [
    "import matplotlib.pyplot as plt\n",
    "import seaborn as sns\n",
    "\n",
    "sns.set(style='darkgrid')\n",
    "\n",
    "# Increase the plot size and font size.\n",
    "sns.set(font_scale=1.5)\n",
    "plt.rcParams[\"figure.figsize\"] = (10,5)\n",
    "\n",
    "# Plot the distribution of comment lengths.\n",
    "sns.distplot(lengths, kde=False, rug=False)\n",
    "\n",
    "plt.title('Sentence Lengths')\n",
    "plt.xlabel('Sentence Length')\n",
    "plt.ylabel('# of Sentences')"
   ]
  },
  {
   "cell_type": "markdown",
   "metadata": {
    "id": "HWgI5XZLOdtL"
   },
   "source": [
    "on remarque que les phrases sont majoritairement courtes mais pas toujours. afin de traiter cela nous fixons la longueure maximale à 150"
   ]
  },
  {
   "cell_type": "markdown",
   "metadata": {
    "id": "NY_CZagBffZS"
   },
   "source": [
    "### Tokenisation des jetons"
   ]
  },
  {
   "cell_type": "code",
   "execution_count": null,
   "metadata": {
    "colab": {
     "base_uri": "https://localhost:8080/"
    },
    "executionInfo": {
     "elapsed": 40934,
     "status": "ok",
     "timestamp": 1701054245222,
     "user": {
      "displayName": "pierre cesar",
      "userId": "06990152005228481993"
     },
     "user_tz": 300
    },
    "id": "GWALnDasOdtL",
    "outputId": "26fdd2dd-0b2a-40a7-8995-c1bb9d4b49e5"
   },
   "outputs": [],
   "source": [
    "def tokenize_from_model(tokenizer, sentences):\n",
    "    input_ids = []\n",
    "    attention_masks = []\n",
    "    sent_word_ids = []\n",
    "    # For every sentence...\n",
    "    for sent in sentences:\n",
    "\n",
    "        encoded_dict = tokenizer.encode_plus(\n",
    "                            sent,                  # Sentence to encode.\n",
    "                            add_special_tokens = True, # Add '[CLS]' and '[SEP]'\n",
    "                            truncation = True,\n",
    "                            max_length = 150,           # Pad & truncate all sentences.\n",
    "                            pad_to_max_length = True,\n",
    "                            return_attention_mask = True,   # Construct attn. masks.\n",
    "                            return_tensors = 'pt',     # Return pytorch tensors.\n",
    "                            return_offsets_mapping=True,\n",
    "                            is_split_into_words=True\n",
    "                            )\n",
    "        word_ids = encoded_dict.word_ids()\n",
    "        sent_word_ids.append(word_ids)\n",
    "        input_ids.append(encoded_dict['input_ids'][0])\n",
    "        attention_masks.append(encoded_dict['attention_mask'][0])\n",
    "    return input_ids, attention_masks, sent_word_ids\n",
    "\n",
    "input_ids_train, attention_masks_train, word_ids_train = tokenize_from_model(tokenizer, tokens_train)\n",
    "\n",
    "# Print sentence 0, now as a list of IDs.\n",
    "print('Original: ', tokens_train[4136])\n",
    "print('Token IDs:', input_ids_train[4136])\n",
    "print('Masks:', attention_masks_train[4136])\n",
    "print('word_ids:', word_ids_train[4136])"
   ]
  },
  {
   "cell_type": "code",
   "execution_count": null,
   "metadata": {
    "id": "cXOmfqEVOdtM"
   },
   "outputs": [],
   "source": [
    "import tqdm\n",
    "def get_new_labels(tokenizer, input_ids, word_ids_list, labels, label_map):\n",
    "    # Nouveaux labels et tables de transpositions pour les deux premiers\n",
    "    new_labels = []\n",
    "    transpose_bio= {\n",
    "        'B': 0,\n",
    "        'I': 1,\n",
    "        'O': 2,\n",
    "    }\n",
    "    transpose_prefix = {\n",
    "        'wd': 0,\n",
    "        'wdt': 1,\n",
    "        'ps': 2,\n",
    "        'pq': 3,\n",
    "        'no':4\n",
    "    }\n",
    "\n",
    "    # The special label ID we'll give to \"extra\" tokens.\n",
    "    null_label_id = -100\n",
    "    for  token_ids, word_ids, orig_labels in tqdm.tqdm(zip( input_ids, word_ids_list, labels)):\n",
    "\n",
    "        padded_labels = []\n",
    "\n",
    "        for n,(token_id, word_id) in enumerate(zip(token_ids, word_ids)):\n",
    "\n",
    "            if token_id in [tokenizer.pad_token_id, tokenizer.cls_token_id, tokenizer.sep_token_id] or (word_id is None):\n",
    "                padded_labels.append([-1,-1, null_label_id])\n",
    "            else:\n",
    "                label_tuple = orig_labels[word_id]\n",
    "                if n >= 0 and word_ids[n-1] == word_id : #c'est le meme mot mais splitté par la tokenization\n",
    "                    label_id = null_label_id\n",
    "                    bio_id = -1\n",
    "                    prefix_id = -1\n",
    "                    lab = [bio_id, prefix_id, label_id]\n",
    "                else :\n",
    "                    label_id = label_map.get(label_tuple[2], null_label_id)\n",
    "                    begin_inside_out = label_tuple[0]\n",
    "                    type = label_tuple[1]\n",
    "\n",
    "                    bio_id = transpose_bio.get(begin_inside_out, -1)\n",
    "                    prefix_id = transpose_prefix.get(type, -1)\n",
    "                    if prefix_id == -1 :\n",
    "                        prefix_id = transpose_prefix.get('no', -1)\n",
    "\n",
    "                    lab = [bio_id, prefix_id, label_id]\n",
    "\n",
    "                padded_labels.append(lab)\n",
    "        new_labels.append(padded_labels)\n",
    "\n",
    "    return new_labels"
   ]
  },
  {
   "cell_type": "code",
   "execution_count": null,
   "metadata": {
    "colab": {
     "base_uri": "https://localhost:8080/"
    },
    "executionInfo": {
     "elapsed": 138534,
     "status": "ok",
     "timestamp": 1701054383735,
     "user": {
      "displayName": "pierre cesar",
      "userId": "06990152005228481993"
     },
     "user_tz": 300
    },
    "id": "qm5vlrP6OdtM",
    "outputId": "917bc13e-eb0f-4024-f3e8-b614be11b03c"
   },
   "outputs": [
    {
     "name": "stderr",
     "output_type": "stream",
     "text": [
      "60886it [02:17, 441.68it/s]\n"
     ]
    }
   ],
   "source": [
    "#on récupere les nouveaux labels apres tokenisation\n",
    "new_train_labels = get_new_labels(tokenizer, input_ids_train, word_ids_train, labels_train_transformed, new_label_map)\n"
   ]
  },
  {
   "cell_type": "code",
   "execution_count": null,
   "metadata": {
    "id": "9dWJmhXeudQz"
   },
   "outputs": [],
   "source": [
    "#assert labels are the same length as input_ids\n",
    "for i in range(len(input_ids_train)):\n",
    "    assert len(input_ids_train[i]) == len(new_train_labels[i])\n",
    "    #assert each label is a triplet\n",
    "    for j in range(len(new_train_labels[i])):\n",
    "        assert len(new_train_labels[i][j]) == 3\n"
   ]
  },
  {
   "cell_type": "code",
   "execution_count": null,
   "metadata": {
    "colab": {
     "base_uri": "https://localhost:8080/"
    },
    "executionInfo": {
     "elapsed": 95,
     "status": "ok",
     "timestamp": 1701054385696,
     "user": {
      "displayName": "pierre cesar",
      "userId": "06990152005228481993"
     },
     "user_tz": 300
    },
    "id": "7FuQjok0OdtM",
    "outputId": "a4129a67-8ad2-4ed5-8a1d-efd9145859ed"
   },
   "outputs": [],
   "source": [
    "print('\\nSentence:    ', tokens_train[4136])\n",
    "print('\\nLabels:      ', labels_train[4136])\n",
    "print('\\nBERT Tokens: ', tokenizer.tokenize(' '.join(tokens_train[4136])))\n",
    "print('\\nWord ID List ', word_ids_train[4136])\n",
    "print('\\nToken IDs:   ', input_ids_train[4136])\n",
    "print('\\nNew Labels:  ', new_train_labels[4136])\n",
    "print('\\nMask:        ', attention_masks_train[4136])"
   ]
  },
  {
   "cell_type": "code",
   "execution_count": null,
   "metadata": {
    "colab": {
     "base_uri": "https://localhost:8080/"
    },
    "executionInfo": {
     "elapsed": 7345,
     "status": "ok",
     "timestamp": 1701054393026,
     "user": {
      "displayName": "pierre cesar",
      "userId": "06990152005228481993"
     },
     "user_tz": 300
    },
    "id": "swwPe4-N0OT5",
    "outputId": "4d8ab2ce-b97f-4c63-bd5e-3902c298babb"
   },
   "outputs": [
    {
     "name": "stderr",
     "output_type": "stream",
     "text": [
      "2183it [00:05, 386.41it/s]"
     ]
    },
    {
     "name": "stdout",
     "output_type": "stream",
     "text": [
      "[[-1, -1, -100], [2, 4, -100], [2, 4, -100], [2, 4, -100], [2, 4, -100], [2, 4, -100], [0, 0, 15139], [1, 0, 15139], [2, 4, -100], [0, 1, 23309], [1, 1, 23309], [1, 1, 23309], [2, 4, -100], [0, 0, 22296], [-1, -1, -100], [-1, -1, -100], [-1, -1, -100], [-1, -1, -100], [-1, -1, -100], [-1, -1, -100], [-1, -1, -100], [-1, -1, -100], [-1, -1, -100], [-1, -1, -100], [-1, -1, -100], [-1, -1, -100], [-1, -1, -100], [-1, -1, -100], [-1, -1, -100], [-1, -1, -100], [-1, -1, -100], [-1, -1, -100], [-1, -1, -100], [-1, -1, -100], [-1, -1, -100], [-1, -1, -100], [-1, -1, -100], [-1, -1, -100], [-1, -1, -100], [-1, -1, -100], [-1, -1, -100], [-1, -1, -100], [-1, -1, -100], [-1, -1, -100], [-1, -1, -100], [-1, -1, -100], [-1, -1, -100], [-1, -1, -100], [-1, -1, -100], [-1, -1, -100], [-1, -1, -100], [-1, -1, -100], [-1, -1, -100], [-1, -1, -100], [-1, -1, -100], [-1, -1, -100], [-1, -1, -100], [-1, -1, -100], [-1, -1, -100], [-1, -1, -100], [-1, -1, -100], [-1, -1, -100], [-1, -1, -100], [-1, -1, -100], [-1, -1, -100], [-1, -1, -100], [-1, -1, -100], [-1, -1, -100], [-1, -1, -100], [-1, -1, -100], [-1, -1, -100], [-1, -1, -100], [-1, -1, -100], [-1, -1, -100], [-1, -1, -100], [-1, -1, -100], [-1, -1, -100], [-1, -1, -100], [-1, -1, -100], [-1, -1, -100], [-1, -1, -100], [-1, -1, -100], [-1, -1, -100], [-1, -1, -100], [-1, -1, -100], [-1, -1, -100], [-1, -1, -100], [-1, -1, -100], [-1, -1, -100], [-1, -1, -100], [-1, -1, -100], [-1, -1, -100], [-1, -1, -100], [-1, -1, -100], [-1, -1, -100], [-1, -1, -100], [-1, -1, -100], [-1, -1, -100], [-1, -1, -100], [-1, -1, -100], [-1, -1, -100], [-1, -1, -100], [-1, -1, -100], [-1, -1, -100], [-1, -1, -100], [-1, -1, -100], [-1, -1, -100], [-1, -1, -100], [-1, -1, -100], [-1, -1, -100], [-1, -1, -100], [-1, -1, -100], [-1, -1, -100], [-1, -1, -100], [-1, -1, -100], [-1, -1, -100], [-1, -1, -100], [-1, -1, -100], [-1, -1, -100], [-1, -1, -100], [-1, -1, -100], [-1, -1, -100], [-1, -1, -100], [-1, -1, -100], [-1, -1, -100], [-1, -1, -100], [-1, -1, -100], [-1, -1, -100], [-1, -1, -100], [-1, -1, -100], [-1, -1, -100], [-1, -1, -100], [-1, -1, -100], [-1, -1, -100], [-1, -1, -100], [-1, -1, -100], [-1, -1, -100], [-1, -1, -100], [-1, -1, -100], [-1, -1, -100], [-1, -1, -100], [-1, -1, -100], [-1, -1, -100], [-1, -1, -100], [-1, -1, -100], [-1, -1, -100], [-1, -1, -100], [-1, -1, -100], [-1, -1, -100], [-1, -1, -100]]\n"
     ]
    },
    {
     "name": "stderr",
     "output_type": "stream",
     "text": [
      "\n"
     ]
    }
   ],
   "source": [
    "tokens_validation, labels_validation,raw_validation = preprocess(data_validation)\n",
    "input_ids_val, attention_masks_val, word_ids_val = tokenize_from_model(tokenizer, tokens_validation)\n",
    "new_labels_validation = transform_labels_to_triplet(labels_validation)\n",
    "new_val_labels = get_new_labels(tokenizer, input_ids_val, word_ids_val, new_labels_validation, new_label_map)\n",
    "print(new_val_labels[0])"
   ]
  },
  {
   "cell_type": "markdown",
   "metadata": {
    "id": "J8VP9BfxudQz"
   },
   "source": [
    "### Création d'un modele de classification custom pour gerer cette triple classification"
   ]
  },
  {
   "cell_type": "code",
   "execution_count": null,
   "metadata": {
    "id": "eMnazKh8udQ0"
   },
   "outputs": [],
   "source": [
    "import torch\n",
    "from torch import nn\n",
    "from torch.nn import CrossEntropyLoss\n",
    "from transformers import BertPreTrainedModel, BertModel\n",
    "from transformers.modeling_outputs import TokenClassifierOutput\n",
    "from typing import Optional, Union, Tuple\n",
    "class CustomBertForTokenClassification(BertPreTrainedModel):\n",
    "    def __init__(self, config, num_labels_prefix, num_labels_wikidata, num_labels_BIO):\n",
    "        super().__init__(config)\n",
    "        self.num_BIO = num_labels_BIO\n",
    "        self.num_prefix = num_labels_prefix\n",
    "        self.num_wikidata_label = num_labels_wikidata\n",
    "\n",
    "        self.bert = BertModel(config, add_pooling_layer=False)\n",
    "        classifier_dropout = (\n",
    "            config.classifier_dropout if config.classifier_dropout is not None else config.hidden_dropout_prob\n",
    "        )\n",
    "        self.dropout = nn.Dropout(classifier_dropout)\n",
    "\n",
    "        # Couche linéaire commune en amont\n",
    "        self.common_layer = nn.Linear(config.hidden_size, config.hidden_size)\n",
    "        # Fonction d'activation ReLU\n",
    "        self.relu = nn.ReLU()\n",
    "        # Couches de classification spécifiques\n",
    "        self.classifier_BIO = nn.Linear(config.hidden_size, self.num_BIO)\n",
    "        self.classifier_prefix = nn.Linear(config.hidden_size, self.num_prefix)\n",
    "        self.classifier_wikidata_label = nn.Linear(config.hidden_size, self.num_wikidata_label)\n",
    "\n",
    "        self.post_init()\n",
    "\n",
    "    def forward(\n",
    "        self,\n",
    "        input_ids: Optional[torch.Tensor] = None,\n",
    "        attention_mask: Optional[torch.Tensor] = None,\n",
    "        token_type_ids: Optional[torch.Tensor] = None,\n",
    "        position_ids: Optional[torch.Tensor] = None,\n",
    "        head_mask: Optional[torch.Tensor] = None,\n",
    "        inputs_embeds: Optional[torch.Tensor] = None,\n",
    "        labels: Optional[torch.Tensor] = None,\n",
    "        output_attentions: Optional[bool] = None,\n",
    "        output_hidden_states: Optional[bool] = None,\n",
    "        return_dict: Optional[bool] = None,\n",
    "    ) :\n",
    "        return_dict = return_dict if return_dict is not None else self.config.use_return_dict\n",
    "\n",
    "        outputs = self.bert(\n",
    "            input_ids,\n",
    "            attention_mask=attention_mask,\n",
    "            token_type_ids=token_type_ids,\n",
    "            position_ids=position_ids,\n",
    "            head_mask=head_mask,\n",
    "            inputs_embeds=inputs_embeds,\n",
    "            output_attentions=output_attentions,\n",
    "            output_hidden_states=output_hidden_states,\n",
    "            return_dict=return_dict,\n",
    "        )\n",
    "\n",
    "        sequence_output = outputs[0]\n",
    "\n",
    "        sequence_output = self.dropout(sequence_output)\n",
    "        common_output = self.relu(self.common_layer(sequence_output))\n",
    "        #on récupere les logits de chaque couche de classification\n",
    "        logits = self.classifier_BIO(common_output)\n",
    "        logits_dim2 = self.classifier_prefix(common_output)\n",
    "        logits_dim3 = self.classifier_wikidata_label(common_output)\n",
    "\n",
    "        loss = None\n",
    "        if labels is not None:\n",
    "\n",
    "            loss_fct_BIO = CrossEntropyLoss(ignore_index=-1)\n",
    "            loss_fct_prefix = CrossEntropyLoss(ignore_index=-1)\n",
    "            loss_fct_wikidata = CrossEntropyLoss(ignore_index=-100)\n",
    "\n",
    "            # On somme les loss de chaque classifieur\n",
    "            loss = loss_fct_BIO(logits.view(-1, self.num_BIO), labels[:, :, 0].view(-1))\n",
    "            loss += loss_fct_prefix(logits_dim2.view(-1, self.num_prefix), labels[:, :, 1].view(-1))\n",
    "            loss += loss_fct_wikidata(logits_dim3.view(-1, self.num_wikidata_label), labels[:, :, 2].view(-1))\n",
    "\n",
    "        if not return_dict:\n",
    "            output = (logits, logits_dim2, logits_dim3) + outputs[2:]\n",
    "            return ((loss,) + output) if loss is not None else output\n",
    "\n",
    "        return TokenClassifierOutput(\n",
    "            loss=loss,\n",
    "            logits=(logits, logits_dim2, logits_dim3),\n",
    "            hidden_states=outputs.hidden_states,\n",
    "            attentions=outputs.attentions,\n",
    "        )"
   ]
  },
  {
   "cell_type": "code",
   "execution_count": null,
   "metadata": {
    "id": "PiLKZuF6OdtN"
   },
   "outputs": [],
   "source": [
    "#creation des tenseurs d'entrainement et de validation\n",
    "pt_input_ids = torch.stack(input_ids_train, dim=0)\n",
    "pt_input_ids_val = torch.stack(input_ids_val, dim=0)\n",
    "\n",
    "pt_attention_masks = torch.stack(attention_masks_train, dim=0)\n",
    "pt_attention_masks_val = torch.stack(attention_masks_val,dim=0)\n",
    "\n",
    "pt_labels = torch.tensor(new_train_labels, dtype=torch.long)\n",
    "pt_labels_val = torch.tensor(new_val_labels, dtype=torch.long)"
   ]
  },
  {
   "cell_type": "markdown",
   "metadata": {
    "id": "0_G7gveJglNB"
   },
   "source": [
    "#### Création des datasets d'entrainement"
   ]
  },
  {
   "cell_type": "code",
   "execution_count": null,
   "metadata": {
    "colab": {
     "base_uri": "https://localhost:8080/"
    },
    "executionInfo": {
     "elapsed": 439,
     "status": "ok",
     "timestamp": 1701054397109,
     "user": {
      "displayName": "pierre cesar",
      "userId": "06990152005228481993"
     },
     "user_tz": 300
    },
    "id": "wQBJvW4hOdtN",
    "outputId": "b0e497b9-75e0-4d3e-aa32-1fb7c3a95dc6"
   },
   "outputs": [
    {
     "name": "stdout",
     "output_type": "stream",
     "text": [
      "60,886 training samples\n",
      "2,183 validation samples\n"
     ]
    }
   ],
   "source": [
    "from torch.utils.data import TensorDataset, random_split\n",
    "\n",
    "\n",
    "# Création du dataset d'entrainement\n",
    "dataset_train = TensorDataset(pt_input_ids, pt_attention_masks, pt_labels)\n",
    "dataset_val_tr = TensorDataset(pt_input_ids_val,pt_attention_masks_val, pt_labels_val)\n",
    "# Create a 90-10 train-validation split.\n",
    "\n",
    "print('{:>5,} training samples'.format(len(dataset_train)))\n",
    "print('{:>5,} validation samples'.format(len(dataset_val_tr)))"
   ]
  },
  {
   "cell_type": "code",
   "execution_count": null,
   "metadata": {
    "id": "B331mPZSOdtN"
   },
   "outputs": [],
   "source": [
    "from torch.utils.data import DataLoader, RandomSampler, SequentialSampler\n",
    "\n",
    "batch_size = 32\n",
    "train_dataloader = DataLoader(\n",
    "            dataset_train,  # The training samples.\n",
    "            sampler = RandomSampler(dataset_train), # Select batches randomly\n",
    "            batch_size = batch_size # Trains with this batch size.\n",
    "        )\n",
    "validation_dataloader_tr = DataLoader(\n",
    "            dataset_val_tr,\n",
    "            batch_size = batch_size# Evaluate with this batch size.\n",
    "        )"
   ]
  },
  {
   "cell_type": "code",
   "execution_count": null,
   "metadata": {
    "colab": {
     "base_uri": "https://localhost:8080/"
    },
    "executionInfo": {
     "elapsed": 41,
     "status": "ok",
     "timestamp": 1701037979040,
     "user": {
      "displayName": "pierre cesar",
      "userId": "06990152005228481993"
     },
     "user_tz": 300
    },
    "id": "kx_DGrS6OdtN",
    "outputId": "460ad7d7-fcce-40c2-9823-837d329386ff"
   },
   "outputs": [
    {
     "data": {
      "text/plain": [
       "23613"
      ]
     },
     "execution_count": 53,
     "metadata": {},
     "output_type": "execute_result"
    }
   ],
   "source": [
    "len(new_label_map)"
   ]
  },
  {
   "cell_type": "code",
   "execution_count": null,
   "metadata": {
    "colab": {
     "base_uri": "https://localhost:8080/"
    },
    "executionInfo": {
     "elapsed": 1801,
     "status": "ok",
     "timestamp": 1701037980824,
     "user": {
      "displayName": "pierre cesar",
      "userId": "06990152005228481993"
     },
     "user_tz": 300
    },
    "id": "H4jyp5dfOdtN",
    "outputId": "aa0182a5-479f-4163-8b88-fa9cad91d415"
   },
   "outputs": [],
   "source": [
    "from transformers import BertForTokenClassification, AdamW, BertConfig\n",
    "\n",
    "#Creation du modele custom\n",
    "model = CustomBertForTokenClassification.from_pretrained(\n",
    "    \"bert-base-uncased\",\n",
    "    num_labels_prefix = 4+1,\n",
    "    num_labels_wikidata = len(new_label_map)+1,\n",
    "    num_labels_BIO = 3+1,\n",
    "    output_attentions = False,\n",
    "    output_hidden_states = False,\n",
    ")\n",
    "\n",
    "model.cuda()\n"
   ]
  },
  {
   "cell_type": "code",
   "execution_count": null,
   "metadata": {
    "colab": {
     "base_uri": "https://localhost:8080/"
    },
    "executionInfo": {
     "elapsed": 60,
     "status": "ok",
     "timestamp": 1701037980824,
     "user": {
      "displayName": "pierre cesar",
      "userId": "06990152005228481993"
     },
     "user_tz": 300
    },
    "id": "jEE3-lndOdtN",
    "outputId": "ce2513ea-7fbe-47fe-f9c1-d46ac019aab7"
   },
   "outputs": [
    {
     "name": "stderr",
     "output_type": "stream",
     "text": [
      "/usr/local/lib/python3.10/dist-packages/transformers/optimization.py:411: FutureWarning: This implementation of AdamW is deprecated and will be removed in a future version. Use the PyTorch implementation torch.optim.AdamW instead, or set `no_deprecation_warning=True` to disable this warning\n",
      "  warnings.warn(\n"
     ]
    }
   ],
   "source": [
    "# Load the AdamW optimizer\n",
    "optimizer = AdamW(model.parameters(),\n",
    "                  lr = 5e-5, # args.learning_rate\n",
    "                  eps = 1e-8 # args.adam_epsilon\n",
    "                )"
   ]
  },
  {
   "cell_type": "code",
   "execution_count": null,
   "metadata": {
    "id": "CqxKQ8mkOdtN"
   },
   "outputs": [],
   "source": [
    "from transformers import get_linear_schedule_with_warmup\n",
    "\n",
    "epochs = 10\n",
    "\n",
    "total_steps = len(train_dataloader) * epochs\n",
    "\n",
    "scheduler = get_linear_schedule_with_warmup(optimizer,\n",
    "                                            num_warmup_steps = 0,\n",
    "                                            num_training_steps = total_steps)"
   ]
  },
  {
   "cell_type": "code",
   "execution_count": null,
   "metadata": {
    "id": "I3ni_V-QOdtN"
   },
   "outputs": [],
   "source": [
    "import time\n",
    "import numpy as np\n",
    "import datetime\n",
    "\n",
    "def format_time(elapsed):\n",
    "    '''\n",
    "    Takes a time in seconds and returns a string hh:mm:ss\n",
    "    '''\n",
    "    # Round to the nearest second.\n",
    "    elapsed_rounded = int(round((elapsed)))\n",
    "\n",
    "    # Format as hh:mm:ss\n",
    "    return str(datetime.timedelta(seconds=elapsed_rounded))"
   ]
  },
  {
   "cell_type": "code",
   "execution_count": null,
   "metadata": {
    "id": "Onp4MS0q_3Bu"
   },
   "outputs": [],
   "source": [
    "device = torch.device(\"cuda\")"
   ]
  },
  {
   "cell_type": "markdown",
   "metadata": {
    "id": "8xHoPnf6gzeK"
   },
   "source": [
    "### Creation de fonctions d'évaluation du modèle pendant son entrainement"
   ]
  },
  {
   "cell_type": "code",
   "execution_count": null,
   "metadata": {
    "id": "WgCWTloo_3Bu"
   },
   "outputs": [],
   "source": [
    "from sklearn.metrics import f1_score\n",
    "def get_label_list_from_predict(predict_labels, word_ids_list, label_map : dict):\n",
    "    # inverse le triplet de labels encodé en classe wikidata\n",
    "    predict_labels_formated = []\n",
    "    transpose_bio_inv= {\n",
    "        0: 'B',\n",
    "        1: 'I',\n",
    "        2: 'O',\n",
    "    }\n",
    "    transpose_prefix_inv = {\n",
    "        0: 'wd',\n",
    "        1: 'wdt',\n",
    "        2: 'ps',\n",
    "        3: 'pq',\n",
    "        4: 'no'\n",
    "    }\n",
    "    def transform_triplet_to_label(triplet):\n",
    "        if triplet[0] == None  or triplet[0] == 'O':\n",
    "            return 'O'\n",
    "        else :\n",
    "            if triplet[1] == None or triplet[1] == 'no':\n",
    "                return triplet[0] + '-' + triplet[2]\n",
    "            return triplet[0] + '-' + triplet[1] + ':' + triplet[2]\n",
    "\n",
    "    label_map_inv = {v: k for k, v in label_map.items()}\n",
    "    for  word_ids, orig_labels in zip( word_ids_list, predict_labels):\n",
    "\n",
    "        # Create a new list to hold the adjusted labels for this sentence.\n",
    "        padded_labels = []\n",
    "        for n,(word_id, label) in enumerate(zip(word_ids, orig_labels)):\n",
    "            if word_id != None :\n",
    "                label_bio = transpose_bio_inv.get(label[0], None)\n",
    "                label_prefix = transpose_prefix_inv.get(label[1], None)\n",
    "                label_str = label_map_inv.get(label[2], None)\n",
    "                final_label = transform_triplet_to_label([label_bio, label_prefix, label_str])\n",
    "                if n>=0 and word_ids[n-1] == word_id:\n",
    "                    continue\n",
    "                else :\n",
    "                    padded_labels.append(final_label)\n",
    "            else :\n",
    "                continue\n",
    "\n",
    "        predict_labels_formated.append(padded_labels)\n",
    "\n",
    "    return predict_labels_formated\n",
    "\n",
    "def compute_metrics(labels : np.array, preds : np.array, count_O=False):\n",
    "    #calcul le f1_score et la moyenne entre deux array de labels\n",
    "    assert len(preds) == len(labels)\n",
    "    for pred, label in zip(preds, labels):\n",
    "        assert len(pred) == len(label)\n",
    "    #flatten labels and preds with numpy methode\n",
    "    labels = np.concatenate(labels)\n",
    "    preds = np.concatenate(preds)\n",
    "    #remove all O labels\n",
    "    mask_O = labels != 'O'\n",
    "\n",
    "    if count_O :\n",
    "        accuracy = (preds == labels).mean()\n",
    "        f1 = f1_score(labels, preds, average=\"macro\")\n",
    "    else :\n",
    "        accuracy = (preds[mask_O] == labels[mask_O]).mean()\n",
    "        f1 = f1_score(labels[mask_O], preds[mask_O], average=\"macro\")\n",
    "    return accuracy, f1\n",
    "\n",
    "def get_evaluation_metrics(model, val_dataloader,word_ids_list, label_map : dict, labels_true) :\n",
    "    #renvoie toutes les métrics d'un modèle\n",
    "    model.eval()\n",
    "    total_loss = 0\n",
    "    predict_labels = []\n",
    "    with torch.no_grad() :\n",
    "        for step, batch in enumerate(val_dataloader) :\n",
    "            b_input_ids = batch[0].to(device)\n",
    "            b_input_mask = batch[1].to(device)\n",
    "            b_labels = batch[2].to(device)\n",
    "            result = model(b_input_ids,\n",
    "                        token_type_ids=None,\n",
    "                        attention_mask=b_input_mask,\n",
    "                        labels=b_labels)\n",
    "            logits_BIO,logits_prefix,logits_label = result.logits\n",
    "            logits_BIO = logits_BIO.detach().cpu().numpy()\n",
    "            logits_prefix = logits_prefix.detach().cpu().numpy()\n",
    "            logits_label = logits_label.detach().cpu().numpy()\n",
    "\n",
    "            labels_BIO = np.argmax(logits_BIO, axis=2)\n",
    "            labels_prefix = np.argmax(logits_prefix, axis=2)\n",
    "            labels_label = np.argmax(logits_label, axis=2)\n",
    "            #concatenate the 3 dimensions\n",
    "            predict_labels.append(np.stack([labels_BIO, labels_prefix, labels_label], axis=-1))\n",
    "            loss = result.loss\n",
    "            total_loss += loss.item()\n",
    "    predict_labels = np.concatenate(predict_labels)\n",
    "    formated_predict_labels = get_label_list_from_predict(predict_labels, word_ids_list, label_map)\n",
    "    accuracy, f1 = compute_metrics(labels_true, formated_predict_labels)\n",
    "    avg_loss = total_loss / len(val_dataloader)\n",
    "    return avg_loss, accuracy, f1\n"
   ]
  },
  {
   "cell_type": "markdown",
   "metadata": {
    "id": "PTSuVpe1o_DY"
   },
   "source": [
    "### Boucle d'entrainement"
   ]
  },
  {
   "cell_type": "code",
   "execution_count": null,
   "metadata": {
    "colab": {
     "base_uri": "https://localhost:8080/"
    },
    "executionInfo": {
     "elapsed": 7428373,
     "status": "ok",
     "timestamp": 1701045409180,
     "user": {
      "displayName": "pierre cesar",
      "userId": "06990152005228481993"
     },
     "user_tz": 300
    },
    "id": "ULeDkH9bOdtO",
    "outputId": "66c0b178-5f02-4562-e4c4-60e47beff07d"
   },
   "outputs": [],
   "source": [
    "import random\n",
    "\n",
    "seed_val = 42\n",
    "\n",
    "random.seed(seed_val)\n",
    "np.random.seed(seed_val)\n",
    "torch.manual_seed(seed_val)\n",
    "torch.cuda.manual_seed_all(seed_val)\n",
    "\n",
    "# Store the average loss after each epoch so we can plot them.\n",
    "loss_values = []\n",
    "loss_values_val = []\n",
    "accuracy_values_val = []\n",
    "f1_score_values_val = []\n",
    "for epoch_i in range(0, epochs):\n",
    "\n",
    "    print(\"\")\n",
    "    print('======== Epoch {:} / {:} ========'.format(epoch_i + 1, epochs))\n",
    "    print('Training...')\n",
    "\n",
    "    # Measure how long the training epoch takes.\n",
    "    t0 = time.time()\n",
    "\n",
    "    # Reset the total loss for this epoch.\n",
    "    total_loss = 0\n",
    "    model.train()\n",
    "\n",
    "    # For each batch of training data...\n",
    "    for step, batch in enumerate(train_dataloader):\n",
    "\n",
    "        # Progress update every 40 batches.\n",
    "        if step % 40 == 0 and not step == 0:\n",
    "            # Calculate elapsed time in minutes.\n",
    "            elapsed = format_time(time.time() - t0)\n",
    "\n",
    "            # Report progress.\n",
    "            print('  Batch {:>5,}  of  {:>5,}.    Elapsed: {:}., loss {}'.format(step, len(train_dataloader), elapsed, total_loss / (step+1)))\n",
    "\n",
    "\n",
    "        b_input_ids = batch[0].to(device)\n",
    "        b_input_mask = batch[1].to(device)\n",
    "        b_labels = batch[2].to(device)\n",
    "        model.zero_grad()\n",
    "        result = model(b_input_ids,\n",
    "                    token_type_ids=None,\n",
    "                    attention_mask=b_input_mask,\n",
    "                    labels=b_labels)\n",
    "\n",
    "        loss = result.loss\n",
    "        total_loss += loss.item()\n",
    "        loss.backward()\n",
    "        torch.nn.utils.clip_grad_norm_(model.parameters(), 1.0)\n",
    "        optimizer.step()\n",
    "        scheduler.step()\n",
    "\n",
    "    #evaluation à la fin de chaque epoch\n",
    "    avg_train_loss = total_loss / len(train_dataloader)\n",
    "    print(\"average training loss : \", avg_train_loss)\n",
    "\n",
    "    # Calculate the average loss over the training data.\n",
    "    avg_train_loss = total_loss / len(train_dataloader)\n",
    "\n",
    "    avg_loss = get_evaluation_metrics(model, validation_dataloader_tr, word_ids_val, new_label_map, labels_validation)\n",
    "    loss_values_val.append(avg_loss[0])\n",
    "    accuracy_values_val.append(avg_loss[1])\n",
    "    f1_score_values_val.append(avg_loss[2])\n",
    "\n",
    "\n",
    "    # Store the loss value for plotting the learning curve.\n",
    "    loss_values.append(avg_train_loss)\n",
    "\n",
    "    print(\"\")\n",
    "    print(\"  Average training loss: {0:.2f}\".format(avg_train_loss))\n",
    "    print(\" Validation loss: {0:.2f}\".format(avg_loss[0]))\n",
    "    print(\" Validation Accuracy: {0:.2f}\".format(avg_loss[1]))\n",
    "    print(\" Validation F1 score: {0:.2f}\".format(avg_loss[2]))\n",
    "    print(\"  Training epcoh took: {:}\".format(format_time(time.time() - t0)))\n",
    "\n",
    "\n",
    "print(\"\")\n",
    "print(\"Training complete!\")"
   ]
  },
  {
   "cell_type": "code",
   "execution_count": null,
   "metadata": {
    "id": "YJ-y1Q6NOdtO"
   },
   "outputs": [],
   "source": [
    "#sauvegarde des modèles\n",
    "torch.save(model, root+'my_model_custom_batch.pth')\n",
    "\n",
    "torch.save(model.state_dict(), root+'my_model_custom_batch.pth')\n",
    "tokenizer.save_pretrained(root+'my_tokenizer_custom_batch')\n",
    "import json\n",
    "\n",
    "\n",
    "with open(root+'labels.json', 'w') as f:\n",
    "    json.dump(new_label_map, f)"
   ]
  },
  {
   "cell_type": "markdown",
   "metadata": {
    "id": "GOPMaWZqhYX4"
   },
   "source": [
    "### Affichage des performances"
   ]
  },
  {
   "cell_type": "code",
   "execution_count": null,
   "metadata": {
    "colab": {
     "base_uri": "https://localhost:8080/",
     "height": 515
    },
    "executionInfo": {
     "elapsed": 74,
     "status": "ok",
     "timestamp": 1701045426325,
     "user": {
      "displayName": "pierre cesar",
      "userId": "06990152005228481993"
     },
     "user_tz": 300
    },
    "id": "K01NimgB_3Bv",
    "outputId": "6142fdbe-ecc5-4dfb-907c-576ece068cfd"
   },
   "outputs": [
    {
     "data": {
      "image/png": "[encoded data removed]",
      "text/plain": [
       "<Figure size 1000x500 with 1 Axes>"
      ]
     },
     "metadata": {},
     "output_type": "display_data"
    }
   ],
   "source": [
    "#plot loss\n",
    "import matplotlib.pyplot as plt\n",
    "\n",
    "plt.plot(loss_values, 'b-o')\n",
    "plt.plot(loss_values_val, 'r-o')\n",
    "plt.title(\"Training loss\")\n",
    "plt.xlabel(\"Epoch\")\n",
    "plt.ylabel(\"Loss\")\n",
    "plt.show()"
   ]
  },
  {
   "cell_type": "code",
   "execution_count": null,
   "metadata": {
    "colab": {
     "base_uri": "https://localhost:8080/",
     "height": 515
    },
    "executionInfo": {
     "elapsed": 723,
     "status": "ok",
     "timestamp": 1701045427032,
     "user": {
      "displayName": "pierre cesar",
      "userId": "06990152005228481993"
     },
     "user_tz": 300
    },
    "id": "PNkKSBip_3Bv",
    "outputId": "1f799eca-f17a-4f59-d13d-1674300021a2"
   },
   "outputs": [
    {
     "data": {
      "image/png": "[encoded data removed]",
      "text/plain": [
       "<Figure size 1000x500 with 1 Axes>"
      ]
     },
     "metadata": {},
     "output_type": "display_data"
    }
   ],
   "source": [
    "#plot accuracy and f1 evolution\n",
    "plt.plot(accuracy_values_val, 'b-o')\n",
    "plt.plot(f1_score_values_val, 'r-o')\n",
    "plt.title(\"Validation Accuracy and F1 score\")\n",
    "plt.xlabel(\"Epoch\")\n",
    "plt.ylabel(\"Accuracy\")\n",
    "plt.show()"
   ]
  },
  {
   "cell_type": "markdown",
   "metadata": {
    "id": "hxr-92UyTGbo"
   },
   "source": [
    "### Réentrainement sur quelques epochs avec un batch size plus petit"
   ]
  },
  {
   "cell_type": "code",
   "execution_count": null,
   "metadata": {
    "id": "-xn9M3vDTGI4"
   },
   "outputs": [],
   "source": [
    "\n",
    "batch_size = 16\n",
    "epochs = 4\n",
    "\n",
    "train_dataloader_2 = DataLoader(\n",
    "            dataset_train,  # The training samples.\n",
    "            sampler = RandomSampler(dataset_train), # Select batches randomly\n",
    "            batch_size = batch_size # Trains with this batch size.\n",
    "        )\n",
    "validation_dataloader_tr_2 = DataLoader(\n",
    "            dataset_val_tr,\n",
    "            batch_size = batch_size# Evaluate with this batch size.\n",
    "        )\n"
   ]
  },
  {
   "cell_type": "code",
   "execution_count": null,
   "metadata": {
    "colab": {
     "background_save": true,
     "base_uri": "https://localhost:8080/"
    },
    "executionInfo": {
     "elapsed": 1135392,
     "status": "ok",
     "timestamp": 1701056948336,
     "user": {
      "displayName": "pierre cesar",
      "userId": "06990152005228481993"
     },
     "user_tz": 300
    },
    "id": "CEtgz439TvFm",
    "outputId": "5974b8bf-ad5d-46e6-8754-83aea60014d0"
   },
   "outputs": [
    {
     "name": "stdout",
     "output_type": "stream",
     "text": [
      "\n",
      "======== Epoch 1 / 4 ========\n",
      "Training...\n",
      "  Batch   120  of  3,806.    Elapsed: 0:00:19., loss 0.2672050897087825\n",
      "  Batch   240  of  3,806.    Elapsed: 0:00:38., loss 0.27939633762751825\n",
      "  Batch   360  of  3,806.    Elapsed: 0:00:58., loss 0.2736718207781546\n",
      "  Batch   480  of  3,806.    Elapsed: 0:01:22., loss 0.2749504868830351\n",
      "  Batch   600  of  3,806.    Elapsed: 0:01:42., loss 0.27890974229465887\n",
      "  Batch   720  of  3,806.    Elapsed: 0:02:01., loss 0.2734254319377401\n",
      "  Batch   840  of  3,806.    Elapsed: 0:02:20., loss 0.27075868137261094\n",
      "  Batch   960  of  3,806.    Elapsed: 0:02:39., loss 0.26599199805492546\n",
      "  Batch 1,080  of  3,806.    Elapsed: 0:02:58., loss 0.2622246133482556\n",
      "  Batch 1,200  of  3,806.    Elapsed: 0:03:17., loss 0.26207313492842216\n",
      "  Batch 1,320  of  3,806.    Elapsed: 0:03:36., loss 0.26039976272312537\n",
      "  Batch 1,440  of  3,806.    Elapsed: 0:03:55., loss 0.2576634378143697\n",
      "  Batch 1,560  of  3,806.    Elapsed: 0:04:14., loss 0.25552862826129213\n",
      "  Batch 1,680  of  3,806.    Elapsed: 0:04:33., loss 0.2532299115284579\n",
      "  Batch 1,800  of  3,806.    Elapsed: 0:04:52., loss 0.252565762225765\n",
      "  Batch 1,920  of  3,806.    Elapsed: 0:05:11., loss 0.25116391659991594\n",
      "  Batch 2,040  of  3,806.    Elapsed: 0:05:30., loss 0.2508229963917884\n",
      "  Batch 2,160  of  3,806.    Elapsed: 0:05:49., loss 0.2512730827119998\n",
      "  Batch 2,280  of  3,806.    Elapsed: 0:06:08., loss 0.2510302034160755\n",
      "  Batch 2,400  of  3,806.    Elapsed: 0:06:27., loss 0.2503828161533981\n",
      "  Batch 2,520  of  3,806.    Elapsed: 0:06:46., loss 0.24986242121135396\n",
      "  Batch 2,640  of  3,806.    Elapsed: 0:07:05., loss 0.2504890896255642\n",
      "  Batch 2,760  of  3,806.    Elapsed: 0:07:24., loss 0.2504741833117723\n",
      "  Batch 2,880  of  3,806.    Elapsed: 0:07:43., loss 0.250314430321794\n",
      "  Batch 3,000  of  3,806.    Elapsed: 0:08:02., loss 0.2507621803950464\n",
      "  Batch 3,120  of  3,806.    Elapsed: 0:08:21., loss 0.25059333290701546\n",
      "  Batch 3,240  of  3,806.    Elapsed: 0:08:40., loss 0.2501394922611014\n",
      "  Batch 3,360  of  3,806.    Elapsed: 0:08:59., loss 0.24984808219492832\n",
      "  Batch 3,480  of  3,806.    Elapsed: 0:09:19., loss 0.24985757725642654\n",
      "  Batch 3,600  of  3,806.    Elapsed: 0:09:38., loss 0.25037477530728613\n",
      "  Batch 3,720  of  3,806.    Elapsed: 0:09:57., loss 0.2502756416492912\n",
      "average training loss :  0.2506451024970576\n",
      "\n",
      "  Average training loss: 0.25\n",
      " Validation loss: 0.59\n",
      " Validation Accuracy: 0.89\n",
      " Validation F1 score: 0.75\n",
      "  Training epcoh took: 0:10:42\n",
      "\n",
      "======== Epoch 2 / 4 ========\n",
      "Training...\n",
      "  Batch   120  of  3,806.    Elapsed: 0:00:19., loss 0.10762183412270666\n",
      "  Batch   240  of  3,806.    Elapsed: 0:00:38., loss 0.09682524525241624\n",
      "  Batch   360  of  3,806.    Elapsed: 0:00:57., loss 0.09397847646585514\n",
      "  Batch   480  of  3,806.    Elapsed: 0:01:16., loss 0.09966571500845323\n",
      "  Batch   600  of  3,806.    Elapsed: 0:01:35., loss 0.09767249983676497\n",
      "  Batch   720  of  3,806.    Elapsed: 0:01:54., loss 0.10253327010824614\n",
      "  Batch   840  of  3,806.    Elapsed: 0:02:13., loss 0.10599344393474301\n",
      "  Batch   960  of  3,806.    Elapsed: 0:02:32., loss 0.10680151466303481\n",
      "  Batch 1,080  of  3,806.    Elapsed: 0:02:51., loss 0.10819080777666173\n",
      "  Batch 1,200  of  3,806.    Elapsed: 0:03:10., loss 0.10958979555136593\n",
      "  Batch 1,320  of  3,806.    Elapsed: 0:03:29., loss 0.11133964187349281\n",
      "  Batch 1,440  of  3,806.    Elapsed: 0:03:48., loss 0.11368148581730428\n",
      "  Batch 1,560  of  3,806.    Elapsed: 0:04:07., loss 0.11439885128847897\n",
      "  Batch 1,680  of  3,806.    Elapsed: 0:04:26., loss 0.11411882454949358\n",
      "  Batch 1,800  of  3,806.    Elapsed: 0:04:46., loss 0.11585723294481957\n",
      "  Batch 1,920  of  3,806.    Elapsed: 0:05:05., loss 0.1168240547136058\n",
      "  Batch 2,040  of  3,806.    Elapsed: 0:05:24., loss 0.11836071328740495\n",
      "  Batch 2,160  of  3,806.    Elapsed: 0:05:43., loss 0.11922118505174255\n",
      "  Batch 2,280  of  3,806.    Elapsed: 0:06:02., loss 0.1203578904481194\n",
      "  Batch 2,400  of  3,806.    Elapsed: 0:06:21., loss 0.12073414707079264\n",
      "  Batch 2,520  of  3,806.    Elapsed: 0:06:40., loss 0.12046524502592991\n",
      "  Batch 2,640  of  3,806.    Elapsed: 0:06:59., loss 0.12223006332875362\n",
      "  Batch 2,760  of  3,806.    Elapsed: 0:07:18., loss 0.12351792944520672\n",
      "  Batch 2,880  of  3,806.    Elapsed: 0:07:37., loss 0.12453329429956246\n",
      "  Batch 3,000  of  3,806.    Elapsed: 0:07:56., loss 0.12422522954982282\n",
      "  Batch 3,120  of  3,806.    Elapsed: 0:08:15., loss 0.1248363291536473\n",
      "  Batch 3,240  of  3,806.    Elapsed: 0:08:34., loss 0.1244040357060466\n",
      "  Batch 3,360  of  3,806.    Elapsed: 0:08:53., loss 0.12469525467688913\n",
      "  Batch 3,480  of  3,806.    Elapsed: 0:09:12., loss 0.12460231659045677\n",
      "  Batch 3,600  of  3,806.    Elapsed: 0:09:31., loss 0.12382907748118382\n",
      "  Batch 3,720  of  3,806.    Elapsed: 0:09:50., loss 0.12478505910640281\n",
      "average training loss :  0.1255974616559053\n",
      "\n",
      "  Average training loss: 0.13\n",
      " Validation loss: 0.64\n",
      " Validation Accuracy: 0.89\n",
      " Validation F1 score: 0.74\n",
      "  Training epcoh took: 0:10:37\n",
      "\n",
      "======== Epoch 3 / 4 ========\n",
      "Training...\n",
      "  Batch   120  of  3,806.    Elapsed: 0:00:19., loss 0.08299049461348952\n",
      "  Batch   240  of  3,806.    Elapsed: 0:00:38., loss 0.08389873242805639\n",
      "  Batch   360  of  3,806.    Elapsed: 0:00:57., loss 0.08002169088846191\n",
      "  Batch   480  of  3,806.    Elapsed: 0:01:16., loss 0.07427324102479933\n",
      "  Batch   600  of  3,806.    Elapsed: 0:01:35., loss 0.07673309605352475\n",
      "  Batch   720  of  3,806.    Elapsed: 0:01:54., loss 0.07761713824394428\n",
      "  Batch   840  of  3,806.    Elapsed: 0:02:13., loss 0.07921533673939679\n",
      "  Batch   960  of  3,806.    Elapsed: 0:02:32., loss 0.07852475058869338\n",
      "  Batch 1,080  of  3,806.    Elapsed: 0:02:51., loss 0.08421784733944623\n",
      "  Batch 1,200  of  3,806.    Elapsed: 0:03:10., loss 0.08342179658161251\n",
      "  Batch 1,320  of  3,806.    Elapsed: 0:03:29., loss 0.08288985914300442\n",
      "  Batch 1,440  of  3,806.    Elapsed: 0:03:48., loss 0.0833931206844296\n",
      "  Batch 1,560  of  3,806.    Elapsed: 0:04:07., loss 0.08425290166293876\n",
      "  Batch 1,680  of  3,806.    Elapsed: 0:04:26., loss 0.08378289989839822\n",
      "  Batch 1,800  of  3,806.    Elapsed: 0:04:45., loss 0.08315216361201533\n",
      "  Batch 1,920  of  3,806.    Elapsed: 0:05:04., loss 0.08295397217761079\n",
      "  Batch 2,040  of  3,806.    Elapsed: 0:05:23., loss 0.08301493983628733\n",
      "  Batch 2,160  of  3,806.    Elapsed: 0:05:42., loss 0.08426277425137664\n",
      "  Batch 2,280  of  3,806.    Elapsed: 0:06:02., loss 0.08567976899569485\n",
      "  Batch 2,400  of  3,806.    Elapsed: 0:06:21., loss 0.08670593867600038\n",
      "  Batch 2,520  of  3,806.    Elapsed: 0:06:40., loss 0.0870716437756842\n",
      "  Batch 2,640  of  3,806.    Elapsed: 0:06:59., loss 0.08783733943282528\n",
      "  Batch 2,760  of  3,806.    Elapsed: 0:07:18., loss 0.0872276055943688\n",
      "  Batch 2,880  of  3,806.    Elapsed: 0:07:37., loss 0.08757151448472456\n",
      "  Batch 3,000  of  3,806.    Elapsed: 0:07:56., loss 0.08865542771582628\n",
      "  Batch 3,120  of  3,806.    Elapsed: 0:08:15., loss 0.08871922693118701\n",
      "  Batch 3,240  of  3,806.    Elapsed: 0:08:34., loss 0.0889882444493613\n",
      "  Batch 3,360  of  3,806.    Elapsed: 0:08:53., loss 0.08889200021973133\n",
      "  Batch 3,480  of  3,806.    Elapsed: 0:09:12., loss 0.08935026868223721\n",
      "  Batch 3,600  of  3,806.    Elapsed: 0:09:31., loss 0.08990758249642163\n",
      "  Batch 3,720  of  3,806.    Elapsed: 0:09:50., loss 0.0903469941910234\n",
      "average training loss :  0.09075338020999515\n",
      "\n",
      "  Average training loss: 0.09\n",
      " Validation loss: 0.60\n",
      " Validation Accuracy: 0.90\n",
      " Validation F1 score: 0.76\n",
      "  Training epcoh took: 0:10:37\n",
      "\n",
      "======== Epoch 4 / 4 ========\n",
      "Training...\n",
      "  Batch   120  of  3,806.    Elapsed: 0:00:19., loss 0.05979991816359472\n",
      "  Batch   240  of  3,806.    Elapsed: 0:00:38., loss 0.0549185645896497\n",
      "  Batch   360  of  3,806.    Elapsed: 0:00:57., loss 0.05471290319521429\n",
      "  Batch   480  of  3,806.    Elapsed: 0:01:16., loss 0.05442459220073927\n",
      "  Batch   600  of  3,806.    Elapsed: 0:01:35., loss 0.05877531156449047\n",
      "  Batch   720  of  3,806.    Elapsed: 0:01:54., loss 0.05890264456133241\n",
      "  Batch   840  of  3,806.    Elapsed: 0:02:13., loss 0.059751231508153986\n",
      "  Batch   960  of  3,806.    Elapsed: 0:02:32., loss 0.05944762919056951\n",
      "  Batch 1,080  of  3,806.    Elapsed: 0:02:51., loss 0.059630930201729\n",
      "  Batch 1,200  of  3,806.    Elapsed: 0:03:10., loss 0.06088152197072341\n",
      "  Batch 1,320  of  3,806.    Elapsed: 0:03:29., loss 0.062751519070266\n",
      "  Batch 1,440  of  3,806.    Elapsed: 0:03:48., loss 0.06297468089232464\n",
      "  Batch 1,560  of  3,806.    Elapsed: 0:04:07., loss 0.06371842637710845\n",
      "  Batch 1,680  of  3,806.    Elapsed: 0:04:26., loss 0.0662945938276498\n",
      "  Batch 1,800  of  3,806.    Elapsed: 0:04:45., loss 0.06746447132536762\n",
      "  Batch 1,920  of  3,806.    Elapsed: 0:05:04., loss 0.06884275472569687\n",
      "  Batch 2,040  of  3,806.    Elapsed: 0:05:23., loss 0.06965147545403483\n",
      "  Batch 2,160  of  3,806.    Elapsed: 0:05:42., loss 0.06914697170090514\n",
      "  Batch 2,280  of  3,806.    Elapsed: 0:06:01., loss 0.06943169019524861\n",
      "  Batch 2,400  of  3,806.    Elapsed: 0:06:20., loss 0.07052563748321021\n",
      "  Batch 2,520  of  3,806.    Elapsed: 0:06:39., loss 0.07078957623217833\n",
      "  Batch 2,640  of  3,806.    Elapsed: 0:06:58., loss 0.07093743086128111\n",
      "  Batch 2,760  of  3,806.    Elapsed: 0:07:17., loss 0.07089122588316302\n",
      "  Batch 2,880  of  3,806.    Elapsed: 0:07:36., loss 0.07174877468289066\n",
      "  Batch 3,000  of  3,806.    Elapsed: 0:07:55., loss 0.07313425060468806\n",
      "  Batch 3,120  of  3,806.    Elapsed: 0:08:14., loss 0.07360282613388656\n",
      "  Batch 3,240  of  3,806.    Elapsed: 0:08:33., loss 0.0733972676768516\n",
      "  Batch 3,360  of  3,806.    Elapsed: 0:08:52., loss 0.07383997130804827\n",
      "  Batch 3,480  of  3,806.    Elapsed: 0:09:11., loss 0.07438581712365612\n",
      "  Batch 3,600  of  3,806.    Elapsed: 0:09:30., loss 0.07532877492780567\n",
      "  Batch 3,720  of  3,806.    Elapsed: 0:09:49., loss 0.07618094886585641\n",
      "average training loss :  0.07644325892706443\n",
      "\n",
      "  Average training loss: 0.08\n",
      " Validation loss: 0.63\n",
      " Validation Accuracy: 0.90\n",
      " Validation F1 score: 0.76\n",
      "  Training epcoh took: 0:10:35\n",
      "\n",
      "Training complete!\n"
     ]
    }
   ],
   "source": [
    "# Set the seed value all over the place to make this reproducible.\n",
    "seed_val = 42\n",
    "\n",
    "random.seed(seed_val)\n",
    "np.random.seed(seed_val)\n",
    "torch.manual_seed(seed_val)\n",
    "torch.cuda.manual_seed_all(seed_val)\n",
    "\n",
    "# Store the average loss after each epoch so we can plot them.\n",
    "loss_values = []\n",
    "loss_values_val = []\n",
    "accuracy_values_val = []\n",
    "f1_score_values_val = []\n",
    "# For each epoch...\n",
    "for epoch_i in range(0, epochs):\n",
    "\n",
    "    # ========================================\n",
    "    #               Training\n",
    "    # ========================================\n",
    "\n",
    "\n",
    "    print(\"\")\n",
    "    print('======== Epoch {:} / {:} ========'.format(epoch_i + 1, epochs))\n",
    "    print('Training...')\n",
    "\n",
    "    t0 = time.time()\n",
    "\n",
    "    total_loss = 0\n",
    "    model.train()\n",
    "\n",
    "    # For each batch of training data...\n",
    "    for step, batch in enumerate(train_dataloader_2):\n",
    "\n",
    "        # Progress update every 40 batches.\n",
    "        if step % 120 == 0 and not step == 0:\n",
    "            # Calculate elapsed time in minutes.\n",
    "            elapsed = format_time(time.time() - t0)\n",
    "\n",
    "            # Report progress.\n",
    "            print('  Batch {:>5,}  of  {:>5,}.    Elapsed: {:}., loss {}'.format(step, len(train_dataloader_2), elapsed, total_loss / (step+1)))\n",
    "\n",
    "\n",
    "        b_input_ids = batch[0].to(device)\n",
    "        b_input_mask = batch[1].to(device)\n",
    "        b_labels = batch[2].to(device)\n",
    "        model.zero_grad()\n",
    "        result = model(b_input_ids,\n",
    "                    token_type_ids=None,\n",
    "                    attention_mask=b_input_mask,\n",
    "                    labels=b_labels)\n",
    "\n",
    "        loss = result.loss\n",
    "        #check loss is not nan\n",
    "        total_loss += loss.item()\n",
    "        loss.backward()\n",
    "        torch.nn.utils.clip_grad_norm_(model.parameters(), 1.0)\n",
    "        optimizer.step()\n",
    "        scheduler.step()\n",
    "    avg_train_loss = total_loss / len(train_dataloader_2)\n",
    "    print(\"average training loss : \", avg_train_loss)\n",
    "\n",
    "\n",
    "    avg_loss = get_evaluation_metrics(model, validation_dataloader_tr_2, word_ids_val, new_label_map, labels_validation)\n",
    "    loss_values_val.append(avg_loss[0])\n",
    "    accuracy_values_val.append(avg_loss[1])\n",
    "    f1_score_values_val.append(avg_loss[2])\n",
    "\n",
    "\n",
    "    # Store the loss value for plotting the learning curve.\n",
    "    loss_values.append(avg_train_loss)\n",
    "\n",
    "    print(\"\")\n",
    "    print(\"  Average training loss: {0:.2f}\".format(avg_train_loss))\n",
    "    print(\" Validation loss: {0:.2f}\".format(avg_loss[0]))\n",
    "    print(\" Validation Accuracy: {0:.2f}\".format(avg_loss[1]))\n",
    "    print(\" Validation F1 score: {0:.2f}\".format(avg_loss[2]))\n",
    "    print(\"  Training epcoh took: {:}\".format(format_time(time.time() - t0)))\n",
    "\n",
    "\n",
    "print(\"\")\n",
    "print(\"Training complete!\")"
   ]
  },
  {
   "cell_type": "code",
   "execution_count": null,
   "metadata": {
    "colab": {
     "background_save": true
    },
    "id": "juYXwaFwva6u"
   },
   "outputs": [],
   "source": [
    "#sauvegarde des modèles\n",
    "torch.save(model, root+'my_model_custom_batch.pth')\n",
    "\n",
    "torch.save(model.state_dict(), root+'my_model_custom_batch.pth')\n",
    "tokenizer.save_pretrained(root+'my_tokenizer_custom_batch')\n",
    "import json\n",
    "\n",
    "\n",
    "with open(root+'labels.json', 'w') as f:\n",
    "    json.dump(new_label_map, f)"
   ]
  },
  {
   "cell_type": "markdown",
   "metadata": {
    "id": "3CI8wf6uOdtO"
   },
   "source": [
    "### 7.3.3 Évaluation (2%)\n",
    "\n",
    "Évaluez votre modèle sur le jeu de validation en utilisant la métrique «  Macro F1-Score Moyenne  »\n"
   ]
  },
  {
   "cell_type": "markdown",
   "metadata": {
    "id": "liyh3gfX_3Bv"
   },
   "source": [
    "Implémentez la fonction permettant de calculer la métrique Macro F1-Score Moyenne"
   ]
  },
  {
   "cell_type": "code",
   "execution_count": null,
   "metadata": {
    "colab": {
     "background_save": true
    },
    "id": "zCHp4ElIOdtO",
    "outputId": "62a21763-8f94-4752-92b5-e9136e66e37d"
   },
   "outputs": [
    {
     "name": "stdout",
     "output_type": "stream",
     "text": [
      " Validation loss: 0.63\n",
      " Validation Accuracy: 0.90\n",
      " Validation F1 score: 0.76\n"
     ]
    }
   ],
   "source": [
    "# Sauvegarder la cartographie des labels\n",
    "avg_loss = get_evaluation_metrics(model, validation_dataloader_tr, word_ids_val, new_label_map, labels_validation)\n",
    "print(\" Validation loss: {0:.2f}\".format(avg_loss[0]))\n",
    "print(\" Validation Accuracy: {0:.2f}\".format(avg_loss[1]))\n",
    "print(\" Validation F1 score: {0:.2f}\".format(avg_loss[2]))"
   ]
  },
  {
   "cell_type": "markdown",
   "metadata": {
    "id": "B07TZKf6iNbZ"
   },
   "source": [
    "### 7.3.4 Soumission\n",
    "\n",
    "Effectuez votre soumission pour Kaggle en respectant le format de soumission décrit précédemment.\n",
    "\n",
    "Vous devez faire les prédictions sur le jeu de test et écrire les résultats dans un fichier submission.csv respectant le même format que _sample_submission.csv_. Vous devez utiliser le fichier _id_to_label.csv_ pour faire la correspondance."
   ]
  },
  {
   "cell_type": "code",
   "execution_count": null,
   "metadata": {
    "colab": {
     "base_uri": "https://localhost:8080/",
     "height": 258
    },
    "executionInfo": {
     "elapsed": 3,
     "status": "ok",
     "timestamp": 1701057083768,
     "user": {
      "displayName": "pierre cesar",
      "userId": "06990152005228481993"
     },
     "user_tz": 300
    },
    "id": "amkTk-LspyYr",
    "outputId": "c8135b25-b9d5-407b-fc01-b62ff6bc4a23"
   },
   "outputs": [],
   "source": [
    "\n",
    "#evaluate on test set\n",
    "tokens_test = preprocess_test(data_test)\n",
    "input_ids_test, attention_masks_test, word_ids_test = tokenize_from_model(tokenizer, tokens_test)\n",
    "pt_input_ids_test = torch.stack(input_ids_test, dim=0)\n",
    "pt_attention_masks_test = torch.stack(attention_masks_test, dim=0)\n",
    "dataset_test = TensorDataset(pt_input_ids_test, pt_attention_masks_test)\n",
    "test_dataloader = DataLoader(\n",
    "            dataset_test,\n",
    "            batch_size = batch_size\n",
    "        )\n",
    "model.eval()\n",
    "predict_labels = []\n",
    "with torch.no_grad() :\n",
    "    for step, batch in enumerate(test_dataloader) :\n",
    "        b_input_ids = batch[0].to(device)\n",
    "        b_input_mask = batch[1].to(device)\n",
    "        result = model(b_input_ids,\n",
    "                    token_type_ids=None,\n",
    "                    attention_mask=b_input_mask)\n",
    "        logits_BIO,logits_prefix,logits_label = result.logits\n",
    "        logits_BIO = logits_BIO.detach().cpu().numpy()\n",
    "        logits_prefix = logits_prefix.detach().cpu().numpy()\n",
    "        logits_label = logits_label.detach().cpu().numpy()\n",
    "\n",
    "        labels_BIO = np.argmax(logits_BIO, axis=2)\n",
    "        labels_prefix = np.argmax(logits_prefix, axis=2)\n",
    "        labels_label = np.argmax(logits_label, axis=2)\n",
    "        predict_labels.append(np.stack([labels_BIO, labels_prefix, labels_label], axis=-1))\n",
    "\n",
    "predict_labels = np.concatenate(predict_labels)\n",
    "formated_predict_labels = get_label_list_from_predict(predict_labels, word_ids_test, new_label_map)\n",
    "data_test['question_tagged'] = formated_predict_labels\n",
    "data_test.head()"
   ]
  },
  {
   "cell_type": "code",
   "execution_count": 120,
   "metadata": {
    "executionInfo": {
     "elapsed": 11858,
     "status": "ok",
     "timestamp": 1701057095564,
     "user": {
      "displayName": "pierre cesar",
      "userId": "06990152005228481993"
     },
     "user_tz": 300
    },
    "id": "Ao2yc7gaPy3z"
   },
   "outputs": [],
   "source": [
    "labeled_test = pd.DataFrame(columns=[\"Id\",\"Target\"])\n",
    "\n",
    "tot_id = 1\n",
    "ids_to_label = pd.read_csv(root+'id_to_label.csv', sep=',')\n",
    "for question_id,row in data_test.iterrows() :\n",
    "    question_id+=1\n",
    "    to_tabel = ids_to_label[ids_to_label['question_id'] == question_id]\n",
    "    nb_to_classifie = len(to_tabel)\n",
    "    all_tags = []\n",
    "    for tag in row['question_tagged'] :\n",
    "        if tag.startswith('B-') :\n",
    "            all_tags.append(tag[2:])\n",
    "    if len(all_tags) <= nb_to_classifie :\n",
    "        all_tags += ['']*(nb_to_classifie-len(all_tags))\n",
    "        for tag in all_tags :\n",
    "            labeled_test = pd.concat([labeled_test, pd.DataFrame([[tot_id,tag]], columns=[\"Id\",\"Target\"])])\n",
    "            tot_id += 1\n",
    "    else :\n",
    "        for tag in range(nb_to_classifie):\n",
    "            labeled_test = pd.concat([labeled_test, pd.DataFrame([[tot_id,all_tags[tag]]], columns=[\"Id\",\"Target\"])])\n",
    "            tot_id += 1\n",
    "labeled_test.head()\n",
    "labeled_test.to_csv(root+'test_labels.csv', index=False)\n",
    "\n",
    "\n"
   ]
  },
  {
   "cell_type": "markdown",
   "metadata": {
    "id": "ze9W1U-NOdtR"
   },
   "source": [
    "### 7.4. Conclusion (5%)\n"
   ]
  },
  {
   "cell_type": "markdown",
   "metadata": {
    "id": "4-P0PPOAT21n"
   },
   "source": [
    "*L'architecture proposée à le mérite d'etre plutot innovante en decoupant de probleme de classification en 3, de plus l'ajout de données et l'augmentation de celles ci est surement très efficace notamment au vu de la faible fréquence de nombreux jetons. De plus la décomposition en plusieurs classification permet de diviser le problème en 3 sous problemes et donc simplifie l'apprentissage en donnant un \"sens\" aux classes combinées*\n",
    "\n",
    "*Néanmoins il subsiste toujours le probleme des jetons non présents dans le dataset d'entrainement/validation. Ce probleme pourrait etre resolu pour les classes qui ne sont pas des propriétés ou des ressources wikidata par exemple par un modèle génératif mais pour les classes wikidata elles meme cela semble difficile à la vue du nombre astronomique de classes. Il faudrait sinon génerer un moyen de query une base de données entiere mais la prédiction directe de toutes les classes semble compliqué.*\n",
    "\n",
    "*Enfin dans le cadre de ce challenge on pourrait si l'on voulait utiliser l'api de wikidata pour essayer de recuperer les identifiants des id_to_label et de l'ajouter à l'ensemble d'entrainement \\( à condition que ce ne soit pas considéré comme de la triche \\)*"
   ]
  }
 ],
 "metadata": {
  "accelerator": "GPU",
  "colab": {
   "provenance": []
  },
  "kernelspec": {
   "display_name": "Python 3",
   "name": "python3"
  },
  "language_info": {
   "codemirror_mode": {
    "name": "ipython",
    "version": 3
   },
   "file_extension": ".py",
   "mimetype": "text/x-python",
   "name": "python",
   "nbconvert_exporter": "python",
   "pygments_lexer": "ipython3",
   "version": "3.8.18"
  },
  "vscode": {
   "interpreter": {
    "hash": "bb3f3ca36ac2f50d66e18d7677362432f7af6bbb1b03844778fb6db4c3043937"
   }
  },
  "widgets": {
   "application/vnd.jupyter.widget-state+json": {
    "04a67fe6496142b78f09a92711aedb7a": {
     "model_module": "@jupyter-widgets/base",
     "model_module_version": "1.2.0",
     "model_name": "LayoutModel",
     "state": {
      "_model_module": "@jupyter-widgets/base",
      "_model_module_version": "1.2.0",
      "_model_name": "LayoutModel",
      "_view_count": null,
      "_view_module": "@jupyter-widgets/base",
      "_view_module_version": "1.2.0",
      "_view_name": "LayoutView",
      "align_content": null,
      "align_items": null,
      "align_self": null,
      "border": null,
      "bottom": null,
      "display": null,
      "flex": null,
      "flex_flow": null,
      "grid_area": null,
      "grid_auto_columns": null,
      "grid_auto_flow": null,
      "grid_auto_rows": null,
      "grid_column": null,
      "grid_gap": null,
      "grid_row": null,
      "grid_template_areas": null,
      "grid_template_columns": null,
      "grid_template_rows": null,
      "height": null,
      "justify_content": null,
      "justify_items": null,
      "left": null,
      "margin": null,
      "max_height": null,
      "max_width": null,
      "min_height": null,
      "min_width": null,
      "object_fit": null,
      "object_position": null,
      "order": null,
      "overflow": null,
      "overflow_x": null,
      "overflow_y": null,
      "padding": null,
      "right": null,
      "top": null,
      "visibility": null,
      "width": null
     }
    },
    "0d41f3dbf747468aac87b4eb6a2b536c": {
     "model_module": "@jupyter-widgets/controls",
     "model_module_version": "1.5.0",
     "model_name": "ProgressStyleModel",
     "state": {
      "_model_module": "@jupyter-widgets/controls",
      "_model_module_version": "1.5.0",
      "_model_name": "ProgressStyleModel",
      "_view_count": null,
      "_view_module": "@jupyter-widgets/base",
      "_view_module_version": "1.2.0",
      "_view_name": "StyleView",
      "bar_color": null,
      "description_width": ""
     }
    },
    "0e588e03f5294ecf9603997db15bdec3": {
     "model_module": "@jupyter-widgets/controls",
     "model_module_version": "1.5.0",
     "model_name": "DescriptionStyleModel",
     "state": {
      "_model_module": "@jupyter-widgets/controls",
      "_model_module_version": "1.5.0",
      "_model_name": "DescriptionStyleModel",
      "_view_count": null,
      "_view_module": "@jupyter-widgets/base",
      "_view_module_version": "1.2.0",
      "_view_name": "StyleView",
      "description_width": ""
     }
    },
    "1866e0f4700644e1b75aeac90ca6cace": {
     "model_module": "@jupyter-widgets/controls",
     "model_module_version": "1.5.0",
     "model_name": "DescriptionStyleModel",
     "state": {
      "_model_module": "@jupyter-widgets/controls",
      "_model_module_version": "1.5.0",
      "_model_name": "DescriptionStyleModel",
      "_view_count": null,
      "_view_module": "@jupyter-widgets/base",
      "_view_module_version": "1.2.0",
      "_view_name": "StyleView",
      "description_width": ""
     }
    },
    "1ef5ca2a496a4e9b9bf980a989cd1c56": {
     "model_module": "@jupyter-widgets/base",
     "model_module_version": "1.2.0",
     "model_name": "LayoutModel",
     "state": {
      "_model_module": "@jupyter-widgets/base",
      "_model_module_version": "1.2.0",
      "_model_name": "LayoutModel",
      "_view_count": null,
      "_view_module": "@jupyter-widgets/base",
      "_view_module_version": "1.2.0",
      "_view_name": "LayoutView",
      "align_content": null,
      "align_items": null,
      "align_self": null,
      "border": null,
      "bottom": null,
      "display": null,
      "flex": null,
      "flex_flow": null,
      "grid_area": null,
      "grid_auto_columns": null,
      "grid_auto_flow": null,
      "grid_auto_rows": null,
      "grid_column": null,
      "grid_gap": null,
      "grid_row": null,
      "grid_template_areas": null,
      "grid_template_columns": null,
      "grid_template_rows": null,
      "height": null,
      "justify_content": null,
      "justify_items": null,
      "left": null,
      "margin": null,
      "max_height": null,
      "max_width": null,
      "min_height": null,
      "min_width": null,
      "object_fit": null,
      "object_position": null,
      "order": null,
      "overflow": null,
      "overflow_x": null,
      "overflow_y": null,
      "padding": null,
      "right": null,
      "top": null,
      "visibility": null,
      "width": null
     }
    },
    "204c38ae48e04ed2a3b374f1a274e58e": {
     "model_module": "@jupyter-widgets/base",
     "model_module_version": "1.2.0",
     "model_name": "LayoutModel",
     "state": {
      "_model_module": "@jupyter-widgets/base",
      "_model_module_version": "1.2.0",
      "_model_name": "LayoutModel",
      "_view_count": null,
      "_view_module": "@jupyter-widgets/base",
      "_view_module_version": "1.2.0",
      "_view_name": "LayoutView",
      "align_content": null,
      "align_items": null,
      "align_self": null,
      "border": null,
      "bottom": null,
      "display": null,
      "flex": null,
      "flex_flow": null,
      "grid_area": null,
      "grid_auto_columns": null,
      "grid_auto_flow": null,
      "grid_auto_rows": null,
      "grid_column": null,
      "grid_gap": null,
      "grid_row": null,
      "grid_template_areas": null,
      "grid_template_columns": null,
      "grid_template_rows": null,
      "height": null,
      "justify_content": null,
      "justify_items": null,
      "left": null,
      "margin": null,
      "max_height": null,
      "max_width": null,
      "min_height": null,
      "min_width": null,
      "object_fit": null,
      "object_position": null,
      "order": null,
      "overflow": null,
      "overflow_x": null,
      "overflow_y": null,
      "padding": null,
      "right": null,
      "top": null,
      "visibility": null,
      "width": null
     }
    },
    "22325a0bc2224dae8a54476648b671ab": {
     "model_module": "@jupyter-widgets/base",
     "model_module_version": "1.2.0",
     "model_name": "LayoutModel",
     "state": {
      "_model_module": "@jupyter-widgets/base",
      "_model_module_version": "1.2.0",
      "_model_name": "LayoutModel",
      "_view_count": null,
      "_view_module": "@jupyter-widgets/base",
      "_view_module_version": "1.2.0",
      "_view_name": "LayoutView",
      "align_content": null,
      "align_items": null,
      "align_self": null,
      "border": null,
      "bottom": null,
      "display": null,
      "flex": null,
      "flex_flow": null,
      "grid_area": null,
      "grid_auto_columns": null,
      "grid_auto_flow": null,
      "grid_auto_rows": null,
      "grid_column": null,
      "grid_gap": null,
      "grid_row": null,
      "grid_template_areas": null,
      "grid_template_columns": null,
      "grid_template_rows": null,
      "height": null,
      "justify_content": null,
      "justify_items": null,
      "left": null,
      "margin": null,
      "max_height": null,
      "max_width": null,
      "min_height": null,
      "min_width": null,
      "object_fit": null,
      "object_position": null,
      "order": null,
      "overflow": null,
      "overflow_x": null,
      "overflow_y": null,
      "padding": null,
      "right": null,
      "top": null,
      "visibility": null,
      "width": null
     }
    },
    "296f5ca80b0c432c9f34c2c3d3466c00": {
     "model_module": "@jupyter-widgets/controls",
     "model_module_version": "1.5.0",
     "model_name": "ProgressStyleModel",
     "state": {
      "_model_module": "@jupyter-widgets/controls",
      "_model_module_version": "1.5.0",
      "_model_name": "ProgressStyleModel",
      "_view_count": null,
      "_view_module": "@jupyter-widgets/base",
      "_view_module_version": "1.2.0",
      "_view_name": "StyleView",
      "bar_color": null,
      "description_width": ""
     }
    },
    "2a03d21223824a01879d7c7b783ea551": {
     "model_module": "@jupyter-widgets/base",
     "model_module_version": "1.2.0",
     "model_name": "LayoutModel",
     "state": {
      "_model_module": "@jupyter-widgets/base",
      "_model_module_version": "1.2.0",
      "_model_name": "LayoutModel",
      "_view_count": null,
      "_view_module": "@jupyter-widgets/base",
      "_view_module_version": "1.2.0",
      "_view_name": "LayoutView",
      "align_content": null,
      "align_items": null,
      "align_self": null,
      "border": null,
      "bottom": null,
      "display": null,
      "flex": null,
      "flex_flow": null,
      "grid_area": null,
      "grid_auto_columns": null,
      "grid_auto_flow": null,
      "grid_auto_rows": null,
      "grid_column": null,
      "grid_gap": null,
      "grid_row": null,
      "grid_template_areas": null,
      "grid_template_columns": null,
      "grid_template_rows": null,
      "height": null,
      "justify_content": null,
      "justify_items": null,
      "left": null,
      "margin": null,
      "max_height": null,
      "max_width": null,
      "min_height": null,
      "min_width": null,
      "object_fit": null,
      "object_position": null,
      "order": null,
      "overflow": null,
      "overflow_x": null,
      "overflow_y": null,
      "padding": null,
      "right": null,
      "top": null,
      "visibility": null,
      "width": null
     }
    },
    "2c5a70bc6cd4405e9db33c9b12bd4417": {
     "model_module": "@jupyter-widgets/controls",
     "model_module_version": "1.5.0",
     "model_name": "HTMLModel",
     "state": {
      "_dom_classes": [],
      "_model_module": "@jupyter-widgets/controls",
      "_model_module_version": "1.5.0",
      "_model_name": "HTMLModel",
      "_view_count": null,
      "_view_module": "@jupyter-widgets/controls",
      "_view_module_version": "1.5.0",
      "_view_name": "HTMLView",
      "description": "",
      "description_tooltip": null,
      "layout": "IPY_MODEL_22325a0bc2224dae8a54476648b671ab",
      "placeholder": "​",
      "style": "IPY_MODEL_c3c726e074424e4ba84c688dfd34212b",
      "value": "vocab.txt: 100%"
     }
    },
    "3254427c3f8b493daae880403c974031": {
     "model_module": "@jupyter-widgets/base",
     "model_module_version": "1.2.0",
     "model_name": "LayoutModel",
     "state": {
      "_model_module": "@jupyter-widgets/base",
      "_model_module_version": "1.2.0",
      "_model_name": "LayoutModel",
      "_view_count": null,
      "_view_module": "@jupyter-widgets/base",
      "_view_module_version": "1.2.0",
      "_view_name": "LayoutView",
      "align_content": null,
      "align_items": null,
      "align_self": null,
      "border": null,
      "bottom": null,
      "display": null,
      "flex": null,
      "flex_flow": null,
      "grid_area": null,
      "grid_auto_columns": null,
      "grid_auto_flow": null,
      "grid_auto_rows": null,
      "grid_column": null,
      "grid_gap": null,
      "grid_row": null,
      "grid_template_areas": null,
      "grid_template_columns": null,
      "grid_template_rows": null,
      "height": null,
      "justify_content": null,
      "justify_items": null,
      "left": null,
      "margin": null,
      "max_height": null,
      "max_width": null,
      "min_height": null,
      "min_width": null,
      "object_fit": null,
      "object_position": null,
      "order": null,
      "overflow": null,
      "overflow_x": null,
      "overflow_y": null,
      "padding": null,
      "right": null,
      "top": null,
      "visibility": null,
      "width": null
     }
    },
    "3c0d04ca4e974a09b9ff256f37496fcb": {
     "model_module": "@jupyter-widgets/controls",
     "model_module_version": "1.5.0",
     "model_name": "DescriptionStyleModel",
     "state": {
      "_model_module": "@jupyter-widgets/controls",
      "_model_module_version": "1.5.0",
      "_model_name": "DescriptionStyleModel",
      "_view_count": null,
      "_view_module": "@jupyter-widgets/base",
      "_view_module_version": "1.2.0",
      "_view_name": "StyleView",
      "description_width": ""
     }
    },
    "3db5482b7e754c92ac7e7463a0d2db33": {
     "model_module": "@jupyter-widgets/controls",
     "model_module_version": "1.5.0",
     "model_name": "DescriptionStyleModel",
     "state": {
      "_model_module": "@jupyter-widgets/controls",
      "_model_module_version": "1.5.0",
      "_model_name": "DescriptionStyleModel",
      "_view_count": null,
      "_view_module": "@jupyter-widgets/base",
      "_view_module_version": "1.2.0",
      "_view_name": "StyleView",
      "description_width": ""
     }
    },
    "4698d5c8fd014757984e121c57200337": {
     "model_module": "@jupyter-widgets/controls",
     "model_module_version": "1.5.0",
     "model_name": "FloatProgressModel",
     "state": {
      "_dom_classes": [],
      "_model_module": "@jupyter-widgets/controls",
      "_model_module_version": "1.5.0",
      "_model_name": "FloatProgressModel",
      "_view_count": null,
      "_view_module": "@jupyter-widgets/controls",
      "_view_module_version": "1.5.0",
      "_view_name": "ProgressView",
      "bar_style": "success",
      "description": "",
      "description_tooltip": null,
      "layout": "IPY_MODEL_a88c1e5b5ef743fca652d2f020b44fb8",
      "max": 231508,
      "min": 0,
      "orientation": "horizontal",
      "style": "IPY_MODEL_296f5ca80b0c432c9f34c2c3d3466c00",
      "value": 231508
     }
    },
    "540ae49442c84392b7f6940a6de97287": {
     "model_module": "@jupyter-widgets/base",
     "model_module_version": "1.2.0",
     "model_name": "LayoutModel",
     "state": {
      "_model_module": "@jupyter-widgets/base",
      "_model_module_version": "1.2.0",
      "_model_name": "LayoutModel",
      "_view_count": null,
      "_view_module": "@jupyter-widgets/base",
      "_view_module_version": "1.2.0",
      "_view_name": "LayoutView",
      "align_content": null,
      "align_items": null,
      "align_self": null,
      "border": null,
      "bottom": null,
      "display": null,
      "flex": null,
      "flex_flow": null,
      "grid_area": null,
      "grid_auto_columns": null,
      "grid_auto_flow": null,
      "grid_auto_rows": null,
      "grid_column": null,
      "grid_gap": null,
      "grid_row": null,
      "grid_template_areas": null,
      "grid_template_columns": null,
      "grid_template_rows": null,
      "height": null,
      "justify_content": null,
      "justify_items": null,
      "left": null,
      "margin": null,
      "max_height": null,
      "max_width": null,
      "min_height": null,
      "min_width": null,
      "object_fit": null,
      "object_position": null,
      "order": null,
      "overflow": null,
      "overflow_x": null,
      "overflow_y": null,
      "padding": null,
      "right": null,
      "top": null,
      "visibility": null,
      "width": null
     }
    },
    "5e1894f5cf3e439ba12982158a9ca5ef": {
     "model_module": "@jupyter-widgets/base",
     "model_module_version": "1.2.0",
     "model_name": "LayoutModel",
     "state": {
      "_model_module": "@jupyter-widgets/base",
      "_model_module_version": "1.2.0",
      "_model_name": "LayoutModel",
      "_view_count": null,
      "_view_module": "@jupyter-widgets/base",
      "_view_module_version": "1.2.0",
      "_view_name": "LayoutView",
      "align_content": null,
      "align_items": null,
      "align_self": null,
      "border": null,
      "bottom": null,
      "display": null,
      "flex": null,
      "flex_flow": null,
      "grid_area": null,
      "grid_auto_columns": null,
      "grid_auto_flow": null,
      "grid_auto_rows": null,
      "grid_column": null,
      "grid_gap": null,
      "grid_row": null,
      "grid_template_areas": null,
      "grid_template_columns": null,
      "grid_template_rows": null,
      "height": null,
      "justify_content": null,
      "justify_items": null,
      "left": null,
      "margin": null,
      "max_height": null,
      "max_width": null,
      "min_height": null,
      "min_width": null,
      "object_fit": null,
      "object_position": null,
      "order": null,
      "overflow": null,
      "overflow_x": null,
      "overflow_y": null,
      "padding": null,
      "right": null,
      "top": null,
      "visibility": null,
      "width": null
     }
    },
    "6c15141c6e474d839eb96aca571460bf": {
     "model_module": "@jupyter-widgets/controls",
     "model_module_version": "1.5.0",
     "model_name": "HTMLModel",
     "state": {
      "_dom_classes": [],
      "_model_module": "@jupyter-widgets/controls",
      "_model_module_version": "1.5.0",
      "_model_name": "HTMLModel",
      "_view_count": null,
      "_view_module": "@jupyter-widgets/controls",
      "_view_module_version": "1.5.0",
      "_view_name": "HTMLView",
      "description": "",
      "description_tooltip": null,
      "layout": "IPY_MODEL_04a67fe6496142b78f09a92711aedb7a",
      "placeholder": "​",
      "style": "IPY_MODEL_1866e0f4700644e1b75aeac90ca6cace",
      "value": " 466k/466k [00:00&lt;00:00, 5.28MB/s]"
     }
    },
    "7db4674c11094bf5aad3298834e48acb": {
     "model_module": "@jupyter-widgets/controls",
     "model_module_version": "1.5.0",
     "model_name": "HBoxModel",
     "state": {
      "_dom_classes": [],
      "_model_module": "@jupyter-widgets/controls",
      "_model_module_version": "1.5.0",
      "_model_name": "HBoxModel",
      "_view_count": null,
      "_view_module": "@jupyter-widgets/controls",
      "_view_module_version": "1.5.0",
      "_view_name": "HBoxView",
      "box_style": "",
      "children": [
       "IPY_MODEL_a144bf262c26464292894265a4eed22f",
       "IPY_MODEL_eca0e693899249998359c7e341c1ce79",
       "IPY_MODEL_aa4835f022864aadb756a8924a1d03ba"
      ],
      "layout": "IPY_MODEL_540ae49442c84392b7f6940a6de97287"
     }
    },
    "80fa591622a040d19f8cfb1263654cf2": {
     "model_module": "@jupyter-widgets/controls",
     "model_module_version": "1.5.0",
     "model_name": "HBoxModel",
     "state": {
      "_dom_classes": [],
      "_model_module": "@jupyter-widgets/controls",
      "_model_module_version": "1.5.0",
      "_model_name": "HBoxModel",
      "_view_count": null,
      "_view_module": "@jupyter-widgets/controls",
      "_view_module_version": "1.5.0",
      "_view_name": "HBoxView",
      "box_style": "",
      "children": [
       "IPY_MODEL_2c5a70bc6cd4405e9db33c9b12bd4417",
       "IPY_MODEL_4698d5c8fd014757984e121c57200337",
       "IPY_MODEL_d1891d35dd8b461da82083a546608ce7"
      ],
      "layout": "IPY_MODEL_876b71fda6d34009a9e7862218608be5"
     }
    },
    "876b71fda6d34009a9e7862218608be5": {
     "model_module": "@jupyter-widgets/base",
     "model_module_version": "1.2.0",
     "model_name": "LayoutModel",
     "state": {
      "_model_module": "@jupyter-widgets/base",
      "_model_module_version": "1.2.0",
      "_model_name": "LayoutModel",
      "_view_count": null,
      "_view_module": "@jupyter-widgets/base",
      "_view_module_version": "1.2.0",
      "_view_name": "LayoutView",
      "align_content": null,
      "align_items": null,
      "align_self": null,
      "border": null,
      "bottom": null,
      "display": null,
      "flex": null,
      "flex_flow": null,
      "grid_area": null,
      "grid_auto_columns": null,
      "grid_auto_flow": null,
      "grid_auto_rows": null,
      "grid_column": null,
      "grid_gap": null,
      "grid_row": null,
      "grid_template_areas": null,
      "grid_template_columns": null,
      "grid_template_rows": null,
      "height": null,
      "justify_content": null,
      "justify_items": null,
      "left": null,
      "margin": null,
      "max_height": null,
      "max_width": null,
      "min_height": null,
      "min_width": null,
      "object_fit": null,
      "object_position": null,
      "order": null,
      "overflow": null,
      "overflow_x": null,
      "overflow_y": null,
      "padding": null,
      "right": null,
      "top": null,
      "visibility": null,
      "width": null
     }
    },
    "8b8a50ce71504d489e236487b6a11ffc": {
     "model_module": "@jupyter-widgets/controls",
     "model_module_version": "1.5.0",
     "model_name": "FloatProgressModel",
     "state": {
      "_dom_classes": [],
      "_model_module": "@jupyter-widgets/controls",
      "_model_module_version": "1.5.0",
      "_model_name": "FloatProgressModel",
      "_view_count": null,
      "_view_module": "@jupyter-widgets/controls",
      "_view_module_version": "1.5.0",
      "_view_name": "ProgressView",
      "bar_style": "success",
      "description": "",
      "description_tooltip": null,
      "layout": "IPY_MODEL_a3a701daf2b14913bf34ecf0e728e4cd",
      "max": 466062,
      "min": 0,
      "orientation": "horizontal",
      "style": "IPY_MODEL_df08fdbd9d834906af9bae85912791ca",
      "value": 466062
     }
    },
    "8d58d968d3b04eed9c80d151cbf8ee32": {
     "model_module": "@jupyter-widgets/controls",
     "model_module_version": "1.5.0",
     "model_name": "FloatProgressModel",
     "state": {
      "_dom_classes": [],
      "_model_module": "@jupyter-widgets/controls",
      "_model_module_version": "1.5.0",
      "_model_name": "FloatProgressModel",
      "_view_count": null,
      "_view_module": "@jupyter-widgets/controls",
      "_view_module_version": "1.5.0",
      "_view_name": "ProgressView",
      "bar_style": "success",
      "description": "",
      "description_tooltip": null,
      "layout": "IPY_MODEL_a4141d184e1c4f81aa9e5c7a90015b42",
      "max": 28,
      "min": 0,
      "orientation": "horizontal",
      "style": "IPY_MODEL_acd957470e6947d0a778469fe2571871",
      "value": 28
     }
    },
    "8db90cc971b445dfae04e505f41bb63a": {
     "model_module": "@jupyter-widgets/controls",
     "model_module_version": "1.5.0",
     "model_name": "HTMLModel",
     "state": {
      "_dom_classes": [],
      "_model_module": "@jupyter-widgets/controls",
      "_model_module_version": "1.5.0",
      "_model_name": "HTMLModel",
      "_view_count": null,
      "_view_module": "@jupyter-widgets/controls",
      "_view_module_version": "1.5.0",
      "_view_name": "HTMLView",
      "description": "",
      "description_tooltip": null,
      "layout": "IPY_MODEL_3254427c3f8b493daae880403c974031",
      "placeholder": "​",
      "style": "IPY_MODEL_af90de0ac6d245b1a91e57b8e262e448",
      "value": "tokenizer.json: 100%"
     }
    },
    "8ea5081f469548d8a0e9e3fe4bd617b1": {
     "model_module": "@jupyter-widgets/controls",
     "model_module_version": "1.5.0",
     "model_name": "HBoxModel",
     "state": {
      "_dom_classes": [],
      "_model_module": "@jupyter-widgets/controls",
      "_model_module_version": "1.5.0",
      "_model_name": "HBoxModel",
      "_view_count": null,
      "_view_module": "@jupyter-widgets/controls",
      "_view_module_version": "1.5.0",
      "_view_name": "HBoxView",
      "box_style": "",
      "children": [
       "IPY_MODEL_8db90cc971b445dfae04e505f41bb63a",
       "IPY_MODEL_8b8a50ce71504d489e236487b6a11ffc",
       "IPY_MODEL_6c15141c6e474d839eb96aca571460bf"
      ],
      "layout": "IPY_MODEL_5e1894f5cf3e439ba12982158a9ca5ef"
     }
    },
    "a144bf262c26464292894265a4eed22f": {
     "model_module": "@jupyter-widgets/controls",
     "model_module_version": "1.5.0",
     "model_name": "HTMLModel",
     "state": {
      "_dom_classes": [],
      "_model_module": "@jupyter-widgets/controls",
      "_model_module_version": "1.5.0",
      "_model_name": "HTMLModel",
      "_view_count": null,
      "_view_module": "@jupyter-widgets/controls",
      "_view_module_version": "1.5.0",
      "_view_name": "HTMLView",
      "description": "",
      "description_tooltip": null,
      "layout": "IPY_MODEL_1ef5ca2a496a4e9b9bf980a989cd1c56",
      "placeholder": "​",
      "style": "IPY_MODEL_3db5482b7e754c92ac7e7463a0d2db33",
      "value": "config.json: 100%"
     }
    },
    "a3a701daf2b14913bf34ecf0e728e4cd": {
     "model_module": "@jupyter-widgets/base",
     "model_module_version": "1.2.0",
     "model_name": "LayoutModel",
     "state": {
      "_model_module": "@jupyter-widgets/base",
      "_model_module_version": "1.2.0",
      "_model_name": "LayoutModel",
      "_view_count": null,
      "_view_module": "@jupyter-widgets/base",
      "_view_module_version": "1.2.0",
      "_view_name": "LayoutView",
      "align_content": null,
      "align_items": null,
      "align_self": null,
      "border": null,
      "bottom": null,
      "display": null,
      "flex": null,
      "flex_flow": null,
      "grid_area": null,
      "grid_auto_columns": null,
      "grid_auto_flow": null,
      "grid_auto_rows": null,
      "grid_column": null,
      "grid_gap": null,
      "grid_row": null,
      "grid_template_areas": null,
      "grid_template_columns": null,
      "grid_template_rows": null,
      "height": null,
      "justify_content": null,
      "justify_items": null,
      "left": null,
      "margin": null,
      "max_height": null,
      "max_width": null,
      "min_height": null,
      "min_width": null,
      "object_fit": null,
      "object_position": null,
      "order": null,
      "overflow": null,
      "overflow_x": null,
      "overflow_y": null,
      "padding": null,
      "right": null,
      "top": null,
      "visibility": null,
      "width": null
     }
    },
    "a4141d184e1c4f81aa9e5c7a90015b42": {
     "model_module": "@jupyter-widgets/base",
     "model_module_version": "1.2.0",
     "model_name": "LayoutModel",
     "state": {
      "_model_module": "@jupyter-widgets/base",
      "_model_module_version": "1.2.0",
      "_model_name": "LayoutModel",
      "_view_count": null,
      "_view_module": "@jupyter-widgets/base",
      "_view_module_version": "1.2.0",
      "_view_name": "LayoutView",
      "align_content": null,
      "align_items": null,
      "align_self": null,
      "border": null,
      "bottom": null,
      "display": null,
      "flex": null,
      "flex_flow": null,
      "grid_area": null,
      "grid_auto_columns": null,
      "grid_auto_flow": null,
      "grid_auto_rows": null,
      "grid_column": null,
      "grid_gap": null,
      "grid_row": null,
      "grid_template_areas": null,
      "grid_template_columns": null,
      "grid_template_rows": null,
      "height": null,
      "justify_content": null,
      "justify_items": null,
      "left": null,
      "margin": null,
      "max_height": null,
      "max_width": null,
      "min_height": null,
      "min_width": null,
      "object_fit": null,
      "object_position": null,
      "order": null,
      "overflow": null,
      "overflow_x": null,
      "overflow_y": null,
      "padding": null,
      "right": null,
      "top": null,
      "visibility": null,
      "width": null
     }
    },
    "a58fff2326634cce96fb207a547f1a89": {
     "model_module": "@jupyter-widgets/controls",
     "model_module_version": "1.5.0",
     "model_name": "DescriptionStyleModel",
     "state": {
      "_model_module": "@jupyter-widgets/controls",
      "_model_module_version": "1.5.0",
      "_model_name": "DescriptionStyleModel",
      "_view_count": null,
      "_view_module": "@jupyter-widgets/base",
      "_view_module_version": "1.2.0",
      "_view_name": "StyleView",
      "description_width": ""
     }
    },
    "a88c1e5b5ef743fca652d2f020b44fb8": {
     "model_module": "@jupyter-widgets/base",
     "model_module_version": "1.2.0",
     "model_name": "LayoutModel",
     "state": {
      "_model_module": "@jupyter-widgets/base",
      "_model_module_version": "1.2.0",
      "_model_name": "LayoutModel",
      "_view_count": null,
      "_view_module": "@jupyter-widgets/base",
      "_view_module_version": "1.2.0",
      "_view_name": "LayoutView",
      "align_content": null,
      "align_items": null,
      "align_self": null,
      "border": null,
      "bottom": null,
      "display": null,
      "flex": null,
      "flex_flow": null,
      "grid_area": null,
      "grid_auto_columns": null,
      "grid_auto_flow": null,
      "grid_auto_rows": null,
      "grid_column": null,
      "grid_gap": null,
      "grid_row": null,
      "grid_template_areas": null,
      "grid_template_columns": null,
      "grid_template_rows": null,
      "height": null,
      "justify_content": null,
      "justify_items": null,
      "left": null,
      "margin": null,
      "max_height": null,
      "max_width": null,
      "min_height": null,
      "min_width": null,
      "object_fit": null,
      "object_position": null,
      "order": null,
      "overflow": null,
      "overflow_x": null,
      "overflow_y": null,
      "padding": null,
      "right": null,
      "top": null,
      "visibility": null,
      "width": null
     }
    },
    "aa4835f022864aadb756a8924a1d03ba": {
     "model_module": "@jupyter-widgets/controls",
     "model_module_version": "1.5.0",
     "model_name": "HTMLModel",
     "state": {
      "_dom_classes": [],
      "_model_module": "@jupyter-widgets/controls",
      "_model_module_version": "1.5.0",
      "_model_name": "HTMLModel",
      "_view_count": null,
      "_view_module": "@jupyter-widgets/controls",
      "_view_module_version": "1.5.0",
      "_view_name": "HTMLView",
      "description": "",
      "description_tooltip": null,
      "layout": "IPY_MODEL_2a03d21223824a01879d7c7b783ea551",
      "placeholder": "​",
      "style": "IPY_MODEL_3c0d04ca4e974a09b9ff256f37496fcb",
      "value": " 570/570 [00:00&lt;00:00, 35.2kB/s]"
     }
    },
    "acd957470e6947d0a778469fe2571871": {
     "model_module": "@jupyter-widgets/controls",
     "model_module_version": "1.5.0",
     "model_name": "ProgressStyleModel",
     "state": {
      "_model_module": "@jupyter-widgets/controls",
      "_model_module_version": "1.5.0",
      "_model_name": "ProgressStyleModel",
      "_view_count": null,
      "_view_module": "@jupyter-widgets/base",
      "_view_module_version": "1.2.0",
      "_view_name": "StyleView",
      "bar_color": null,
      "description_width": ""
     }
    },
    "ad25bc43b9874b4fa41d868250a1784e": {
     "model_module": "@jupyter-widgets/controls",
     "model_module_version": "1.5.0",
     "model_name": "HBoxModel",
     "state": {
      "_dom_classes": [],
      "_model_module": "@jupyter-widgets/controls",
      "_model_module_version": "1.5.0",
      "_model_name": "HBoxModel",
      "_view_count": null,
      "_view_module": "@jupyter-widgets/controls",
      "_view_module_version": "1.5.0",
      "_view_name": "HBoxView",
      "box_style": "",
      "children": [
       "IPY_MODEL_fcc14123541b4dd68626b15c2e11046d",
       "IPY_MODEL_8d58d968d3b04eed9c80d151cbf8ee32",
       "IPY_MODEL_dfd2fa9c3e4b42348916289642e75146"
      ],
      "layout": "IPY_MODEL_204c38ae48e04ed2a3b374f1a274e58e"
     }
    },
    "af90de0ac6d245b1a91e57b8e262e448": {
     "model_module": "@jupyter-widgets/controls",
     "model_module_version": "1.5.0",
     "model_name": "DescriptionStyleModel",
     "state": {
      "_model_module": "@jupyter-widgets/controls",
      "_model_module_version": "1.5.0",
      "_model_name": "DescriptionStyleModel",
      "_view_count": null,
      "_view_module": "@jupyter-widgets/base",
      "_view_module_version": "1.2.0",
      "_view_name": "StyleView",
      "description_width": ""
     }
    },
    "b18ad008e6f9462a82bc8d450290052e": {
     "model_module": "@jupyter-widgets/base",
     "model_module_version": "1.2.0",
     "model_name": "LayoutModel",
     "state": {
      "_model_module": "@jupyter-widgets/base",
      "_model_module_version": "1.2.0",
      "_model_name": "LayoutModel",
      "_view_count": null,
      "_view_module": "@jupyter-widgets/base",
      "_view_module_version": "1.2.0",
      "_view_name": "LayoutView",
      "align_content": null,
      "align_items": null,
      "align_self": null,
      "border": null,
      "bottom": null,
      "display": null,
      "flex": null,
      "flex_flow": null,
      "grid_area": null,
      "grid_auto_columns": null,
      "grid_auto_flow": null,
      "grid_auto_rows": null,
      "grid_column": null,
      "grid_gap": null,
      "grid_row": null,
      "grid_template_areas": null,
      "grid_template_columns": null,
      "grid_template_rows": null,
      "height": null,
      "justify_content": null,
      "justify_items": null,
      "left": null,
      "margin": null,
      "max_height": null,
      "max_width": null,
      "min_height": null,
      "min_width": null,
      "object_fit": null,
      "object_position": null,
      "order": null,
      "overflow": null,
      "overflow_x": null,
      "overflow_y": null,
      "padding": null,
      "right": null,
      "top": null,
      "visibility": null,
      "width": null
     }
    },
    "c18ea9a2c6ee48aaa2f6228614835cf3": {
     "model_module": "@jupyter-widgets/controls",
     "model_module_version": "1.5.0",
     "model_name": "DescriptionStyleModel",
     "state": {
      "_model_module": "@jupyter-widgets/controls",
      "_model_module_version": "1.5.0",
      "_model_name": "DescriptionStyleModel",
      "_view_count": null,
      "_view_module": "@jupyter-widgets/base",
      "_view_module_version": "1.2.0",
      "_view_name": "StyleView",
      "description_width": ""
     }
    },
    "c3c726e074424e4ba84c688dfd34212b": {
     "model_module": "@jupyter-widgets/controls",
     "model_module_version": "1.5.0",
     "model_name": "DescriptionStyleModel",
     "state": {
      "_model_module": "@jupyter-widgets/controls",
      "_model_module_version": "1.5.0",
      "_model_name": "DescriptionStyleModel",
      "_view_count": null,
      "_view_module": "@jupyter-widgets/base",
      "_view_module_version": "1.2.0",
      "_view_name": "StyleView",
      "description_width": ""
     }
    },
    "c83c94825d6d45179649d2bfe9b867b5": {
     "model_module": "@jupyter-widgets/base",
     "model_module_version": "1.2.0",
     "model_name": "LayoutModel",
     "state": {
      "_model_module": "@jupyter-widgets/base",
      "_model_module_version": "1.2.0",
      "_model_name": "LayoutModel",
      "_view_count": null,
      "_view_module": "@jupyter-widgets/base",
      "_view_module_version": "1.2.0",
      "_view_name": "LayoutView",
      "align_content": null,
      "align_items": null,
      "align_self": null,
      "border": null,
      "bottom": null,
      "display": null,
      "flex": null,
      "flex_flow": null,
      "grid_area": null,
      "grid_auto_columns": null,
      "grid_auto_flow": null,
      "grid_auto_rows": null,
      "grid_column": null,
      "grid_gap": null,
      "grid_row": null,
      "grid_template_areas": null,
      "grid_template_columns": null,
      "grid_template_rows": null,
      "height": null,
      "justify_content": null,
      "justify_items": null,
      "left": null,
      "margin": null,
      "max_height": null,
      "max_width": null,
      "min_height": null,
      "min_width": null,
      "object_fit": null,
      "object_position": null,
      "order": null,
      "overflow": null,
      "overflow_x": null,
      "overflow_y": null,
      "padding": null,
      "right": null,
      "top": null,
      "visibility": null,
      "width": null
     }
    },
    "d1891d35dd8b461da82083a546608ce7": {
     "model_module": "@jupyter-widgets/controls",
     "model_module_version": "1.5.0",
     "model_name": "HTMLModel",
     "state": {
      "_dom_classes": [],
      "_model_module": "@jupyter-widgets/controls",
      "_model_module_version": "1.5.0",
      "_model_name": "HTMLModel",
      "_view_count": null,
      "_view_module": "@jupyter-widgets/controls",
      "_view_module_version": "1.5.0",
      "_view_name": "HTMLView",
      "description": "",
      "description_tooltip": null,
      "layout": "IPY_MODEL_e1437b52d7bd48cc8dcb0d44c9cc3882",
      "placeholder": "​",
      "style": "IPY_MODEL_0e588e03f5294ecf9603997db15bdec3",
      "value": " 232k/232k [00:00&lt;00:00, 1.47MB/s]"
     }
    },
    "df08fdbd9d834906af9bae85912791ca": {
     "model_module": "@jupyter-widgets/controls",
     "model_module_version": "1.5.0",
     "model_name": "ProgressStyleModel",
     "state": {
      "_model_module": "@jupyter-widgets/controls",
      "_model_module_version": "1.5.0",
      "_model_name": "ProgressStyleModel",
      "_view_count": null,
      "_view_module": "@jupyter-widgets/base",
      "_view_module_version": "1.2.0",
      "_view_name": "StyleView",
      "bar_color": null,
      "description_width": ""
     }
    },
    "dfd2fa9c3e4b42348916289642e75146": {
     "model_module": "@jupyter-widgets/controls",
     "model_module_version": "1.5.0",
     "model_name": "HTMLModel",
     "state": {
      "_dom_classes": [],
      "_model_module": "@jupyter-widgets/controls",
      "_model_module_version": "1.5.0",
      "_model_name": "HTMLModel",
      "_view_count": null,
      "_view_module": "@jupyter-widgets/controls",
      "_view_module_version": "1.5.0",
      "_view_name": "HTMLView",
      "description": "",
      "description_tooltip": null,
      "layout": "IPY_MODEL_c83c94825d6d45179649d2bfe9b867b5",
      "placeholder": "​",
      "style": "IPY_MODEL_a58fff2326634cce96fb207a547f1a89",
      "value": " 28.0/28.0 [00:00&lt;00:00, 475B/s]"
     }
    },
    "e1437b52d7bd48cc8dcb0d44c9cc3882": {
     "model_module": "@jupyter-widgets/base",
     "model_module_version": "1.2.0",
     "model_name": "LayoutModel",
     "state": {
      "_model_module": "@jupyter-widgets/base",
      "_model_module_version": "1.2.0",
      "_model_name": "LayoutModel",
      "_view_count": null,
      "_view_module": "@jupyter-widgets/base",
      "_view_module_version": "1.2.0",
      "_view_name": "LayoutView",
      "align_content": null,
      "align_items": null,
      "align_self": null,
      "border": null,
      "bottom": null,
      "display": null,
      "flex": null,
      "flex_flow": null,
      "grid_area": null,
      "grid_auto_columns": null,
      "grid_auto_flow": null,
      "grid_auto_rows": null,
      "grid_column": null,
      "grid_gap": null,
      "grid_row": null,
      "grid_template_areas": null,
      "grid_template_columns": null,
      "grid_template_rows": null,
      "height": null,
      "justify_content": null,
      "justify_items": null,
      "left": null,
      "margin": null,
      "max_height": null,
      "max_width": null,
      "min_height": null,
      "min_width": null,
      "object_fit": null,
      "object_position": null,
      "order": null,
      "overflow": null,
      "overflow_x": null,
      "overflow_y": null,
      "padding": null,
      "right": null,
      "top": null,
      "visibility": null,
      "width": null
     }
    },
    "e567002c82bd472f91a1531a006f94a0": {
     "model_module": "@jupyter-widgets/base",
     "model_module_version": "1.2.0",
     "model_name": "LayoutModel",
     "state": {
      "_model_module": "@jupyter-widgets/base",
      "_model_module_version": "1.2.0",
      "_model_name": "LayoutModel",
      "_view_count": null,
      "_view_module": "@jupyter-widgets/base",
      "_view_module_version": "1.2.0",
      "_view_name": "LayoutView",
      "align_content": null,
      "align_items": null,
      "align_self": null,
      "border": null,
      "bottom": null,
      "display": null,
      "flex": null,
      "flex_flow": null,
      "grid_area": null,
      "grid_auto_columns": null,
      "grid_auto_flow": null,
      "grid_auto_rows": null,
      "grid_column": null,
      "grid_gap": null,
      "grid_row": null,
      "grid_template_areas": null,
      "grid_template_columns": null,
      "grid_template_rows": null,
      "height": null,
      "justify_content": null,
      "justify_items": null,
      "left": null,
      "margin": null,
      "max_height": null,
      "max_width": null,
      "min_height": null,
      "min_width": null,
      "object_fit": null,
      "object_position": null,
      "order": null,
      "overflow": null,
      "overflow_x": null,
      "overflow_y": null,
      "padding": null,
      "right": null,
      "top": null,
      "visibility": null,
      "width": null
     }
    },
    "eca0e693899249998359c7e341c1ce79": {
     "model_module": "@jupyter-widgets/controls",
     "model_module_version": "1.5.0",
     "model_name": "FloatProgressModel",
     "state": {
      "_dom_classes": [],
      "_model_module": "@jupyter-widgets/controls",
      "_model_module_version": "1.5.0",
      "_model_name": "FloatProgressModel",
      "_view_count": null,
      "_view_module": "@jupyter-widgets/controls",
      "_view_module_version": "1.5.0",
      "_view_name": "ProgressView",
      "bar_style": "success",
      "description": "",
      "description_tooltip": null,
      "layout": "IPY_MODEL_e567002c82bd472f91a1531a006f94a0",
      "max": 570,
      "min": 0,
      "orientation": "horizontal",
      "style": "IPY_MODEL_0d41f3dbf747468aac87b4eb6a2b536c",
      "value": 570
     }
    },
    "fcc14123541b4dd68626b15c2e11046d": {
     "model_module": "@jupyter-widgets/controls",
     "model_module_version": "1.5.0",
     "model_name": "HTMLModel",
     "state": {
      "_dom_classes": [],
      "_model_module": "@jupyter-widgets/controls",
      "_model_module_version": "1.5.0",
      "_model_name": "HTMLModel",
      "_view_count": null,
      "_view_module": "@jupyter-widgets/controls",
      "_view_module_version": "1.5.0",
      "_view_name": "HTMLView",
      "description": "",
      "description_tooltip": null,
      "layout": "IPY_MODEL_b18ad008e6f9462a82bc8d450290052e",
      "placeholder": "​",
      "style": "IPY_MODEL_c18ea9a2c6ee48aaa2f6228614835cf3",
      "value": "tokenizer_config.json: 100%"
     }
    }
   }
  }
 },
 "nbformat": 4,
 "nbformat_minor": 0
}
